{
 "cells": [
  {
   "cell_type": "markdown",
   "metadata": {},
   "source": [
    "# AI@University - Preparation Material\n",
    "This preparation material aims to give you an intuition on the activities and skills needed during the upcoming workshop at your university. The center piece of this workshop will be a compact hacking competition, in which you solve a given customer case in small groups, using Machine Learning. This notebook illustrates the general approach to solving such a case study, and it is recommended to follow a similar structure during the hacking competition of the workshop.\n",
    "\n",
    "### Prerequisites\n",
    "Familiarity with the **Python 3** programming language, related libraries, such as **pandas**, **numpy** or **scikit-learn**, as well as **Jupyter Notebooks** are required. So before the workshop, please make sure that you have installed Python 3 and Juypter Notebooks, preferrably using the [Anaconda distribution](https://www.anaconda.com/download/#macos), as it already contains a set of useful Data Science libraries.\n",
    "\n",
    "**Note**:\n",
    "* When downloading this file to macOS, it automatically gets converted to a text file. To be able to open it as a Jupyter Notebook, select the file and press `command` + `i`. In the opening detail view, delte the file ending `.txt`\n",
    "\n",
    "# Case Study: Thomas J. Watson Hospital - Oncology Department\n",
    "You have been hired as a consulting team of Data Scientists by the oncology department of the **Thomas J. \n",
    "Watson Hospital** in **Berlin**.\n",
    "\n",
    "The oncology department is highly recognized and attracts patients from all over the world\n",
    "due to its exceptional and effective treatment methods.\n",
    "\n",
    "To maintain its excellent reputation and pioneer in the area of cancer treatment, the Thomas J. Watson hospital\n",
    "setup a new Technology Council with the goal to investigate future-oriented technologies to support its oncologists. Concretely, the Council agreed to target the identification of breast cancer in its early stages, which enables treating the disease more effectively.\n",
    "\n",
    "You have been engaged by the Technology Counsil to find a solution that assists the oncologists in classifying whether a breast tumor is \n",
    "**malignant** or **benign**.\n",
    "\n",
    "You should present your results to the hospital board coming Friday. Keep in mind to present your findings in a way\n",
    "that both business and technical stakeholders feel addressed.\n",
    "\n",
    "## Business Understanding\n",
    "Breast cancer is the most common cancer among women and one of the major causes of death worldwide.\n",
    "Every year approximately 124 out of 100,000 women are diagnosed with breast cancer, and the estimation is that 23 out of the 124 women will die of this disease. When  detected  in  its  early  stages,  there  is  a  30%  chance that  the cancer can be treated effectively, but the late detection of advanced-stage tumors makes the treatment more difficult.\n",
    "\n",
    "### Business objectives:\n",
    "__What does our client want?__ Our client wants a technical solution capable of classifying breast cancer based on early stage properties of analised lumps. This is not meant as a replacement of human practitioners, but rather as an additional tool in their toolbox to provide effective screening.\n",
    "\n",
    "__Do I need AI for that?__ You could probably come up with other solutions, but for the sake of this demo we'll just say \"yes, you do\" ;)\n",
    "\n",
    "### Assess situation:\n",
    "__What are available resources?__ For this use case we'll provide you with the data to use for your application. In real life having a good picture of what data could be obtained, as well as knowing how many people will work on the developmen, is crucial to understand *if* the solution is feasible and in how much time! (You'll typically agree on a deadline with the client).\n",
    "\n",
    "### Technical goals:\n",
    "__When is a solution \"good enough\"?__ This would be something to be discussed with medical practitioners, who have first hand experience with tumor diagnosis, and are the targeted users for our application. If at the end of the development they find our solution not good enough, we will have wasted a lot of time and money.\n",
    "\n",
    "## Data Understanding\n",
    "### Collect data\n",
    "__What kind of data do you have?__\n",
    "This breast cancer databases was obtained from the University of Wisconsin Hospitals, Madison from Dr. William H. Wolberg:\n",
    "\n",
    "**Wisconsin Breast Cancer Database** (January 8, 1991), O. L. Mangasarian and W. H. Wolberg: \"Cancer diagnosis via linear programming\", SIAM News, Volume 23, Number 5, September 1990, pp 1 & 18, link: https://archive.ics.uci.edu/ml/machine-learning-databases/breast-cancer-wisconsin/\n",
    "\n",
    "__Can it be used freely?__ If it's data you found online (like in this case) you'll have to read the Terms of Use. If it's private data, always check with the provider! In this case the Citation Policy of this dataset requires us to cite the source as done just above.\n",
    "\n",
    "### Explore data\n",
    "__What variables do I have?__\n",
    "The database is a `.csv` file, i.e. a table: each row corresponds to one analyzed \"lump\", which could turn out to be benign or malign. Each column corresponds to one specific property of such lump. The last column, `class`, is called the label, because it labels the lump as good or bad.\n",
    "\n",
    "Attribute|Description\n",
    "---|---\n",
    "sample_code_number|ID number of sample\n",
    "clump_thickness|In the Clump thickness benign cells tend to be grouped in monolayers, while cancerous cells are often grouped in multilayer.\n",
    "uniformity_of_cell_size|While in the Uniformity of cell size/shape the cancer cells tend to vary in size and shape. That is why these parameters are valuable in determining whether the cells are cancerous or not. \n",
    "uniformity_of_cell_shape|see above\n",
    "marginal_adhesion|In the case of Marginal adhesion the normal cells tend to stick together, where cancer cells tend to lose this ability. So loss of adhesion is a sign of malignancy.\n",
    "single_epithelial_cell_size|In the Single epithelial cell size the size is related to the uniformity mentioned above. Epithelial cells that are significantly enlarged may be a malignant cell.\n",
    "bare_nuclei|The Bare nuclei is a term used for nuclei that is not surrounded by cytoplasm (the rest of the cell). Those are typically seen in benign tumors. \n",
    "bland_chromatin|The Bland Chromatin describes a uniform \"texture\" of the nucleus seen in benign cells. In cancer cells the chromatin tends to be coarser. \n",
    "normal_nucleoli|The Normal nucleoli are small structures seen in the nucleus. In normal cells the nucleolus is usually very small if visible. In cancer cells the nucleoli become more prominent, and sometimes there are more of them. \n",
    "mitoses|Finally, Mitoses is nuclear division plus cytokines and produce two identical daughter cells during prophase. It is the process in which the cell divides and replicates. Pathologists can determine the grade of cancer by counting the number of mitoses\n",
    "class|Label: Benign=2, Malignant=4\n",
    "\n"
   ]
  },
  {
   "cell_type": "markdown",
   "metadata": {},
   "source": [
    "To answer the other questions in this phase, we dig a bit deeper in the data:"
   ]
  },
  {
   "cell_type": "markdown",
   "metadata": {},
   "source": [
    "#### Setup"
   ]
  },
  {
   "cell_type": "code",
   "execution_count": 45,
   "metadata": {},
   "outputs": [],
   "source": [
    "from time import time\n",
    "from collections import Counter\n",
    "from pathlib import Path\n",
    "import pandas as pd\n",
    "import numpy as np\n",
    "from sklearn.svm import LinearSVC\n",
    "from sklearn.linear_model import LogisticRegression, SGDClassifier\n",
    "from sklearn.preprocessing import StandardScaler\n",
    "from sklearn.pipeline import Pipeline\n",
    "from sklearn.model_selection import train_test_split, ShuffleSplit, cross_validate\n",
    "from sklearn.metrics import f1_score\n",
    "import matplotlib.pyplot as plt\n",
    "import seaborn as sns\n",
    "from joblib import dump, load\n",
    "%matplotlib inline\n",
    "import warnings\n",
    "warnings.filterwarnings('ignore')"
   ]
  },
  {
   "cell_type": "markdown",
   "metadata": {},
   "source": [
    "Specify in which directory the input data is kept."
   ]
  },
  {
   "cell_type": "code",
   "execution_count": 4,
   "metadata": {},
   "outputs": [],
   "source": [
    "data_directory = Path('./data')"
   ]
  },
  {
   "cell_type": "markdown",
   "metadata": {},
   "source": [
    "Let's first look at the labelled data, which we can use for training:"
   ]
  },
  {
   "cell_type": "code",
   "execution_count": 5,
   "metadata": {
    "scrolled": true
   },
   "outputs": [
    {
     "name": "stdout",
     "output_type": "stream",
     "text": [
      "10 features and 559 training examples\n"
     ]
    },
    {
     "data": {
      "text/html": [
       "<div>\n",
       "<style scoped>\n",
       "    .dataframe tbody tr th:only-of-type {\n",
       "        vertical-align: middle;\n",
       "    }\n",
       "\n",
       "    .dataframe tbody tr th {\n",
       "        vertical-align: top;\n",
       "    }\n",
       "\n",
       "    .dataframe thead th {\n",
       "        text-align: right;\n",
       "    }\n",
       "</style>\n",
       "<table border=\"1\" class=\"dataframe\">\n",
       "  <thead>\n",
       "    <tr style=\"text-align: right;\">\n",
       "      <th></th>\n",
       "      <th>sample_code_number</th>\n",
       "      <th>uniformity_of_cell_shape</th>\n",
       "      <th>uniformity_of_cell_size</th>\n",
       "      <th>clump_thickness</th>\n",
       "      <th>bare_nuclei</th>\n",
       "      <th>cell_size</th>\n",
       "      <th>normal_nucleoli</th>\n",
       "      <th>clump_cohesiveness</th>\n",
       "      <th>nuclear_chromatin</th>\n",
       "      <th>mitoses</th>\n",
       "      <th>class</th>\n",
       "    </tr>\n",
       "  </thead>\n",
       "  <tbody>\n",
       "    <tr>\n",
       "      <th>0</th>\n",
       "      <td>557583</td>\n",
       "      <td>5</td>\n",
       "      <td>10</td>\n",
       "      <td>10</td>\n",
       "      <td>10</td>\n",
       "      <td>10</td>\n",
       "      <td>10</td>\n",
       "      <td>10</td>\n",
       "      <td>1</td>\n",
       "      <td>1</td>\n",
       "      <td>4</td>\n",
       "    </tr>\n",
       "    <tr>\n",
       "      <th>1</th>\n",
       "      <td>1230688</td>\n",
       "      <td>7</td>\n",
       "      <td>4</td>\n",
       "      <td>7</td>\n",
       "      <td>4</td>\n",
       "      <td>3</td>\n",
       "      <td>7</td>\n",
       "      <td>7</td>\n",
       "      <td>6</td>\n",
       "      <td>1</td>\n",
       "      <td>4</td>\n",
       "    </tr>\n",
       "    <tr>\n",
       "      <th>2</th>\n",
       "      <td>787451</td>\n",
       "      <td>5</td>\n",
       "      <td>1</td>\n",
       "      <td>2</td>\n",
       "      <td>1</td>\n",
       "      <td>2</td>\n",
       "      <td>1</td>\n",
       "      <td>1</td>\n",
       "      <td>1</td>\n",
       "      <td>1</td>\n",
       "      <td>2</td>\n",
       "    </tr>\n",
       "    <tr>\n",
       "      <th>3</th>\n",
       "      <td>1238777</td>\n",
       "      <td>1</td>\n",
       "      <td>1</td>\n",
       "      <td>1</td>\n",
       "      <td>1</td>\n",
       "      <td>2</td>\n",
       "      <td>1</td>\n",
       "      <td>1</td>\n",
       "      <td>1</td>\n",
       "      <td>1</td>\n",
       "      <td>2</td>\n",
       "    </tr>\n",
       "    <tr>\n",
       "      <th>4</th>\n",
       "      <td>1371026</td>\n",
       "      <td>5</td>\n",
       "      <td>10</td>\n",
       "      <td>10</td>\n",
       "      <td>10</td>\n",
       "      <td>4</td>\n",
       "      <td>10</td>\n",
       "      <td>5</td>\n",
       "      <td>6</td>\n",
       "      <td>3</td>\n",
       "      <td>4</td>\n",
       "    </tr>\n",
       "  </tbody>\n",
       "</table>\n",
       "</div>"
      ],
      "text/plain": [
       "   sample_code_number  uniformity_of_cell_shape  uniformity_of_cell_size  \\\n",
       "0              557583                         5                       10   \n",
       "1             1230688                         7                        4   \n",
       "2              787451                         5                        1   \n",
       "3             1238777                         1                        1   \n",
       "4             1371026                         5                       10   \n",
       "\n",
       "   clump_thickness  bare_nuclei  cell_size normal_nucleoli  \\\n",
       "0               10           10         10              10   \n",
       "1                7            4          3               7   \n",
       "2                2            1          2               1   \n",
       "3                1            1          2               1   \n",
       "4               10           10          4              10   \n",
       "\n",
       "   clump_cohesiveness  nuclear_chromatin  mitoses  class  \n",
       "0                  10                  1        1      4  \n",
       "1                   7                  6        1      4  \n",
       "2                   1                  1        1      2  \n",
       "3                   1                  1        1      2  \n",
       "4                   5                  6        3      4  "
      ]
     },
     "execution_count": 5,
     "metadata": {},
     "output_type": "execute_result"
    }
   ],
   "source": [
    "data = pd.read_csv(data_directory / 'breast_cancer_train.csv')\n",
    "print(data.shape[1] - 1,'features and',data.shape[0],'training examples')\n",
    "data.head()"
   ]
  },
  {
   "cell_type": "markdown",
   "metadata": {},
   "source": [
    "__Is there enough information to solve the task?__ The dataset contains 10 features (the non-label columns) which potentially correlate with a tumor being benign or malign, and we have ~550 training examples. A rule of thumb for starters is that you need to have *at least* 10 times more training examples than the number of features in order for the model to learn something. This is not always true (data might be garbage), but if already at this stage you see you don't have sufficient data, you can save a lot of time by first searching for better data, instead of diving in the development phases."
   ]
  },
  {
   "cell_type": "markdown",
   "metadata": {},
   "source": [
    "Now let's look at the test data (which is not labelled because we don't know in advance what the true label is):\n"
   ]
  },
  {
   "cell_type": "code",
   "execution_count": 6,
   "metadata": {},
   "outputs": [
    {
     "name": "stdout",
     "output_type": "stream",
     "text": [
      "10 features and 140 test examples\n"
     ]
    },
    {
     "data": {
      "text/html": [
       "<div>\n",
       "<style scoped>\n",
       "    .dataframe tbody tr th:only-of-type {\n",
       "        vertical-align: middle;\n",
       "    }\n",
       "\n",
       "    .dataframe tbody tr th {\n",
       "        vertical-align: top;\n",
       "    }\n",
       "\n",
       "    .dataframe thead th {\n",
       "        text-align: right;\n",
       "    }\n",
       "</style>\n",
       "<table border=\"1\" class=\"dataframe\">\n",
       "  <thead>\n",
       "    <tr style=\"text-align: right;\">\n",
       "      <th></th>\n",
       "      <th>sample_code_number</th>\n",
       "      <th>uniformity_of_cell_shape</th>\n",
       "      <th>uniformity_of_cell_size</th>\n",
       "      <th>clump_thickness</th>\n",
       "      <th>bare_nuclei</th>\n",
       "      <th>cell_size</th>\n",
       "      <th>normal_nucleoli</th>\n",
       "      <th>clump_cohesiveness</th>\n",
       "      <th>nuclear_chromatin</th>\n",
       "      <th>mitoses</th>\n",
       "      <th>class</th>\n",
       "    </tr>\n",
       "  </thead>\n",
       "  <tbody>\n",
       "    <tr>\n",
       "      <th>0</th>\n",
       "      <td>1056171</td>\n",
       "      <td>2</td>\n",
       "      <td>1</td>\n",
       "      <td>1</td>\n",
       "      <td>1</td>\n",
       "      <td>2</td>\n",
       "      <td>1</td>\n",
       "      <td>2</td>\n",
       "      <td>1</td>\n",
       "      <td>1</td>\n",
       "      <td>NaN</td>\n",
       "    </tr>\n",
       "    <tr>\n",
       "      <th>1</th>\n",
       "      <td>1179818</td>\n",
       "      <td>2</td>\n",
       "      <td>1</td>\n",
       "      <td>1</td>\n",
       "      <td>1</td>\n",
       "      <td>2</td>\n",
       "      <td>1</td>\n",
       "      <td>3</td>\n",
       "      <td>1</td>\n",
       "      <td>1</td>\n",
       "      <td>NaN</td>\n",
       "    </tr>\n",
       "    <tr>\n",
       "      <th>2</th>\n",
       "      <td>1334015</td>\n",
       "      <td>7</td>\n",
       "      <td>8</td>\n",
       "      <td>8</td>\n",
       "      <td>7</td>\n",
       "      <td>3</td>\n",
       "      <td>10</td>\n",
       "      <td>7</td>\n",
       "      <td>2</td>\n",
       "      <td>3</td>\n",
       "      <td>NaN</td>\n",
       "    </tr>\n",
       "    <tr>\n",
       "      <th>3</th>\n",
       "      <td>1287282</td>\n",
       "      <td>3</td>\n",
       "      <td>1</td>\n",
       "      <td>1</td>\n",
       "      <td>1</td>\n",
       "      <td>2</td>\n",
       "      <td>1</td>\n",
       "      <td>1</td>\n",
       "      <td>1</td>\n",
       "      <td>1</td>\n",
       "      <td>NaN</td>\n",
       "    </tr>\n",
       "    <tr>\n",
       "      <th>4</th>\n",
       "      <td>1265899</td>\n",
       "      <td>4</td>\n",
       "      <td>1</td>\n",
       "      <td>1</td>\n",
       "      <td>1</td>\n",
       "      <td>2</td>\n",
       "      <td>1</td>\n",
       "      <td>3</td>\n",
       "      <td>1</td>\n",
       "      <td>1</td>\n",
       "      <td>NaN</td>\n",
       "    </tr>\n",
       "  </tbody>\n",
       "</table>\n",
       "</div>"
      ],
      "text/plain": [
       "   sample_code_number  uniformity_of_cell_shape  uniformity_of_cell_size  \\\n",
       "0             1056171                         2                        1   \n",
       "1             1179818                         2                        1   \n",
       "2             1334015                         7                        8   \n",
       "3             1287282                         3                        1   \n",
       "4             1265899                         4                        1   \n",
       "\n",
       "   clump_thickness  bare_nuclei  cell_size normal_nucleoli  \\\n",
       "0                1            1          2               1   \n",
       "1                1            1          2               1   \n",
       "2                8            7          3              10   \n",
       "3                1            1          2               1   \n",
       "4                1            1          2               1   \n",
       "\n",
       "   clump_cohesiveness  nuclear_chromatin  mitoses  class  \n",
       "0                   2                  1        1    NaN  \n",
       "1                   3                  1        1    NaN  \n",
       "2                   7                  2        3    NaN  \n",
       "3                   1                  1        1    NaN  \n",
       "4                   3                  1        1    NaN  "
      ]
     },
     "execution_count": 6,
     "metadata": {},
     "output_type": "execute_result"
    }
   ],
   "source": [
    "data_test = pd.read_csv(data_directory / 'breast_cancer_test.csv')\n",
    "print(data.shape[1] - 1,'features and',data_test.shape[0],'test examples')\n",
    "data_test.head()"
   ]
  },
  {
   "cell_type": "markdown",
   "metadata": {},
   "source": [
    "As we can see, that test data is missing values for the target value `class`, which should be predicted by our algorithm."
   ]
  },
  {
   "cell_type": "markdown",
   "metadata": {},
   "source": [
    "__How are variables distributed?__ "
   ]
  },
  {
   "cell_type": "code",
   "execution_count": 7,
   "metadata": {},
   "outputs": [
    {
     "data": {
      "text/plain": [
       "<matplotlib.axes._subplots.AxesSubplot at 0x1fd776122e0>"
      ]
     },
     "execution_count": 7,
     "metadata": {},
     "output_type": "execute_result"
    },
    {
     "data": {
      "image/png": "[encoded data removed]",
      "text/plain": [
       "<Figure size 432x288 with 1 Axes>"
      ]
     },
     "metadata": {
      "needs_background": "light"
     },
     "output_type": "display_data"
    }
   ],
   "source": [
    "data[\"class\"].value_counts().plot(kind=\"bar\")"
   ]
  },
  {
   "cell_type": "markdown",
   "metadata": {},
   "source": [
    "The bar plot above tells us that our training set has a larger number of examples with `class` = 2 (i.e. benign tumors) than with `class` = 4. This is called *class imbalance* and is to be expected in almost all real world datasets. Machine learning classifiers generally perform better when they can learn from an equal number of events for each class. A few techniques to correct for class imbalance are:\n",
    "- Get more data (always do it if you can!)\n",
    "- Undersampling (only take a subset of the majority class examples)\n",
    "- Oversampling (artificially generate examples for the minority class)\n",
    "\n",
    "The [imbalanced-learn](https://github.com/scikit-learn-contrib/imbalanced-learn) package implements some of the most common under/oversampling techniques."
   ]
  },
  {
   "cell_type": "code",
   "execution_count": 8,
   "metadata": {
    "scrolled": true
   },
   "outputs": [
    {
     "data": {
      "image/png": "[encoded data removed]",
      "text/plain": [
       "<Figure size 720x216 with 2 Axes>"
      ]
     },
     "metadata": {
      "needs_background": "light"
     },
     "output_type": "display_data"
    },
    {
     "data": {
      "image/png": "[encoded data removed]",
      "text/plain": [
       "<Figure size 720x216 with 2 Axes>"
      ]
     },
     "metadata": {
      "needs_background": "light"
     },
     "output_type": "display_data"
    },
    {
     "data": {
      "image/png": "[encoded data removed]",
      "text/plain": [
       "<Figure size 720x216 with 2 Axes>"
      ]
     },
     "metadata": {
      "needs_background": "light"
     },
     "output_type": "display_data"
    },
    {
     "data": {
      "image/png": "[encoded data removed]",
      "text/plain": [
       "<Figure size 720x216 with 2 Axes>"
      ]
     },
     "metadata": {
      "needs_background": "light"
     },
     "output_type": "display_data"
    },
    {
     "data": {
      "image/png": "[encoded data removed]",
      "text/plain": [
       "<Figure size 720x216 with 2 Axes>"
      ]
     },
     "metadata": {
      "needs_background": "light"
     },
     "output_type": "display_data"
    },
    {
     "data": {
      "image/png": "[encoded data removed]",
      "text/plain": [
       "<Figure size 720x216 with 2 Axes>"
      ]
     },
     "metadata": {
      "needs_background": "light"
     },
     "output_type": "display_data"
    },
    {
     "data": {
      "image/png": "[encoded data removed]",
      "text/plain": [
       "<Figure size 720x216 with 2 Axes>"
      ]
     },
     "metadata": {
      "needs_background": "light"
     },
     "output_type": "display_data"
    },
    {
     "data": {
      "image/png": "[encoded data removed]",
      "text/plain": [
       "<Figure size 720x216 with 2 Axes>"
      ]
     },
     "metadata": {
      "needs_background": "light"
     },
     "output_type": "display_data"
    },
    {
     "data": {
      "image/png": "[encoded data removed]",
      "text/plain": [
       "<Figure size 720x216 with 2 Axes>"
      ]
     },
     "metadata": {
      "needs_background": "light"
     },
     "output_type": "display_data"
    },
    {
     "data": {
      "image/png": "[encoded data removed]",
      "text/plain": [
       "<Figure size 720x216 with 2 Axes>"
      ]
     },
     "metadata": {
      "needs_background": "light"
     },
     "output_type": "display_data"
    },
    {
     "data": {
      "image/png": "[encoded data removed]",
      "text/plain": [
       "<Figure size 720x216 with 2 Axes>"
      ]
     },
     "metadata": {
      "needs_background": "light"
     },
     "output_type": "display_data"
    }
   ],
   "source": [
    "for col in data.columns:\n",
    "    fig, axs = plt.subplots(1, 2, figsize=[10, 3])\n",
    "    axs[0].hist(data[col])\n",
    "    axs[0].set_title(col + \" training distribution\")\n",
    "    if not data_test[col].isna().all():\n",
    "        axs[1].hist(data_test[col])\n",
    "        axs[1].set_title(col + \" test distribution\")"
   ]
  },
  {
   "cell_type": "markdown",
   "metadata": {},
   "source": [
    "Apart from `sample_code_number`, whcih acts as unique identifier and will be dropped before training, and `class`, which obviously only has 2 values, all other variables show different types of distribution. Many of them show a large prevalence of a few values. Some class of models, e.g. linear models, assume that the independent variables used as input are normally distributed (normal = Gaussian, in this context). Also, they all have values between 1 and 10.\n",
    "\n",
    "\n",
    "We might want to do some variable pre-processing before feeding them to our machine learning models."
   ]
  },
  {
   "cell_type": "markdown",
   "metadata": {},
   "source": [
    "__Are variables correlated?__ Correlations can give us first hints on which variables could be most useful for predictions. Two examples:\n",
    "- When two independent variables (i.e. those used as input for our models) are highly correlated, we could think of just using one of the two and dropping the other, since they carry \"similar information\"\n",
    "- When one independent variable correlates with the desired target variable (e.g. a large asymmetry of the lump correlates with the label being malign) then we have a strong indication that that variable is highly informative, and we should be sure to include it in our model.\n",
    "\n",
    "There are a bunch of possible correlations to be calculated. Here we limit ourselves to [Pearson's correlation](https://en.wikipedia.org/wiki/Pearson_correlation_coefficient):"
   ]
  },
  {
   "cell_type": "code",
   "execution_count": 9,
   "metadata": {},
   "outputs": [
    {
     "data": {
      "image/png": "[encoded data removed]",
      "text/plain": [
       "<Figure size 720x504 with 2 Axes>"
      ]
     },
     "metadata": {
      "needs_background": "light"
     },
     "output_type": "display_data"
    }
   ],
   "source": [
    "# only done here for training dataset\n",
    "correlation_matrix = data.corr()\n",
    "fig = plt.figure(figsize=(10, 7))\n",
    "ax = plt.axes()\n",
    "ax = sns.heatmap(correlation_matrix, mask=np.zeros_like(correlation_matrix, dtype=np.bool), cmap=\"Blues\", square=True, ax = ax)\n",
    "plt.show()"
   ]
  },
  {
   "cell_type": "markdown",
   "metadata": {},
   "source": [
    "Here a value close to 1 indicates strong correlation, a value close to 0 a weak/absent correlation."
   ]
  },
  {
   "cell_type": "markdown",
   "metadata": {},
   "source": [
    "### Data quality\n",
    "__How much data is missing?__ Check whether the data contains any null / NaN values or if any values do not correspond to the anticipated datatypes."
   ]
  },
  {
   "cell_type": "code",
   "execution_count": 10,
   "metadata": {},
   "outputs": [
    {
     "data": {
      "text/plain": [
       "sample_code_number          0\n",
       "uniformity_of_cell_shape    0\n",
       "uniformity_of_cell_size     0\n",
       "clump_thickness             0\n",
       "bare_nuclei                 0\n",
       "cell_size                   0\n",
       "normal_nucleoli             0\n",
       "clump_cohesiveness          0\n",
       "nuclear_chromatin           0\n",
       "mitoses                     0\n",
       "class                       0\n",
       "dtype: int64"
      ]
     },
     "execution_count": 10,
     "metadata": {},
     "output_type": "execute_result"
    }
   ],
   "source": [
    "# For each column the number of missing entries (\"null entries\") is returned\n",
    "data.isnull().sum()"
   ]
  },
  {
   "cell_type": "code",
   "execution_count": 11,
   "metadata": {},
   "outputs": [
    {
     "data": {
      "text/plain": [
       "sample_code_number            0\n",
       "uniformity_of_cell_shape      0\n",
       "uniformity_of_cell_size       0\n",
       "clump_thickness               0\n",
       "bare_nuclei                   0\n",
       "cell_size                     0\n",
       "normal_nucleoli               0\n",
       "clump_cohesiveness            0\n",
       "nuclear_chromatin             0\n",
       "mitoses                       0\n",
       "class                       140\n",
       "dtype: int64"
      ]
     },
     "execution_count": 11,
     "metadata": {},
     "output_type": "execute_result"
    }
   ],
   "source": [
    "data_test.isnull().sum()"
   ]
  },
  {
   "cell_type": "markdown",
   "metadata": {},
   "source": [
    "The training set has no missing values (labelled with `NaN`), which is good! The test set only has missing values for the `class` attribute, but we know that is ok, because it's the attribute we want to predict."
   ]
  },
  {
   "cell_type": "code",
   "execution_count": 12,
   "metadata": {},
   "outputs": [
    {
     "data": {
      "text/plain": [
       "sample_code_number           int64\n",
       "uniformity_of_cell_shape     int64\n",
       "uniformity_of_cell_size      int64\n",
       "clump_thickness              int64\n",
       "bare_nuclei                  int64\n",
       "cell_size                    int64\n",
       "normal_nucleoli             object\n",
       "clump_cohesiveness           int64\n",
       "nuclear_chromatin            int64\n",
       "mitoses                      int64\n",
       "class                        int64\n",
       "dtype: object"
      ]
     },
     "execution_count": 12,
     "metadata": {},
     "output_type": "execute_result"
    }
   ],
   "source": [
    "data.dtypes"
   ]
  },
  {
   "cell_type": "code",
   "execution_count": 13,
   "metadata": {},
   "outputs": [
    {
     "data": {
      "text/plain": [
       "sample_code_number            int64\n",
       "uniformity_of_cell_shape      int64\n",
       "uniformity_of_cell_size       int64\n",
       "clump_thickness               int64\n",
       "bare_nuclei                   int64\n",
       "cell_size                     int64\n",
       "normal_nucleoli              object\n",
       "clump_cohesiveness            int64\n",
       "nuclear_chromatin             int64\n",
       "mitoses                       int64\n",
       "class                       float64\n",
       "dtype: object"
      ]
     },
     "execution_count": 13,
     "metadata": {},
     "output_type": "execute_result"
    }
   ],
   "source": [
    "data_test.dtypes"
   ]
  },
  {
   "cell_type": "markdown",
   "metadata": {},
   "source": [
    "The feature column `normal_nucleoli` is of datatype `object`, although it should contain only digits. Let's check which non-digit values can be found in the dataframe using the `isdigit()` function of pandas."
   ]
  },
  {
   "cell_type": "code",
   "execution_count": 14,
   "metadata": {},
   "outputs": [
    {
     "data": {
      "text/html": [
       "<div>\n",
       "<style scoped>\n",
       "    .dataframe tbody tr th:only-of-type {\n",
       "        vertical-align: middle;\n",
       "    }\n",
       "\n",
       "    .dataframe tbody tr th {\n",
       "        vertical-align: top;\n",
       "    }\n",
       "\n",
       "    .dataframe thead th {\n",
       "        text-align: right;\n",
       "    }\n",
       "</style>\n",
       "<table border=\"1\" class=\"dataframe\">\n",
       "  <thead>\n",
       "    <tr style=\"text-align: right;\">\n",
       "      <th></th>\n",
       "      <th>normal_nucleoli</th>\n",
       "    </tr>\n",
       "  </thead>\n",
       "  <tbody>\n",
       "    <tr>\n",
       "      <th>33</th>\n",
       "      <td>?</td>\n",
       "    </tr>\n",
       "    <tr>\n",
       "      <th>48</th>\n",
       "      <td>?</td>\n",
       "    </tr>\n",
       "    <tr>\n",
       "      <th>65</th>\n",
       "      <td>?</td>\n",
       "    </tr>\n",
       "    <tr>\n",
       "      <th>89</th>\n",
       "      <td>?</td>\n",
       "    </tr>\n",
       "    <tr>\n",
       "      <th>104</th>\n",
       "      <td>?</td>\n",
       "    </tr>\n",
       "    <tr>\n",
       "      <th>181</th>\n",
       "      <td>?</td>\n",
       "    </tr>\n",
       "    <tr>\n",
       "      <th>231</th>\n",
       "      <td>?</td>\n",
       "    </tr>\n",
       "    <tr>\n",
       "      <th>276</th>\n",
       "      <td>?</td>\n",
       "    </tr>\n",
       "    <tr>\n",
       "      <th>343</th>\n",
       "      <td>?</td>\n",
       "    </tr>\n",
       "    <tr>\n",
       "      <th>398</th>\n",
       "      <td>?</td>\n",
       "    </tr>\n",
       "    <tr>\n",
       "      <th>450</th>\n",
       "      <td>?</td>\n",
       "    </tr>\n",
       "    <tr>\n",
       "      <th>455</th>\n",
       "      <td>?</td>\n",
       "    </tr>\n",
       "    <tr>\n",
       "      <th>474</th>\n",
       "      <td>?</td>\n",
       "    </tr>\n",
       "  </tbody>\n",
       "</table>\n",
       "</div>"
      ],
      "text/plain": [
       "    normal_nucleoli\n",
       "33                ?\n",
       "48                ?\n",
       "65                ?\n",
       "89                ?\n",
       "104               ?\n",
       "181               ?\n",
       "231               ?\n",
       "276               ?\n",
       "343               ?\n",
       "398               ?\n",
       "450               ?\n",
       "455               ?\n",
       "474               ?"
      ]
     },
     "execution_count": 14,
     "metadata": {},
     "output_type": "execute_result"
    }
   ],
   "source": [
    "data[~data['normal_nucleoli'].str.isdigit()][['normal_nucleoli']]"
   ]
  },
  {
   "cell_type": "code",
   "execution_count": 15,
   "metadata": {},
   "outputs": [
    {
     "data": {
      "text/html": [
       "<div>\n",
       "<style scoped>\n",
       "    .dataframe tbody tr th:only-of-type {\n",
       "        vertical-align: middle;\n",
       "    }\n",
       "\n",
       "    .dataframe tbody tr th {\n",
       "        vertical-align: top;\n",
       "    }\n",
       "\n",
       "    .dataframe thead th {\n",
       "        text-align: right;\n",
       "    }\n",
       "</style>\n",
       "<table border=\"1\" class=\"dataframe\">\n",
       "  <thead>\n",
       "    <tr style=\"text-align: right;\">\n",
       "      <th></th>\n",
       "      <th>normal_nucleoli</th>\n",
       "    </tr>\n",
       "  </thead>\n",
       "  <tbody>\n",
       "    <tr>\n",
       "      <th>82</th>\n",
       "      <td>?</td>\n",
       "    </tr>\n",
       "    <tr>\n",
       "      <th>102</th>\n",
       "      <td>?</td>\n",
       "    </tr>\n",
       "    <tr>\n",
       "      <th>133</th>\n",
       "      <td>?</td>\n",
       "    </tr>\n",
       "  </tbody>\n",
       "</table>\n",
       "</div>"
      ],
      "text/plain": [
       "    normal_nucleoli\n",
       "82                ?\n",
       "102               ?\n",
       "133               ?"
      ]
     },
     "execution_count": 15,
     "metadata": {},
     "output_type": "execute_result"
    }
   ],
   "source": [
    "data_test[~data_test['normal_nucleoli'].str.isdigit()][['normal_nucleoli']]"
   ]
  },
  {
   "cell_type": "markdown",
   "metadata": {},
   "source": [
    "How do we deal with the `?` entries in the datasets? We need to use a so-called imputation strategy. There are a number of strategies to use, depending on your use case:\n",
    "- Are the true values available somehwere? (maybe the doctor who inserted the data forgot those..)\n",
    "- Drop entries with missing values (not advised if you don't have too much data)\n",
    "- Drop columns with too many missing values\n",
    "- Replace missing values with mean/median/else of values in the same column\n",
    "- Train a separate model to predict the missing values based on the other attributes (probably the method introducing the least bias, but also the one requiring the most work)\n",
    "- [...]\n"
   ]
  },
  {
   "cell_type": "markdown",
   "metadata": {},
   "source": [
    "## Data Preparation\n",
    "### Select data\n",
    "__Which variables to use as input?__ All the available ones, except `sample_code_number`. Let's remove it:"
   ]
  },
  {
   "cell_type": "code",
   "execution_count": 16,
   "metadata": {},
   "outputs": [],
   "source": [
    "data.drop('sample_code_number', axis=1, inplace=True)\n",
    "data_test.drop('sample_code_number', axis=1, inplace=True)"
   ]
  },
  {
   "cell_type": "markdown",
   "metadata": {},
   "source": [
    "### Clean data\n",
    "The analysis of missing values performed above told us we need to correct for missing values in the `normal_nucleoli` column. In this case we replace the `?` with the median value in the same column.\n",
    "To do so we first convert them to `NaN` and then use pandas `fillna()` method:"
   ]
  },
  {
   "cell_type": "code",
   "execution_count": 17,
   "metadata": {},
   "outputs": [],
   "source": [
    "data[\"normal_nucleoli\"] = data[\"normal_nucleoli\"].replace(to_replace='?', value=np.nan)\n",
    "data_test[\"normal_nucleoli\"] = data_test[\"normal_nucleoli\"].replace(to_replace='?', value=np.nan)\n",
    "\n",
    "data[\"normal_nucleoli\"] = data[\"normal_nucleoli\"].fillna(data[\"normal_nucleoli\"].median())\n",
    "data_test[\"normal_nucleoli\"] = data_test[\"normal_nucleoli\"].fillna(data[\"normal_nucleoli\"].median())"
   ]
  },
  {
   "cell_type": "markdown",
   "metadata": {},
   "source": [
    "Additionally, we'd want to convert the class labels to `0` and `1`, to simplify compatibility with sklearn functions"
   ]
  },
  {
   "cell_type": "code",
   "execution_count": 58,
   "metadata": {},
   "outputs": [],
   "source": [
    "data[\"class\"] = data[\"class\"].map({2: 0, 4: 1})"
   ]
  },
  {
   "cell_type": "markdown",
   "metadata": {},
   "source": [
    "### Feature engineering\n",
    "You can think of fabricating additional features (especially if you have domain knowledge on the subject) to increase performance, or speed up training. \n",
    "\n",
    "We have also seen that all the independent variables are distributed between 1 and 10. It is common practice to re-scale the values before training (see [here](https://scikit-learn.org/stable/auto_examples/preprocessing/plot_all_scaling.html) for a nice overview of the most common used methods). This can be done manually at this stage, or it can be automatically integrated in our machine learning pipeline using the `Pipeline` object from scikit-learn. We'll follow the second approach. "
   ]
  },
  {
   "cell_type": "markdown",
   "metadata": {},
   "source": [
    "### Format data\n",
    "We now split the labelled data into *training* and *validation* data. The former is the data which the model will actually see during the training phase and that it will learn to classify. The validation set is used just after the training is finished to calculate the goodness of the model using the selected metric (e.g. accuracy). Typically you will train several models with several hyperparameter combinations and select the one with the best metric score on the validation set. \n",
    "\n",
    "__Important:__ do __NOT__ use the metric score of the *training* set to determine your best model. This is because a complex-enough model might simply learn to recognize all the training examples \"by heart\" and fail to recognize any other new example. This is called overfitting, and its trademark is a very high training metric score combined with a significantly lower validation score."
   ]
  },
  {
   "cell_type": "code",
   "execution_count": 59,
   "metadata": {},
   "outputs": [],
   "source": [
    "X = data[data.columns[:-1]]\n",
    "y = data[data.columns[-1]]\n",
    "\n",
    "X_train, X_valid, y_train, y_valid = train_test_split(X, y, test_size=0.25)"
   ]
  },
  {
   "cell_type": "markdown",
   "metadata": {},
   "source": [
    "The *test* set here will be used only at the end of the modeling phase, after we have selected our best model based on the results on the validation set. Our best model will predict the (unknown) class of the examples, and will generate a file for the submission."
   ]
  },
  {
   "cell_type": "code",
   "execution_count": 19,
   "metadata": {},
   "outputs": [],
   "source": [
    "X_test = data_test[data_test.columns[:-1]]"
   ]
  },
  {
   "cell_type": "markdown",
   "metadata": {},
   "source": [
    "## Modeling\n",
    "### Select modeling techniques:\n",
    "__Which classes of algorithms to use?__ For a binary classification problem like this there is *a lot* of possible algorithms to experiment with. If we stay away from deep learning for now, you can get an idea of the most used algorithms (and many more) by looking at [Scikit-Learn's documentation](https://scikit-learn.org/stable/supervised_learning.html#supervised-learning). This part of the pipeline typically involves a lot of experiments, and each data scientist has his/her own personal approach. Here a couple of useful guidelines:\n",
    "- __Start simple:__ You might spend a week tuning the hyperparameters of a super fancy multilayer perceptron, to then realize that it has a very similar performance to a vanilla logistic regression. \"Simple\" linear models sometimes have enough predictive power to exceed the business requirements set out in the initial phase, and have the advantage of being much easier to interpret and to tweak. If those models are not enough, then it is of course meaningful to experiment with more complex models.\n",
    "- __Combine predictions:__ The vast majority of deployed machine learning applications in the real world combine the predictions of different trained models. This technique, sometimes known as ensembling or bag of models, can be very powerful, because if used correctly it can combine the strengths of different models.\n",
    "- __Plan your experiments:__ It is good to have an intuitive understanding of what the different hyperparameters of a model do, and try to guess the impact of changing one of them on the performance. But generally the only way to find out is to try it out, and to compare the new result with a baseline. It might sound trivial, but be sure you choose your baseline correctly: if you want to comapre two different loss functions on a `LogisticRegression` model, be sure that the `loss` parameter is the only difference between them! Otherwise you can't really isolate the effect of that parameter."
   ]
  },
  {
   "cell_type": "code",
   "execution_count": 67,
   "metadata": {},
   "outputs": [],
   "source": [
    "model = LogisticRegression(verbose=1)"
   ]
  },
  {
   "cell_type": "markdown",
   "metadata": {},
   "source": [
    "It is good practice to preprocess the training data before feeding it to the model. Scikit-learn offers [a variety of preprocessors](https://scikit-learn.org/stable/modules/preprocessing.html). \n",
    "\n",
    "Another very convenient thing is to combine preprocessing and modeling directly in a pipeline, using the `Pipeline` class. In this way we can run training and prediction with one command each."
   ]
  },
  {
   "cell_type": "code",
   "execution_count": 68,
   "metadata": {},
   "outputs": [],
   "source": [
    "pipe = Pipeline([(\"preprocessing\", StandardScaler()),\n",
    "                 (\"model\", model)])"
   ]
  },
  {
   "cell_type": "markdown",
   "metadata": {},
   "source": [
    "### Define metrics and hyperparameters\n",
    "__What is my model exactly optimizing?__ You are not supposed to know all the math behind each model you train, but a general idea is typically useful. Scikit-learn's [User Guides](https://scikit-learn.org/stable/modules/linear_model.html#logistic-regression) are as good material as you can get, if you really want to go deep. \n",
    "\n",
    "__What measure do I have of its goodness?__ For a binary classification process a first choice could be simply looking at the accuracy. Remembering however that we have a class imbalance, it could be a good idea to look at precision and recall as well. For this use case we'll look at the F1-Score, which combines them.\n",
    "\n",
    "__What hyperparameters do I need to set before starting training?__ Always refer to the documentation to understand which parameters you have available (both for the model and for the preprocessor). It is a good idea to start with the default values (they're default for a reason), then play around with some of the most commmon (es. change loss function, change regularization loss and coefficient). If you see promising results with that model, you can perform a grid search and optimize the parameters automatically."
   ]
  },
  {
   "cell_type": "markdown",
   "metadata": {},
   "source": [
    "### Model artifacts\n",
    "__Do I need to save the trained model?__ Definitely a good idea. Ideally you'd also want to store more information about the whole trainig process in a log file."
   ]
  },
  {
   "cell_type": "code",
   "execution_count": 27,
   "metadata": {},
   "outputs": [],
   "source": [
    "results_dir = Path(\"./results\")"
   ]
  },
  {
   "cell_type": "markdown",
   "metadata": {},
   "source": [
    "### Execute\n",
    "Let's train that model!"
   ]
  },
  {
   "cell_type": "code",
   "execution_count": 69,
   "metadata": {},
   "outputs": [
    {
     "name": "stderr",
     "output_type": "stream",
     "text": [
      "[Parallel(n_jobs=1)]: Using backend SequentialBackend with 1 concurrent workers.\n",
      "[Parallel(n_jobs=1)]: Done   1 out of   1 | elapsed:    0.0s finished\n"
     ]
    },
    {
     "data": {
      "text/plain": [
       "Pipeline(steps=[('preprocessing', StandardScaler()),\n",
       "                ('model', LogisticRegression(verbose=1))])"
      ]
     },
     "execution_count": 69,
     "metadata": {},
     "output_type": "execute_result"
    }
   ],
   "source": [
    "# model training\n",
    "pipe.fit(X_train, y_train)"
   ]
  },
  {
   "cell_type": "code",
   "execution_count": 70,
   "metadata": {},
   "outputs": [
    {
     "name": "stdout",
     "output_type": "stream",
     "text": [
      "F1-Score for trained model: 0.9583\n"
     ]
    }
   ],
   "source": [
    "# model forecasting\n",
    "y_pred = pipe.predict(X_valid)\n",
    "print(\"F1-Score for trained model: \" + str(np.round(f1_score(y_valid.values, y_pred), 4)))"
   ]
  },
  {
   "cell_type": "code",
   "execution_count": 64,
   "metadata": {},
   "outputs": [
    {
     "data": {
      "text/plain": [
       "['results\\\\logistic_regression_default_pars.joblib']"
      ]
     },
     "execution_count": 64,
     "metadata": {},
     "output_type": "execute_result"
    }
   ],
   "source": [
    "# save trained pipeline\n",
    "dump(pipe, Path(results_dir/ \"logistic_regression_default_pars.joblib\"))"
   ]
  },
  {
   "cell_type": "markdown",
   "metadata": {},
   "source": [
    "### Bonus: Cross-Validation\n",
    "Instead of a single train/validation split, it is possible to \"cut\" the data in different ways, train models on the various slices, and combine the predictions. In the following we also provide a function to test several models at the same time, by adding them to a list:"
   ]
  },
  {
   "cell_type": "code",
   "execution_count": 71,
   "metadata": {},
   "outputs": [],
   "source": [
    "algorithms = [\n",
    "    LogisticRegression(),\n",
    "    LinearSVC(),\n",
    "    SGDClassifier()\n",
    "]"
   ]
  },
  {
   "cell_type": "code",
   "execution_count": 76,
   "metadata": {},
   "outputs": [],
   "source": [
    "def model_selection(X, y, algorithms, n_splits=10, test_size=.3, train_size=.6, random_state=0):\n",
    "    \"\"\"Select the most accurate machine learning model from a given list.\n",
    "\n",
    "    Parameters\n",
    "    ----------\n",
    "    X : array-like\n",
    "        dataFrame to fit\n",
    "    y : array-like\n",
    "        target variable to predict\n",
    "    algorithms : array-like\n",
    "        scikit-learn model objects\n",
    "    n_splits : int\n",
    "        number of re-shuffling & splitting iterations\n",
    "    test_size : float, int\n",
    "        proportion of the dataset to include in the test split\n",
    "    train_size : float, int\n",
    "        proportion of the dataset to include in the train split\n",
    "    random_state : int\n",
    "        random seed\n",
    "    \n",
    "    Returns\n",
    "    -------\n",
    "    algorithm_comparision : array-like\n",
    "        dataframe containing the algorithm's attributes and accuracy \n",
    "    \"\"\"\n",
    "    # Define the cross-validation split, leaving out 10%\n",
    "    cv_split = ShuffleSplit(n_splits=n_splits,test_size=test_size,\n",
    "                            train_size=train_size,random_state=random_state)\n",
    "    \n",
    "    # Create a table to compare the algorithm's metrics and predictions\n",
    "    columns = ['name','params','mean_train_accuracy','mean_test_accuracy','test_accuracy_3std' ,'time']\n",
    "    algorithm_comparison = pd.DataFrame(columns = columns)\n",
    "\n",
    "    row_index = 0\n",
    "    \n",
    "    for alg in algorithms:\n",
    "\n",
    "        # Set name and parameters of the algorithm\n",
    "        algorithm_name = alg.__class__.__name__\n",
    "        algorithm_comparison.loc[row_index, 'name'] = algorithm_name\n",
    "        algorithm_comparison.loc[row_index, 'params'] = str(alg.get_params())\n",
    "\n",
    "        # Score model with cross validation using the accuracy metric\n",
    "        cv_results = cross_validate(alg, X, y, cv=cv_split, scoring='f1', return_train_score=True)\n",
    "        algorithm_comparison.loc[row_index, 'time'] = cv_results['fit_time'].mean()\n",
    "        algorithm_comparison.loc[row_index, 'mean_train_accuracy'] = cv_results['train_score'].mean()\n",
    "        algorithm_comparison.loc[row_index, 'mean_test_accuracy'] = cv_results['test_score'].mean()  \n",
    "        algorithm_comparison.loc[row_index, 'test_accuracy_3std'] = cv_results['test_score'].std()*3\n",
    "\n",
    "        row_index+=1\n",
    "\n",
    "    algorithm_comparison.sort_values(by = ['mean_test_accuracy'], ascending = False, inplace = True)\n",
    "    \n",
    "    return algorithm_comparison"
   ]
  },
  {
   "cell_type": "code",
   "execution_count": 77,
   "metadata": {},
   "outputs": [
    {
     "data": {
      "text/html": [
       "<div>\n",
       "<style scoped>\n",
       "    .dataframe tbody tr th:only-of-type {\n",
       "        vertical-align: middle;\n",
       "    }\n",
       "\n",
       "    .dataframe tbody tr th {\n",
       "        vertical-align: top;\n",
       "    }\n",
       "\n",
       "    .dataframe thead th {\n",
       "        text-align: right;\n",
       "    }\n",
       "</style>\n",
       "<table border=\"1\" class=\"dataframe\">\n",
       "  <thead>\n",
       "    <tr style=\"text-align: right;\">\n",
       "      <th></th>\n",
       "      <th>name</th>\n",
       "      <th>params</th>\n",
       "      <th>mean_train_accuracy</th>\n",
       "      <th>mean_test_accuracy</th>\n",
       "      <th>test_accuracy_3std</th>\n",
       "      <th>time</th>\n",
       "    </tr>\n",
       "  </thead>\n",
       "  <tbody>\n",
       "    <tr>\n",
       "      <th>0</th>\n",
       "      <td>LogisticRegression</td>\n",
       "      <td>{'C': 1.0, 'class_weight': None, 'dual': False...</td>\n",
       "      <td>0.969918</td>\n",
       "      <td>0.951921</td>\n",
       "      <td>0.0548802</td>\n",
       "      <td>0.00976126</td>\n",
       "    </tr>\n",
       "    <tr>\n",
       "      <th>1</th>\n",
       "      <td>LinearSVC</td>\n",
       "      <td>{'C': 1.0, 'class_weight': None, 'dual': True,...</td>\n",
       "      <td>0.966595</td>\n",
       "      <td>0.950094</td>\n",
       "      <td>0.0592364</td>\n",
       "      <td>0.00575945</td>\n",
       "    </tr>\n",
       "    <tr>\n",
       "      <th>2</th>\n",
       "      <td>SGDClassifier</td>\n",
       "      <td>{'alpha': 0.0001, 'average': False, 'class_wei...</td>\n",
       "      <td>0.952069</td>\n",
       "      <td>0.940515</td>\n",
       "      <td>0.107611</td>\n",
       "      <td>0.00361443</td>\n",
       "    </tr>\n",
       "  </tbody>\n",
       "</table>\n",
       "</div>"
      ],
      "text/plain": [
       "                 name                                             params  \\\n",
       "0  LogisticRegression  {'C': 1.0, 'class_weight': None, 'dual': False...   \n",
       "1           LinearSVC  {'C': 1.0, 'class_weight': None, 'dual': True,...   \n",
       "2       SGDClassifier  {'alpha': 0.0001, 'average': False, 'class_wei...   \n",
       "\n",
       "  mean_train_accuracy mean_test_accuracy test_accuracy_3std        time  \n",
       "0            0.969918           0.951921          0.0548802  0.00976126  \n",
       "1            0.966595           0.950094          0.0592364  0.00575945  \n",
       "2            0.952069           0.940515           0.107611  0.00361443  "
      ]
     },
     "execution_count": 77,
     "metadata": {},
     "output_type": "execute_result"
    }
   ],
   "source": [
    "model_selection(X,y,algorithms)"
   ]
  },
  {
   "cell_type": "markdown",
   "metadata": {},
   "source": [
    "After conducting the model selection, it is possible to conduct a hyperparameter search to improve the model performance even further. "
   ]
  },
  {
   "cell_type": "markdown",
   "metadata": {},
   "source": [
    "### Bonus: Explainability\n",
    "More and more often it is not enough for a machine learning to simply predict `0` or `1`, or a probability for each of them. As AI applications are increasingly used in sensitive sectors (es. healthcare, but not only that) it is important that whoever uses the model can understand, at least to a certain degree, how and why a model came up with a specific prediction. This is where __AI Explainability__ comes in play: it consists of a variety of techniques developed to shed light on the model's learning process and predictions. If you are interested on an overview on the topic, you can have a look [here](https://ai-explainability-360.org/).\n",
    "\n",
    "For our use case, it would be great if we could provide the doctors from Watson Hospital with some indication of which indicators are, according to the model, the most important ones to derive its predictions. One highly used package offering some interesting features is [shap](https://github.com/slundberg/shap)"
   ]
  },
  {
   "cell_type": "code",
   "execution_count": 85,
   "metadata": {},
   "outputs": [
    {
     "data": {
      "application/vnd.jupyter.widget-view+json": {
       "model_id": "9a1392dde272411e8cdda21f732a0422",
       "version_major": 2,
       "version_minor": 0
      },
      "text/plain": [
       "HBox(children=(FloatProgress(value=0.0, max=140.0), HTML(value='')))"
      ]
     },
     "metadata": {},
     "output_type": "display_data"
    },
    {
     "name": "stdout",
     "output_type": "stream",
     "text": [
      "\n"
     ]
    }
   ],
   "source": [
    "import shap\n",
    "shap.initjs()\n",
    "explainer = shap.KernelExplainer(pipe.predict, \n",
    "                                 shap.sample(X_train, 100))\n",
    "\n",
    "shap_values = explainer.shap_values(X_valid)"
   ]
  },
  {
   "cell_type": "markdown",
   "metadata": {},
   "source": [
    "Given a trained model (our `pipe`) shap builds an `Explainer` object, which, *simplifying*, evaluates the impact of each feature on the predictions by checking what would happen by changing or removing that feature. These impacts are called Shapley values, and we can use them to get an idea on the most important features for our model.\n",
    "\n",
    "For a more exact explanation of shap, see [here](https://christophm.github.io/interpretable-ml-book/shap.html)."
   ]
  },
  {
   "cell_type": "code",
   "execution_count": 91,
   "metadata": {},
   "outputs": [
    {
     "data": {
      "image/png": "[encoded data removed]",
      "text/plain": [
       "<Figure size 576x367.2 with 1 Axes>"
      ]
     },
     "metadata": {
      "needs_background": "light"
     },
     "output_type": "display_data"
    }
   ],
   "source": [
    "shap.summary_plot(shap_values, plot_type=\"bar\", feature_names=data.columns[:-1])"
   ]
  },
  {
   "cell_type": "markdown",
   "metadata": {},
   "source": [
    "Here we see what on average the most important features used by the model are. This plot could be shown to medical experts to assess if the model has effectively learned from \"meaningful\" features or not! This is called a *global* explanation because it looks at the overall impact of each feature on all of the model's predictions.\n",
    "\n",
    "We might also be interested in explaining specific examples from the validation set, maybe those where our model is not so sure about its predictions."
   ]
  },
  {
   "cell_type": "code",
   "execution_count": 98,
   "metadata": {},
   "outputs": [
    {
     "data": {
      "text/html": [
       "\n",
       "<div id='i1QY3V5PGQB1TXADECFP0'>\n",
       "<div style='color: #900; text-align: center;'>\n",
       "  <b>Visualization omitted, Javascript library not loaded!</b><br>\n",
       "  Have you run `initjs()` in this notebook? If this notebook was from another\n",
       "  user you must also trust this notebook (File -> Trust notebook). If you are viewing\n",
       "  this notebook on github the Javascript has been stripped for security. If you are using\n",
       "  JupyterLab this error is because a JupyterLab extension has not yet been written.\n",
       "</div></div>\n",
       " <script>\n",
       "   if (window.SHAP) SHAP.ReactDom.render(\n",
       "    SHAP.React.createElement(SHAP.AdditiveForceVisualizer, {\"outNames\": [\"f(x)\"], \"baseValue\": 0.36, \"outValue\": 0.0, \"link\": \"identity\", \"featureNames\": [\"uniformity_of_cell_shape\", \"uniformity_of_cell_size\", \"clump_thickness\", \"bare_nuclei\", \"cell_size\", \"normal_nucleoli\", \"clump_cohesiveness\", \"nuclear_chromatin\", \"mitoses\"], \"features\": {\"0\": {\"effect\": -0.11455158730158699, \"value\": \"\"}, \"1\": {\"effect\": -0.01973015873015893, \"value\": \"\"}, \"2\": {\"effect\": -0.06430158730158744, \"value\": \"\"}, \"3\": {\"effect\": -0.002861111111111314, \"value\": \"\"}, \"4\": {\"effect\": 0.0006865079365076798, \"value\": \"\"}, \"5\": {\"effect\": -0.04145634920634933, \"value\": \"\"}, \"6\": {\"effect\": -0.0775515873015872, \"value\": \"\"}, \"7\": {\"effect\": -0.01858730158730129, \"value\": \"\"}, \"8\": {\"effect\": -0.021646825396825164, \"value\": \"\"}}, \"plot_cmap\": \"RdBu\", \"labelMargin\": 20}),\n",
       "    document.getElementById('i1QY3V5PGQB1TXADECFP0')\n",
       "  );\n",
       "</script>"
      ],
      "text/plain": [
       "<shap.plots._force.AdditiveForceVisualizer at 0x1fd00ee6b80>"
      ]
     },
     "execution_count": 98,
     "metadata": {},
     "output_type": "execute_result"
    }
   ],
   "source": [
    "#change this number to look at different examples\n",
    "example_number = 3\n",
    "\n",
    "shap.force_plot(explainer.expected_value, shap_values[example_number], feature_names=data.columns[:-1])"
   ]
  },
  {
   "cell_type": "code",
   "execution_count": 105,
   "metadata": {},
   "outputs": [
    {
     "data": {
      "text/html": [
       "\n",
       "<div id='iKXH8UA0P4JTXBPG431NH'>\n",
       "<div style='color: #900; text-align: center;'>\n",
       "  <b>Visualization omitted, Javascript library not loaded!</b><br>\n",
       "  Have you run `initjs()` in this notebook? If this notebook was from another\n",
       "  user you must also trust this notebook (File -> Trust notebook). If you are viewing\n",
       "  this notebook on github the Javascript has been stripped for security. If you are using\n",
       "  JupyterLab this error is because a JupyterLab extension has not yet been written.\n",
       "</div></div>\n",
       " <script>\n",
       "   if (window.SHAP) SHAP.ReactDom.render(\n",
       "    SHAP.React.createElement(SHAP.AdditiveForceVisualizer, {\"outNames\": [\"f(x)\"], \"baseValue\": 0.36, \"outValue\": 1.0, \"link\": \"identity\", \"featureNames\": [\"uniformity_of_cell_shape\", \"uniformity_of_cell_size\", \"clump_thickness\", \"bare_nuclei\", \"cell_size\", \"normal_nucleoli\", \"clump_cohesiveness\", \"nuclear_chromatin\", \"mitoses\"], \"features\": {\"0\": {\"effect\": 0.18001984126984083, \"value\": \"\"}, \"1\": {\"effect\": 0.047257936507936804, \"value\": \"\"}, \"2\": {\"effect\": 0.15716269841269848, \"value\": \"\"}, \"3\": {\"effect\": 0.011115079365079661, \"value\": \"\"}, \"4\": {\"effect\": -0.0011468253968248687, \"value\": \"\"}, \"5\": {\"effect\": 0.08037698412698413, \"value\": \"\"}, \"6\": {\"effect\": 0.03630555555555515, \"value\": \"\"}, \"7\": {\"effect\": 0.036210317460317276, \"value\": \"\"}, \"8\": {\"effect\": 0.09269841269841261, \"value\": \"\"}}, \"plot_cmap\": \"RdBu\", \"labelMargin\": 20}),\n",
       "    document.getElementById('iKXH8UA0P4JTXBPG431NH')\n",
       "  );\n",
       "</script>"
      ],
      "text/plain": [
       "<shap.plots._force.AdditiveForceVisualizer at 0x1fd7a0d27f0>"
      ]
     },
     "execution_count": 105,
     "metadata": {},
     "output_type": "execute_result"
    }
   ],
   "source": [
    "example_number = 35\n",
    "\n",
    "shap.force_plot(explainer.expected_value, shap_values[example_number], feature_names=data.columns[:-1])"
   ]
  },
  {
   "cell_type": "markdown",
   "metadata": {},
   "source": [
    "These so-called \"force plots\" show you exactly how much each of the features contributes to the final prediction (which is `0` for a benign tumor, and `1` for a malign on). As a sanity check, you can notice that the most important features for these examples, i.e. those with the largest bar, tend to be the most important ones obtained with `shap.summary_plot` above."
   ]
  },
  {
   "cell_type": "markdown",
   "metadata": {},
   "source": [
    "## Train Final Model & Submit results\n",
    "Once you've chosen your best model, you can train that again using all available training data (i.e. not holding out any data for validation)."
   ]
  },
  {
   "cell_type": "code",
   "execution_count": 80,
   "metadata": {},
   "outputs": [
    {
     "data": {
      "text/plain": [
       "Pipeline(steps=[('preprocessing', StandardScaler()), ('model', LinearSVC())])"
      ]
     },
     "execution_count": 80,
     "metadata": {},
     "output_type": "execute_result"
    }
   ],
   "source": [
    "model = LinearSVC()\n",
    "pipe = Pipeline([(\"preprocessing\", StandardScaler()),\n",
    "                 (\"model\", model)])\n",
    "pipe.fit(X, y)"
   ]
  },
  {
   "cell_type": "markdown",
   "metadata": {},
   "source": [
    "Finally, let's put our model to work and predict on the validation data."
   ]
  },
  {
   "cell_type": "code",
   "execution_count": 81,
   "metadata": {},
   "outputs": [
    {
     "name": "stdout",
     "output_type": "stream",
     "text": [
      "Number of Predictions: 140\n",
      "Prediction Contents: [0 0 1 0 0 1 0 1 1 1]\n"
     ]
    }
   ],
   "source": [
    "y_pred = pipe.predict(X_test)\n",
    "\n",
    "print('Number of Predictions:',len(y_pred))\n",
    "print('Prediction Contents:',y_pred[:10])"
   ]
  },
  {
   "cell_type": "markdown",
   "metadata": {},
   "source": [
    "Save the predictions as a csv file and name it after your team, so they can be submitted for evaluation."
   ]
  },
  {
   "cell_type": "code",
   "execution_count": 82,
   "metadata": {},
   "outputs": [],
   "source": [
    "pd.Series(y_pred).to_csv(data_directory / 'YOUR_TEAM_NAME.csv',sep=',',index=False)"
   ]
  },
  {
   "cell_type": "markdown",
   "metadata": {},
   "source": [
    "**Author**: Daniel Jaeck, Data Scientist at IBM (daniel.jaeck@de.ibm.com)\n",
    "\n",
    "Extended by: Marco Perini, Data Scientist at IBM (marco.perini@ibm.com) \n",
    "\n",
    "Copyright © IBM Corp. 2021. This notebook and its source code are released under the terms of the MIT License."
   ]
  },
  {
   "cell_type": "code",
   "execution_count": null,
   "metadata": {},
   "outputs": [],
   "source": []
  }
 ],
 "metadata": {
  "kernelspec": {
   "display_name": "Python 3",
   "language": "python",
   "name": "python3"
  },
  "language_info": {
   "codemirror_mode": {
    "name": "ipython",
    "version": 3
   },
   "file_extension": ".py",
   "mimetype": "text/x-python",
   "name": "python",
   "nbconvert_exporter": "python",
   "pygments_lexer": "ipython3",
   "version": "3.8.5"
  }
 },
 "nbformat": 4,
 "nbformat_minor": 2
}
