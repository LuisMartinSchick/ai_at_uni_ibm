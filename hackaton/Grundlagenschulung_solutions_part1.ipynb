{
 "cells": [
  {
   "cell_type": "markdown",
   "metadata": {
    "id": "jgfvOyuQ6pTi"
   },
   "source": [
    "# Linkit Grundlagenschulung (1. Teil)\n"
   ]
  },
  {
   "cell_type": "markdown",
   "metadata": {
    "id": "xjVVod5nsY_g"
   },
   "source": [
    "## 1. Business & Data Understanding"
   ]
  },
  {
   "cell_type": "markdown",
   "metadata": {
    "id": "WVqL3tK1tPsa"
   },
   "source": [
    "An established food retailer has introduced a self-scanning system that allows customers to scan their items using a handheld mobile scanner while shopping. This type of payment leaves retailers open to the risk that a certain number of customers will take advantage of this freedom to commit fraud by not scanning all of the items in their cart.\n",
    "\n",
    "To minimize losses, the food retailer hopes to identify cases of fraud using targeted follow-up checks. The challenge here is to keep the number of checks as low as possible to avoid unnecessary added expense as well as to avoid putting off innocent customers due to false accusations. The objective is to create a model to classify the scans as fraudulent or non-fraudulent. The classification does not take into account whether the fraud was committed intentionally or inadvertently.\n",
    "\n",
    "<br>\n",
    "\n",
    "**Überlegen ob wir das drin lassen:**\n",
    "\n",
    "In addition to this general task, the retailer has defined his own domain specific costs outcomes for each possible prediction. This needs to be considered when evaluation possible prediction models.\n",
    "\n",
    "- True Positive Cost: 5€\n",
    "- False Positive Cost: -25 €\n",
    "- True Negative Cost: 0€\n",
    "- False Negative Cost: -5€\n",
    "\n",
    "Thus, the retailer receives a profit of € 5 for every correctly identified fraud attempt (TP). However, for every fraud case that goes unexposed he loses € 5 (FN). A costumer falsely accused of fraud (FP), might not return to this store, which is denoted by a € 25 loss for the retailer. An honest customer identified (TN) correctly means neither profit nor loss for the retailer."
   ]
  },
  {
   "cell_type": "markdown",
   "metadata": {
    "id": "Ng06tLSOsdIx"
   },
   "source": [
    "- **Trust Level** ~ A customers trust level rated between 1-6\n",
    "- **Total scaned Item in sec** ~ total time in seconds between first and last product scanned\n",
    "- **Grand total** ~ Total of products scanned\n",
    "- **Line items voids** ~ Nr. of voided scanes\n",
    "- **Scans without registration** ~ Attempts to scan something without actually scanning something\n",
    "- **Quantity Modification** ~ Number of modified quantities\n",
    "- **Scanned lined items per seconds** ~ Average number of scanned products\n",
    "- **Value per second** ~ Average total value per second\n",
    "- **Line items void per seconds** ~ Avg nr of item voids per total nr of all scanned and not canceled product\n",
    "- **Customer Sex** ~ Information about the sex of the customer\n",
    "- **Store Location** ~ Location of the Store\n",
    "- **Payment Type** ~ Information on the type of payment (credit card, debit card, ...) used for  the transaction\n",
    "- **Fraud** ~ Fraudulent (1) or not fraudulent (0)"
   ]
  },
  {
   "cell_type": "markdown",
   "metadata": {
    "id": "ax7c5bjPUBqv"
   },
   "source": [
    "## 2. How do we get a quick overview over the data set?\n",
    "\n"
   ]
  },
  {
   "cell_type": "code",
   "execution_count": 1,
   "metadata": {
    "id": "N6SRnWRRXia5"
   },
   "outputs": [],
   "source": [
    "import pandas as pd \n",
    "import numpy as np"
   ]
  },
  {
   "cell_type": "code",
   "execution_count": 2,
   "metadata": {
    "id": "N-FVTlzkW401"
   },
   "outputs": [],
   "source": [
    "data = pd.read_csv('train.csv')"
   ]
  },
  {
   "cell_type": "markdown",
   "metadata": {
    "id": "soC7CHtWQlHZ"
   },
   "source": [
    "After successfull data import its essential to have a look at the data to check whether the import was successfull and to get an overall impression on data types, number of Null-counts etc.\n",
    "\n",
    "Pandas provides several methods to do so, lets have a look at it"
   ]
  },
  {
   "cell_type": "code",
   "execution_count": 3,
   "metadata": {
    "colab": {
     "base_uri": "https://localhost:8080/",
     "height": 299
    },
    "id": "s_zm0GF7T3e7",
    "outputId": "dd899fda-bfae-42ec-dd4d-9d632e247801"
   },
   "outputs": [
    {
     "data": {
      "text/html": [
       "<div>\n",
       "<style scoped>\n",
       "    .dataframe tbody tr th:only-of-type {\n",
       "        vertical-align: middle;\n",
       "    }\n",
       "\n",
       "    .dataframe tbody tr th {\n",
       "        vertical-align: top;\n",
       "    }\n",
       "\n",
       "    .dataframe thead th {\n",
       "        text-align: right;\n",
       "    }\n",
       "</style>\n",
       "<table border=\"1\" class=\"dataframe\">\n",
       "  <thead>\n",
       "    <tr style=\"text-align: right;\">\n",
       "      <th></th>\n",
       "      <th>trustLevel</th>\n",
       "      <th>totalScanTimeInSeconds</th>\n",
       "      <th>grandTotal</th>\n",
       "      <th>lineItemVoids</th>\n",
       "      <th>scansWithoutRegistration</th>\n",
       "      <th>quantityModifications</th>\n",
       "      <th>scannedLineItemsPerSecond</th>\n",
       "      <th>valuePerSecond</th>\n",
       "      <th>lineItemVoidsPerPosition</th>\n",
       "      <th>fraud</th>\n",
       "      <th>checkoutTime</th>\n",
       "      <th>customer_sex</th>\n",
       "      <th>storeLocation</th>\n",
       "      <th>paymentType</th>\n",
       "    </tr>\n",
       "  </thead>\n",
       "  <tbody>\n",
       "    <tr>\n",
       "      <th>0</th>\n",
       "      <td>5</td>\n",
       "      <td>1054</td>\n",
       "      <td>54.70</td>\n",
       "      <td>7</td>\n",
       "      <td>0</td>\n",
       "      <td>3</td>\n",
       "      <td>0.027514</td>\n",
       "      <td>0.051898</td>\n",
       "      <td>0.241379</td>\n",
       "      <td>0</td>\n",
       "      <td>2020/11/06 19:43:53</td>\n",
       "      <td>male</td>\n",
       "      <td>Frankfurt</td>\n",
       "      <td>Mastercard</td>\n",
       "    </tr>\n",
       "    <tr>\n",
       "      <th>1</th>\n",
       "      <td>3</td>\n",
       "      <td>108</td>\n",
       "      <td>27.36</td>\n",
       "      <td>5</td>\n",
       "      <td>2</td>\n",
       "      <td>4</td>\n",
       "      <td>0.129630</td>\n",
       "      <td>0.253333</td>\n",
       "      <td>0.357143</td>\n",
       "      <td>0</td>\n",
       "      <td>2020/10/04 18:22:17</td>\n",
       "      <td>NaN</td>\n",
       "      <td>Karlsruhe</td>\n",
       "      <td>Mastercard</td>\n",
       "    </tr>\n",
       "    <tr>\n",
       "      <th>2</th>\n",
       "      <td>3</td>\n",
       "      <td>1516</td>\n",
       "      <td>62.16</td>\n",
       "      <td>3</td>\n",
       "      <td>10</td>\n",
       "      <td>5</td>\n",
       "      <td>0.008575</td>\n",
       "      <td>0.041003</td>\n",
       "      <td>0.230769</td>\n",
       "      <td>0</td>\n",
       "      <td>2020/10/23 19:08:53</td>\n",
       "      <td>NaN</td>\n",
       "      <td>Stuttgart</td>\n",
       "      <td>BB Bank Karlsruhe</td>\n",
       "    </tr>\n",
       "    <tr>\n",
       "      <th>3</th>\n",
       "      <td>6</td>\n",
       "      <td>1791</td>\n",
       "      <td>92.31</td>\n",
       "      <td>8</td>\n",
       "      <td>4</td>\n",
       "      <td>4</td>\n",
       "      <td>0.016192</td>\n",
       "      <td>0.051541</td>\n",
       "      <td>0.275862</td>\n",
       "      <td>0</td>\n",
       "      <td>2020/12/07 21:00:09</td>\n",
       "      <td>male</td>\n",
       "      <td>München</td>\n",
       "      <td>Sparkasse Munchen</td>\n",
       "    </tr>\n",
       "    <tr>\n",
       "      <th>4</th>\n",
       "      <td>5</td>\n",
       "      <td>430</td>\n",
       "      <td>81.53</td>\n",
       "      <td>3</td>\n",
       "      <td>7</td>\n",
       "      <td>2</td>\n",
       "      <td>0.062791</td>\n",
       "      <td>0.189605</td>\n",
       "      <td>0.111111</td>\n",
       "      <td>0</td>\n",
       "      <td>2020/12/20 21:32:22</td>\n",
       "      <td>male</td>\n",
       "      <td>München</td>\n",
       "      <td>Sparkasse Karlsruhe</td>\n",
       "    </tr>\n",
       "  </tbody>\n",
       "</table>\n",
       "</div>"
      ],
      "text/plain": [
       "   trustLevel  totalScanTimeInSeconds  grandTotal  lineItemVoids  \\\n",
       "0           5                    1054       54.70              7   \n",
       "1           3                     108       27.36              5   \n",
       "2           3                    1516       62.16              3   \n",
       "3           6                    1791       92.31              8   \n",
       "4           5                     430       81.53              3   \n",
       "\n",
       "   scansWithoutRegistration  quantityModifications  scannedLineItemsPerSecond  \\\n",
       "0                         0                      3                   0.027514   \n",
       "1                         2                      4                   0.129630   \n",
       "2                        10                      5                   0.008575   \n",
       "3                         4                      4                   0.016192   \n",
       "4                         7                      2                   0.062791   \n",
       "\n",
       "   valuePerSecond  lineItemVoidsPerPosition  fraud         checkoutTime  \\\n",
       "0        0.051898                  0.241379      0  2020/11/06 19:43:53   \n",
       "1        0.253333                  0.357143      0  2020/10/04 18:22:17   \n",
       "2        0.041003                  0.230769      0  2020/10/23 19:08:53   \n",
       "3        0.051541                  0.275862      0  2020/12/07 21:00:09   \n",
       "4        0.189605                  0.111111      0  2020/12/20 21:32:22   \n",
       "\n",
       "  customer_sex storeLocation          paymentType  \n",
       "0         male     Frankfurt           Mastercard  \n",
       "1          NaN     Karlsruhe           Mastercard  \n",
       "2          NaN     Stuttgart    BB Bank Karlsruhe  \n",
       "3         male       München    Sparkasse Munchen  \n",
       "4         male       München  Sparkasse Karlsruhe  "
      ]
     },
     "execution_count": 3,
     "metadata": {},
     "output_type": "execute_result"
    }
   ],
   "source": [
    "data.head()"
   ]
  },
  {
   "cell_type": "code",
   "execution_count": 4,
   "metadata": {
    "colab": {
     "base_uri": "https://localhost:8080/",
     "height": 299
    },
    "id": "Inx5awBEFSXL",
    "outputId": "bd8f9945-a41a-4064-d624-ade7c35bfbf3"
   },
   "outputs": [
    {
     "data": {
      "text/html": [
       "<div>\n",
       "<style scoped>\n",
       "    .dataframe tbody tr th:only-of-type {\n",
       "        vertical-align: middle;\n",
       "    }\n",
       "\n",
       "    .dataframe tbody tr th {\n",
       "        vertical-align: top;\n",
       "    }\n",
       "\n",
       "    .dataframe thead th {\n",
       "        text-align: right;\n",
       "    }\n",
       "</style>\n",
       "<table border=\"1\" class=\"dataframe\">\n",
       "  <thead>\n",
       "    <tr style=\"text-align: right;\">\n",
       "      <th></th>\n",
       "      <th>trustLevel</th>\n",
       "      <th>totalScanTimeInSeconds</th>\n",
       "      <th>grandTotal</th>\n",
       "      <th>lineItemVoids</th>\n",
       "      <th>scansWithoutRegistration</th>\n",
       "      <th>quantityModifications</th>\n",
       "      <th>scannedLineItemsPerSecond</th>\n",
       "      <th>valuePerSecond</th>\n",
       "      <th>lineItemVoidsPerPosition</th>\n",
       "      <th>fraud</th>\n",
       "      <th>checkoutTime</th>\n",
       "      <th>customer_sex</th>\n",
       "      <th>storeLocation</th>\n",
       "      <th>paymentType</th>\n",
       "    </tr>\n",
       "  </thead>\n",
       "  <tbody>\n",
       "    <tr>\n",
       "      <th>1874</th>\n",
       "      <td>1</td>\n",
       "      <td>321</td>\n",
       "      <td>76.03</td>\n",
       "      <td>8</td>\n",
       "      <td>7</td>\n",
       "      <td>2</td>\n",
       "      <td>0.071651</td>\n",
       "      <td>0.236854</td>\n",
       "      <td>0.347826</td>\n",
       "      <td>0</td>\n",
       "      <td>2020/06/26 14:17:29</td>\n",
       "      <td>female</td>\n",
       "      <td>Stuttgart</td>\n",
       "      <td>Visa</td>\n",
       "    </tr>\n",
       "    <tr>\n",
       "      <th>1875</th>\n",
       "      <td>1</td>\n",
       "      <td>397</td>\n",
       "      <td>41.89</td>\n",
       "      <td>5</td>\n",
       "      <td>5</td>\n",
       "      <td>0</td>\n",
       "      <td>0.065491</td>\n",
       "      <td>0.105516</td>\n",
       "      <td>0.192308</td>\n",
       "      <td>1</td>\n",
       "      <td>2020/09/11 11:51:09</td>\n",
       "      <td>female</td>\n",
       "      <td>Stuttgart</td>\n",
       "      <td>Volksbank Frankfurt</td>\n",
       "    </tr>\n",
       "    <tr>\n",
       "      <th>1876</th>\n",
       "      <td>4</td>\n",
       "      <td>316</td>\n",
       "      <td>41.83</td>\n",
       "      <td>5</td>\n",
       "      <td>8</td>\n",
       "      <td>1</td>\n",
       "      <td>0.094937</td>\n",
       "      <td>0.132373</td>\n",
       "      <td>0.166667</td>\n",
       "      <td>0</td>\n",
       "      <td>2020/08/28 16:50:42</td>\n",
       "      <td>male</td>\n",
       "      <td>Stuttgart</td>\n",
       "      <td>BB Bank Karlsruhe</td>\n",
       "    </tr>\n",
       "    <tr>\n",
       "      <th>1877</th>\n",
       "      <td>2</td>\n",
       "      <td>685</td>\n",
       "      <td>62.68</td>\n",
       "      <td>1</td>\n",
       "      <td>6</td>\n",
       "      <td>2</td>\n",
       "      <td>0.035036</td>\n",
       "      <td>0.091504</td>\n",
       "      <td>0.041667</td>\n",
       "      <td>0</td>\n",
       "      <td>2020/10/31 19:29:27</td>\n",
       "      <td>female</td>\n",
       "      <td>München</td>\n",
       "      <td>Apple Pay</td>\n",
       "    </tr>\n",
       "    <tr>\n",
       "      <th>1878</th>\n",
       "      <td>4</td>\n",
       "      <td>1140</td>\n",
       "      <td>38.03</td>\n",
       "      <td>2</td>\n",
       "      <td>2</td>\n",
       "      <td>3</td>\n",
       "      <td>0.016667</td>\n",
       "      <td>0.033360</td>\n",
       "      <td>0.105263</td>\n",
       "      <td>0</td>\n",
       "      <td>2020/04/25 11:44:06</td>\n",
       "      <td>male</td>\n",
       "      <td>München</td>\n",
       "      <td>Sparkasse Stuttgart</td>\n",
       "    </tr>\n",
       "  </tbody>\n",
       "</table>\n",
       "</div>"
      ],
      "text/plain": [
       "      trustLevel  totalScanTimeInSeconds  grandTotal  lineItemVoids  \\\n",
       "1874           1                     321       76.03              8   \n",
       "1875           1                     397       41.89              5   \n",
       "1876           4                     316       41.83              5   \n",
       "1877           2                     685       62.68              1   \n",
       "1878           4                    1140       38.03              2   \n",
       "\n",
       "      scansWithoutRegistration  quantityModifications  \\\n",
       "1874                         7                      2   \n",
       "1875                         5                      0   \n",
       "1876                         8                      1   \n",
       "1877                         6                      2   \n",
       "1878                         2                      3   \n",
       "\n",
       "      scannedLineItemsPerSecond  valuePerSecond  lineItemVoidsPerPosition  \\\n",
       "1874                   0.071651        0.236854                  0.347826   \n",
       "1875                   0.065491        0.105516                  0.192308   \n",
       "1876                   0.094937        0.132373                  0.166667   \n",
       "1877                   0.035036        0.091504                  0.041667   \n",
       "1878                   0.016667        0.033360                  0.105263   \n",
       "\n",
       "      fraud         checkoutTime customer_sex storeLocation  \\\n",
       "1874      0  2020/06/26 14:17:29       female     Stuttgart   \n",
       "1875      1  2020/09/11 11:51:09       female     Stuttgart   \n",
       "1876      0  2020/08/28 16:50:42         male     Stuttgart   \n",
       "1877      0  2020/10/31 19:29:27       female       München   \n",
       "1878      0  2020/04/25 11:44:06         male       München   \n",
       "\n",
       "              paymentType  \n",
       "1874                 Visa  \n",
       "1875  Volksbank Frankfurt  \n",
       "1876    BB Bank Karlsruhe  \n",
       "1877            Apple Pay  \n",
       "1878  Sparkasse Stuttgart  "
      ]
     },
     "execution_count": 4,
     "metadata": {},
     "output_type": "execute_result"
    }
   ],
   "source": [
    "data.tail()"
   ]
  },
  {
   "cell_type": "code",
   "execution_count": 5,
   "metadata": {
    "colab": {
     "base_uri": "https://localhost:8080/"
    },
    "id": "KiNE4cd5Y1A_",
    "outputId": "21494e87-9137-42a2-ab15-ec2f0b131468"
   },
   "outputs": [
    {
     "name": "stdout",
     "output_type": "stream",
     "text": [
      "<class 'pandas.core.frame.DataFrame'>\n",
      "RangeIndex: 1879 entries, 0 to 1878\n",
      "Data columns (total 14 columns):\n",
      " #   Column                     Non-Null Count  Dtype  \n",
      "---  ------                     --------------  -----  \n",
      " 0   trustLevel                 1879 non-null   int64  \n",
      " 1   totalScanTimeInSeconds     1879 non-null   int64  \n",
      " 2   grandTotal                 1879 non-null   float64\n",
      " 3   lineItemVoids              1879 non-null   int64  \n",
      " 4   scansWithoutRegistration   1879 non-null   int64  \n",
      " 5   quantityModifications      1879 non-null   int64  \n",
      " 6   scannedLineItemsPerSecond  1879 non-null   float64\n",
      " 7   valuePerSecond             1879 non-null   float64\n",
      " 8   lineItemVoidsPerPosition   1879 non-null   float64\n",
      " 9   fraud                      1879 non-null   int64  \n",
      " 10  checkoutTime               1879 non-null   object \n",
      " 11  customer_sex               1683 non-null   object \n",
      " 12  storeLocation              1879 non-null   object \n",
      " 13  paymentType                1879 non-null   object \n",
      "dtypes: float64(4), int64(6), object(4)\n",
      "memory usage: 205.6+ KB\n"
     ]
    }
   ],
   "source": [
    "data.info()"
   ]
  },
  {
   "cell_type": "code",
   "execution_count": 6,
   "metadata": {
    "colab": {
     "base_uri": "https://localhost:8080/",
     "height": 304
    },
    "id": "0t4zsXXiFUP7",
    "outputId": "e7297699-f354-4c01-f141-b27a90fbc272"
   },
   "outputs": [
    {
     "data": {
      "text/html": [
       "<div>\n",
       "<style scoped>\n",
       "    .dataframe tbody tr th:only-of-type {\n",
       "        vertical-align: middle;\n",
       "    }\n",
       "\n",
       "    .dataframe tbody tr th {\n",
       "        vertical-align: top;\n",
       "    }\n",
       "\n",
       "    .dataframe thead th {\n",
       "        text-align: right;\n",
       "    }\n",
       "</style>\n",
       "<table border=\"1\" class=\"dataframe\">\n",
       "  <thead>\n",
       "    <tr style=\"text-align: right;\">\n",
       "      <th></th>\n",
       "      <th>trustLevel</th>\n",
       "      <th>totalScanTimeInSeconds</th>\n",
       "      <th>grandTotal</th>\n",
       "      <th>lineItemVoids</th>\n",
       "      <th>scansWithoutRegistration</th>\n",
       "      <th>quantityModifications</th>\n",
       "      <th>scannedLineItemsPerSecond</th>\n",
       "      <th>valuePerSecond</th>\n",
       "      <th>lineItemVoidsPerPosition</th>\n",
       "      <th>fraud</th>\n",
       "    </tr>\n",
       "  </thead>\n",
       "  <tbody>\n",
       "    <tr>\n",
       "      <th>count</th>\n",
       "      <td>1879.000000</td>\n",
       "      <td>1879.000000</td>\n",
       "      <td>1879.000000</td>\n",
       "      <td>1879.000000</td>\n",
       "      <td>1879.000000</td>\n",
       "      <td>1879.000000</td>\n",
       "      <td>1879.000000</td>\n",
       "      <td>1879.000000</td>\n",
       "      <td>1879.000000</td>\n",
       "      <td>1879.000000</td>\n",
       "    </tr>\n",
       "    <tr>\n",
       "      <th>mean</th>\n",
       "      <td>3.401809</td>\n",
       "      <td>932.153273</td>\n",
       "      <td>50.864492</td>\n",
       "      <td>5.469931</td>\n",
       "      <td>4.904204</td>\n",
       "      <td>2.525279</td>\n",
       "      <td>0.058138</td>\n",
       "      <td>0.201746</td>\n",
       "      <td>0.745404</td>\n",
       "      <td>0.055349</td>\n",
       "    </tr>\n",
       "    <tr>\n",
       "      <th>std</th>\n",
       "      <td>1.709404</td>\n",
       "      <td>530.144640</td>\n",
       "      <td>28.940202</td>\n",
       "      <td>3.451169</td>\n",
       "      <td>3.139697</td>\n",
       "      <td>1.695472</td>\n",
       "      <td>0.278512</td>\n",
       "      <td>1.242135</td>\n",
       "      <td>1.327241</td>\n",
       "      <td>0.228720</td>\n",
       "    </tr>\n",
       "    <tr>\n",
       "      <th>min</th>\n",
       "      <td>1.000000</td>\n",
       "      <td>2.000000</td>\n",
       "      <td>0.010000</td>\n",
       "      <td>0.000000</td>\n",
       "      <td>0.000000</td>\n",
       "      <td>0.000000</td>\n",
       "      <td>0.000548</td>\n",
       "      <td>0.000007</td>\n",
       "      <td>0.000000</td>\n",
       "      <td>0.000000</td>\n",
       "    </tr>\n",
       "    <tr>\n",
       "      <th>25%</th>\n",
       "      <td>2.000000</td>\n",
       "      <td>474.500000</td>\n",
       "      <td>25.965000</td>\n",
       "      <td>2.000000</td>\n",
       "      <td>2.000000</td>\n",
       "      <td>1.000000</td>\n",
       "      <td>0.008384</td>\n",
       "      <td>0.027787</td>\n",
       "      <td>0.160000</td>\n",
       "      <td>0.000000</td>\n",
       "    </tr>\n",
       "    <tr>\n",
       "      <th>50%</th>\n",
       "      <td>3.000000</td>\n",
       "      <td>932.000000</td>\n",
       "      <td>51.210000</td>\n",
       "      <td>5.000000</td>\n",
       "      <td>5.000000</td>\n",
       "      <td>3.000000</td>\n",
       "      <td>0.016317</td>\n",
       "      <td>0.054498</td>\n",
       "      <td>0.350000</td>\n",
       "      <td>0.000000</td>\n",
       "    </tr>\n",
       "    <tr>\n",
       "      <th>75%</th>\n",
       "      <td>5.000000</td>\n",
       "      <td>1397.000000</td>\n",
       "      <td>77.285000</td>\n",
       "      <td>8.000000</td>\n",
       "      <td>8.000000</td>\n",
       "      <td>4.000000</td>\n",
       "      <td>0.032594</td>\n",
       "      <td>0.107313</td>\n",
       "      <td>0.666667</td>\n",
       "      <td>0.000000</td>\n",
       "    </tr>\n",
       "    <tr>\n",
       "      <th>max</th>\n",
       "      <td>6.000000</td>\n",
       "      <td>1831.000000</td>\n",
       "      <td>99.960000</td>\n",
       "      <td>11.000000</td>\n",
       "      <td>10.000000</td>\n",
       "      <td>5.000000</td>\n",
       "      <td>6.666667</td>\n",
       "      <td>37.870000</td>\n",
       "      <td>11.000000</td>\n",
       "      <td>1.000000</td>\n",
       "    </tr>\n",
       "  </tbody>\n",
       "</table>\n",
       "</div>"
      ],
      "text/plain": [
       "        trustLevel  totalScanTimeInSeconds   grandTotal  lineItemVoids  \\\n",
       "count  1879.000000             1879.000000  1879.000000    1879.000000   \n",
       "mean      3.401809              932.153273    50.864492       5.469931   \n",
       "std       1.709404              530.144640    28.940202       3.451169   \n",
       "min       1.000000                2.000000     0.010000       0.000000   \n",
       "25%       2.000000              474.500000    25.965000       2.000000   \n",
       "50%       3.000000              932.000000    51.210000       5.000000   \n",
       "75%       5.000000             1397.000000    77.285000       8.000000   \n",
       "max       6.000000             1831.000000    99.960000      11.000000   \n",
       "\n",
       "       scansWithoutRegistration  quantityModifications  \\\n",
       "count               1879.000000            1879.000000   \n",
       "mean                   4.904204               2.525279   \n",
       "std                    3.139697               1.695472   \n",
       "min                    0.000000               0.000000   \n",
       "25%                    2.000000               1.000000   \n",
       "50%                    5.000000               3.000000   \n",
       "75%                    8.000000               4.000000   \n",
       "max                   10.000000               5.000000   \n",
       "\n",
       "       scannedLineItemsPerSecond  valuePerSecond  lineItemVoidsPerPosition  \\\n",
       "count                1879.000000     1879.000000               1879.000000   \n",
       "mean                    0.058138        0.201746                  0.745404   \n",
       "std                     0.278512        1.242135                  1.327241   \n",
       "min                     0.000548        0.000007                  0.000000   \n",
       "25%                     0.008384        0.027787                  0.160000   \n",
       "50%                     0.016317        0.054498                  0.350000   \n",
       "75%                     0.032594        0.107313                  0.666667   \n",
       "max                     6.666667       37.870000                 11.000000   \n",
       "\n",
       "             fraud  \n",
       "count  1879.000000  \n",
       "mean      0.055349  \n",
       "std       0.228720  \n",
       "min       0.000000  \n",
       "25%       0.000000  \n",
       "50%       0.000000  \n",
       "75%       0.000000  \n",
       "max       1.000000  "
      ]
     },
     "execution_count": 6,
     "metadata": {},
     "output_type": "execute_result"
    }
   ],
   "source": [
    "data.describe()"
   ]
  },
  {
   "cell_type": "markdown",
   "metadata": {
    "id": "kNBdc-X5RZU6"
   },
   "source": [
    "After gaining a first impression with the methods explained before, it might be crucial to look at some rows or columns in more detail. Moreover, these methods that will be explained here are helpul to select data by position or index and thus allows intuitive getting and setting of subsets.\n",
    "\n",
    "Data can be selected as follows:\n",
    "\n",
    "(1) by one or several column names,\n",
    "\n",
    "(2) using a conditional selection of column values,\n",
    "\n",
    "(3) by index position.\n",
    "\n"
   ]
  },
  {
   "cell_type": "code",
   "execution_count": 7,
   "metadata": {
    "colab": {
     "base_uri": "https://localhost:8080/"
    },
    "id": "xYVuhmryVcLV",
    "outputId": "65c4a8d1-4ae4-405f-85f6-4b4b4a6107c1"
   },
   "outputs": [
    {
     "data": {
      "text/plain": [
       "0       5\n",
       "1       3\n",
       "2       3\n",
       "3       6\n",
       "4       5\n",
       "       ..\n",
       "1874    1\n",
       "1875    1\n",
       "1876    4\n",
       "1877    2\n",
       "1878    4\n",
       "Name: trustLevel, Length: 1879, dtype: int64"
      ]
     },
     "execution_count": 7,
     "metadata": {},
     "output_type": "execute_result"
    }
   ],
   "source": [
    "# selection by column\n",
    "data['trustLevel']"
   ]
  },
  {
   "cell_type": "code",
   "execution_count": 8,
   "metadata": {
    "colab": {
     "base_uri": "https://localhost:8080/",
     "height": 402
    },
    "id": "VZo4nEFyjJSa",
    "outputId": "b1b8717d-ac89-40d5-99ef-9fe61204f5b9"
   },
   "outputs": [
    {
     "data": {
      "text/html": [
       "<div>\n",
       "<style scoped>\n",
       "    .dataframe tbody tr th:only-of-type {\n",
       "        vertical-align: middle;\n",
       "    }\n",
       "\n",
       "    .dataframe tbody tr th {\n",
       "        vertical-align: top;\n",
       "    }\n",
       "\n",
       "    .dataframe thead th {\n",
       "        text-align: right;\n",
       "    }\n",
       "</style>\n",
       "<table border=\"1\" class=\"dataframe\">\n",
       "  <thead>\n",
       "    <tr style=\"text-align: right;\">\n",
       "      <th></th>\n",
       "      <th>scannedLineItemsPerSecond</th>\n",
       "      <th>valuePerSecond</th>\n",
       "    </tr>\n",
       "  </thead>\n",
       "  <tbody>\n",
       "    <tr>\n",
       "      <th>0</th>\n",
       "      <td>0.027514</td>\n",
       "      <td>0.051898</td>\n",
       "    </tr>\n",
       "    <tr>\n",
       "      <th>1</th>\n",
       "      <td>0.129630</td>\n",
       "      <td>0.253333</td>\n",
       "    </tr>\n",
       "    <tr>\n",
       "      <th>2</th>\n",
       "      <td>0.008575</td>\n",
       "      <td>0.041003</td>\n",
       "    </tr>\n",
       "    <tr>\n",
       "      <th>3</th>\n",
       "      <td>0.016192</td>\n",
       "      <td>0.051541</td>\n",
       "    </tr>\n",
       "    <tr>\n",
       "      <th>4</th>\n",
       "      <td>0.062791</td>\n",
       "      <td>0.189605</td>\n",
       "    </tr>\n",
       "    <tr>\n",
       "      <th>...</th>\n",
       "      <td>...</td>\n",
       "      <td>...</td>\n",
       "    </tr>\n",
       "    <tr>\n",
       "      <th>1874</th>\n",
       "      <td>0.071651</td>\n",
       "      <td>0.236854</td>\n",
       "    </tr>\n",
       "    <tr>\n",
       "      <th>1875</th>\n",
       "      <td>0.065491</td>\n",
       "      <td>0.105516</td>\n",
       "    </tr>\n",
       "    <tr>\n",
       "      <th>1876</th>\n",
       "      <td>0.094937</td>\n",
       "      <td>0.132373</td>\n",
       "    </tr>\n",
       "    <tr>\n",
       "      <th>1877</th>\n",
       "      <td>0.035036</td>\n",
       "      <td>0.091504</td>\n",
       "    </tr>\n",
       "    <tr>\n",
       "      <th>1878</th>\n",
       "      <td>0.016667</td>\n",
       "      <td>0.033360</td>\n",
       "    </tr>\n",
       "  </tbody>\n",
       "</table>\n",
       "<p>1879 rows × 2 columns</p>\n",
       "</div>"
      ],
      "text/plain": [
       "      scannedLineItemsPerSecond  valuePerSecond\n",
       "0                      0.027514        0.051898\n",
       "1                      0.129630        0.253333\n",
       "2                      0.008575        0.041003\n",
       "3                      0.016192        0.051541\n",
       "4                      0.062791        0.189605\n",
       "...                         ...             ...\n",
       "1874                   0.071651        0.236854\n",
       "1875                   0.065491        0.105516\n",
       "1876                   0.094937        0.132373\n",
       "1877                   0.035036        0.091504\n",
       "1878                   0.016667        0.033360\n",
       "\n",
       "[1879 rows x 2 columns]"
      ]
     },
     "execution_count": 8,
     "metadata": {},
     "output_type": "execute_result"
    }
   ],
   "source": [
    "# selection of several columns\n",
    "data[['scannedLineItemsPerSecond', 'valuePerSecond']]"
   ]
  },
  {
   "cell_type": "code",
   "execution_count": 9,
   "metadata": {
    "colab": {
     "base_uri": "https://localhost:8080/",
     "height": 590
    },
    "id": "hW7fuL1fOiWT",
    "outputId": "250cfeb1-b4a6-422a-8775-5e111d054c35"
   },
   "outputs": [
    {
     "data": {
      "text/html": [
       "<div>\n",
       "<style scoped>\n",
       "    .dataframe tbody tr th:only-of-type {\n",
       "        vertical-align: middle;\n",
       "    }\n",
       "\n",
       "    .dataframe tbody tr th {\n",
       "        vertical-align: top;\n",
       "    }\n",
       "\n",
       "    .dataframe thead th {\n",
       "        text-align: right;\n",
       "    }\n",
       "</style>\n",
       "<table border=\"1\" class=\"dataframe\">\n",
       "  <thead>\n",
       "    <tr style=\"text-align: right;\">\n",
       "      <th></th>\n",
       "      <th>trustLevel</th>\n",
       "      <th>totalScanTimeInSeconds</th>\n",
       "      <th>grandTotal</th>\n",
       "      <th>lineItemVoids</th>\n",
       "      <th>scansWithoutRegistration</th>\n",
       "      <th>quantityModifications</th>\n",
       "      <th>scannedLineItemsPerSecond</th>\n",
       "      <th>valuePerSecond</th>\n",
       "      <th>lineItemVoidsPerPosition</th>\n",
       "      <th>fraud</th>\n",
       "      <th>checkoutTime</th>\n",
       "      <th>customer_sex</th>\n",
       "      <th>storeLocation</th>\n",
       "      <th>paymentType</th>\n",
       "    </tr>\n",
       "  </thead>\n",
       "  <tbody>\n",
       "    <tr>\n",
       "      <th>5</th>\n",
       "      <td>1</td>\n",
       "      <td>770</td>\n",
       "      <td>11.09</td>\n",
       "      <td>11</td>\n",
       "      <td>5</td>\n",
       "      <td>2</td>\n",
       "      <td>0.033766</td>\n",
       "      <td>0.014403</td>\n",
       "      <td>0.423077</td>\n",
       "      <td>1</td>\n",
       "      <td>2020/08/03 11:06:39</td>\n",
       "      <td>female</td>\n",
       "      <td>München</td>\n",
       "      <td>Sparkasse Karlsruhe</td>\n",
       "    </tr>\n",
       "    <tr>\n",
       "      <th>37</th>\n",
       "      <td>2</td>\n",
       "      <td>1397</td>\n",
       "      <td>62.59</td>\n",
       "      <td>7</td>\n",
       "      <td>9</td>\n",
       "      <td>4</td>\n",
       "      <td>0.017895</td>\n",
       "      <td>0.044803</td>\n",
       "      <td>0.280000</td>\n",
       "      <td>1</td>\n",
       "      <td>2020/06/08 10:02:04</td>\n",
       "      <td>female</td>\n",
       "      <td>Frankfurt</td>\n",
       "      <td>Google Pay</td>\n",
       "    </tr>\n",
       "    <tr>\n",
       "      <th>53</th>\n",
       "      <td>1</td>\n",
       "      <td>1385</td>\n",
       "      <td>34.68</td>\n",
       "      <td>5</td>\n",
       "      <td>8</td>\n",
       "      <td>4</td>\n",
       "      <td>0.019495</td>\n",
       "      <td>0.025040</td>\n",
       "      <td>0.185185</td>\n",
       "      <td>1</td>\n",
       "      <td>2020/10/20 12:36:47</td>\n",
       "      <td>male</td>\n",
       "      <td>Stuttgart</td>\n",
       "      <td>Volksbank Frankfurt</td>\n",
       "    </tr>\n",
       "    <tr>\n",
       "      <th>91</th>\n",
       "      <td>1</td>\n",
       "      <td>996</td>\n",
       "      <td>71.94</td>\n",
       "      <td>7</td>\n",
       "      <td>0</td>\n",
       "      <td>1</td>\n",
       "      <td>0.027108</td>\n",
       "      <td>0.072229</td>\n",
       "      <td>0.259259</td>\n",
       "      <td>1</td>\n",
       "      <td>2020/12/27 13:54:52</td>\n",
       "      <td>female</td>\n",
       "      <td>Frankfurt</td>\n",
       "      <td>Mastercard</td>\n",
       "    </tr>\n",
       "    <tr>\n",
       "      <th>97</th>\n",
       "      <td>2</td>\n",
       "      <td>1305</td>\n",
       "      <td>87.65</td>\n",
       "      <td>7</td>\n",
       "      <td>8</td>\n",
       "      <td>4</td>\n",
       "      <td>0.021456</td>\n",
       "      <td>0.067165</td>\n",
       "      <td>0.250000</td>\n",
       "      <td>1</td>\n",
       "      <td>2020/09/12 11:52:10</td>\n",
       "      <td>female</td>\n",
       "      <td>München</td>\n",
       "      <td>Apple Pay</td>\n",
       "    </tr>\n",
       "    <tr>\n",
       "      <th>...</th>\n",
       "      <td>...</td>\n",
       "      <td>...</td>\n",
       "      <td>...</td>\n",
       "      <td>...</td>\n",
       "      <td>...</td>\n",
       "      <td>...</td>\n",
       "      <td>...</td>\n",
       "      <td>...</td>\n",
       "      <td>...</td>\n",
       "      <td>...</td>\n",
       "      <td>...</td>\n",
       "      <td>...</td>\n",
       "      <td>...</td>\n",
       "      <td>...</td>\n",
       "    </tr>\n",
       "    <tr>\n",
       "      <th>1822</th>\n",
       "      <td>2</td>\n",
       "      <td>1689</td>\n",
       "      <td>13.70</td>\n",
       "      <td>8</td>\n",
       "      <td>1</td>\n",
       "      <td>1</td>\n",
       "      <td>0.017762</td>\n",
       "      <td>0.008111</td>\n",
       "      <td>0.266667</td>\n",
       "      <td>1</td>\n",
       "      <td>2020/12/08 13:33:21</td>\n",
       "      <td>male</td>\n",
       "      <td>Frankfurt</td>\n",
       "      <td>Sparkasse Stuttgart</td>\n",
       "    </tr>\n",
       "    <tr>\n",
       "      <th>1838</th>\n",
       "      <td>1</td>\n",
       "      <td>1465</td>\n",
       "      <td>58.95</td>\n",
       "      <td>10</td>\n",
       "      <td>0</td>\n",
       "      <td>2</td>\n",
       "      <td>0.017065</td>\n",
       "      <td>0.040239</td>\n",
       "      <td>0.400000</td>\n",
       "      <td>1</td>\n",
       "      <td>2020/11/11 13:02:15</td>\n",
       "      <td>male</td>\n",
       "      <td>Stuttgart</td>\n",
       "      <td>Volksbank Stuttgart</td>\n",
       "    </tr>\n",
       "    <tr>\n",
       "      <th>1852</th>\n",
       "      <td>1</td>\n",
       "      <td>801</td>\n",
       "      <td>73.63</td>\n",
       "      <td>6</td>\n",
       "      <td>1</td>\n",
       "      <td>4</td>\n",
       "      <td>0.034956</td>\n",
       "      <td>0.091923</td>\n",
       "      <td>0.214286</td>\n",
       "      <td>1</td>\n",
       "      <td>2020/07/06 10:34:32</td>\n",
       "      <td>female</td>\n",
       "      <td>Karlsruhe</td>\n",
       "      <td>Google Pay</td>\n",
       "    </tr>\n",
       "    <tr>\n",
       "      <th>1857</th>\n",
       "      <td>1</td>\n",
       "      <td>1400</td>\n",
       "      <td>59.43</td>\n",
       "      <td>3</td>\n",
       "      <td>6</td>\n",
       "      <td>2</td>\n",
       "      <td>0.016429</td>\n",
       "      <td>0.042450</td>\n",
       "      <td>0.130435</td>\n",
       "      <td>1</td>\n",
       "      <td>2020/08/19 11:24:23</td>\n",
       "      <td>male</td>\n",
       "      <td>Karlsruhe</td>\n",
       "      <td>Sparkasse Frankfurt</td>\n",
       "    </tr>\n",
       "    <tr>\n",
       "      <th>1875</th>\n",
       "      <td>1</td>\n",
       "      <td>397</td>\n",
       "      <td>41.89</td>\n",
       "      <td>5</td>\n",
       "      <td>5</td>\n",
       "      <td>0</td>\n",
       "      <td>0.065491</td>\n",
       "      <td>0.105516</td>\n",
       "      <td>0.192308</td>\n",
       "      <td>1</td>\n",
       "      <td>2020/09/11 11:51:09</td>\n",
       "      <td>female</td>\n",
       "      <td>Stuttgart</td>\n",
       "      <td>Volksbank Frankfurt</td>\n",
       "    </tr>\n",
       "  </tbody>\n",
       "</table>\n",
       "<p>104 rows × 14 columns</p>\n",
       "</div>"
      ],
      "text/plain": [
       "      trustLevel  totalScanTimeInSeconds  grandTotal  lineItemVoids  \\\n",
       "5              1                     770       11.09             11   \n",
       "37             2                    1397       62.59              7   \n",
       "53             1                    1385       34.68              5   \n",
       "91             1                     996       71.94              7   \n",
       "97             2                    1305       87.65              7   \n",
       "...          ...                     ...         ...            ...   \n",
       "1822           2                    1689       13.70              8   \n",
       "1838           1                    1465       58.95             10   \n",
       "1852           1                     801       73.63              6   \n",
       "1857           1                    1400       59.43              3   \n",
       "1875           1                     397       41.89              5   \n",
       "\n",
       "      scansWithoutRegistration  quantityModifications  \\\n",
       "5                            5                      2   \n",
       "37                           9                      4   \n",
       "53                           8                      4   \n",
       "91                           0                      1   \n",
       "97                           8                      4   \n",
       "...                        ...                    ...   \n",
       "1822                         1                      1   \n",
       "1838                         0                      2   \n",
       "1852                         1                      4   \n",
       "1857                         6                      2   \n",
       "1875                         5                      0   \n",
       "\n",
       "      scannedLineItemsPerSecond  valuePerSecond  lineItemVoidsPerPosition  \\\n",
       "5                      0.033766        0.014403                  0.423077   \n",
       "37                     0.017895        0.044803                  0.280000   \n",
       "53                     0.019495        0.025040                  0.185185   \n",
       "91                     0.027108        0.072229                  0.259259   \n",
       "97                     0.021456        0.067165                  0.250000   \n",
       "...                         ...             ...                       ...   \n",
       "1822                   0.017762        0.008111                  0.266667   \n",
       "1838                   0.017065        0.040239                  0.400000   \n",
       "1852                   0.034956        0.091923                  0.214286   \n",
       "1857                   0.016429        0.042450                  0.130435   \n",
       "1875                   0.065491        0.105516                  0.192308   \n",
       "\n",
       "      fraud         checkoutTime customer_sex storeLocation  \\\n",
       "5         1  2020/08/03 11:06:39       female       München   \n",
       "37        1  2020/06/08 10:02:04       female     Frankfurt   \n",
       "53        1  2020/10/20 12:36:47         male     Stuttgart   \n",
       "91        1  2020/12/27 13:54:52       female     Frankfurt   \n",
       "97        1  2020/09/12 11:52:10       female       München   \n",
       "...     ...                  ...          ...           ...   \n",
       "1822      1  2020/12/08 13:33:21         male     Frankfurt   \n",
       "1838      1  2020/11/11 13:02:15         male     Stuttgart   \n",
       "1852      1  2020/07/06 10:34:32       female     Karlsruhe   \n",
       "1857      1  2020/08/19 11:24:23         male     Karlsruhe   \n",
       "1875      1  2020/09/11 11:51:09       female     Stuttgart   \n",
       "\n",
       "              paymentType  \n",
       "5     Sparkasse Karlsruhe  \n",
       "37             Google Pay  \n",
       "53    Volksbank Frankfurt  \n",
       "91             Mastercard  \n",
       "97              Apple Pay  \n",
       "...                   ...  \n",
       "1822  Sparkasse Stuttgart  \n",
       "1838  Volksbank Stuttgart  \n",
       "1852           Google Pay  \n",
       "1857  Sparkasse Frankfurt  \n",
       "1875  Volksbank Frankfurt  \n",
       "\n",
       "[104 rows x 14 columns]"
      ]
     },
     "execution_count": 9,
     "metadata": {},
     "output_type": "execute_result"
    }
   ],
   "source": [
    "# conditional selection\n",
    "data[data['fraud']==1]"
   ]
  },
  {
   "cell_type": "code",
   "execution_count": 10,
   "metadata": {
    "colab": {
     "base_uri": "https://localhost:8080/",
     "height": 67
    },
    "id": "HcrXfEe4Iovp",
    "outputId": "a5f84904-442e-4f4f-d823-ee3518238b46"
   },
   "outputs": [
    {
     "data": {
      "text/html": [
       "<div>\n",
       "<style scoped>\n",
       "    .dataframe tbody tr th:only-of-type {\n",
       "        vertical-align: middle;\n",
       "    }\n",
       "\n",
       "    .dataframe tbody tr th {\n",
       "        vertical-align: top;\n",
       "    }\n",
       "\n",
       "    .dataframe thead th {\n",
       "        text-align: right;\n",
       "    }\n",
       "</style>\n",
       "<table border=\"1\" class=\"dataframe\">\n",
       "  <thead>\n",
       "    <tr style=\"text-align: right;\">\n",
       "      <th></th>\n",
       "      <th>trustLevel</th>\n",
       "      <th>totalScanTimeInSeconds</th>\n",
       "      <th>grandTotal</th>\n",
       "      <th>lineItemVoids</th>\n",
       "      <th>scansWithoutRegistration</th>\n",
       "      <th>quantityModifications</th>\n",
       "      <th>scannedLineItemsPerSecond</th>\n",
       "      <th>valuePerSecond</th>\n",
       "      <th>lineItemVoidsPerPosition</th>\n",
       "      <th>fraud</th>\n",
       "      <th>checkoutTime</th>\n",
       "      <th>customer_sex</th>\n",
       "      <th>storeLocation</th>\n",
       "      <th>paymentType</th>\n",
       "    </tr>\n",
       "  </thead>\n",
       "  <tbody>\n",
       "  </tbody>\n",
       "</table>\n",
       "</div>"
      ],
      "text/plain": [
       "Empty DataFrame\n",
       "Columns: [trustLevel, totalScanTimeInSeconds, grandTotal, lineItemVoids, scansWithoutRegistration, quantityModifications, scannedLineItemsPerSecond, valuePerSecond, lineItemVoidsPerPosition, fraud, checkoutTime, customer_sex, storeLocation, paymentType]\n",
       "Index: []"
      ]
     },
     "execution_count": 10,
     "metadata": {},
     "output_type": "execute_result"
    }
   ],
   "source": [
    "# another way to perform conditional selection / access by label\n",
    "data.loc[(data['trustLevel']=='high risk')]"
   ]
  },
  {
   "cell_type": "code",
   "execution_count": 11,
   "metadata": {
    "colab": {
     "base_uri": "https://localhost:8080/",
     "height": 47
    },
    "id": "9HUZc9v4F7z7",
    "outputId": "18d0fcd1-b52f-46f1-d47c-32751b0687c7"
   },
   "outputs": [
    {
     "data": {
      "text/html": [
       "<div>\n",
       "<style scoped>\n",
       "    .dataframe tbody tr th:only-of-type {\n",
       "        vertical-align: middle;\n",
       "    }\n",
       "\n",
       "    .dataframe tbody tr th {\n",
       "        vertical-align: top;\n",
       "    }\n",
       "\n",
       "    .dataframe thead th {\n",
       "        text-align: right;\n",
       "    }\n",
       "</style>\n",
       "<table border=\"1\" class=\"dataframe\">\n",
       "  <thead>\n",
       "    <tr style=\"text-align: right;\">\n",
       "      <th></th>\n",
       "      <th>scansWithoutRegistration</th>\n",
       "    </tr>\n",
       "  </thead>\n",
       "  <tbody>\n",
       "  </tbody>\n",
       "</table>\n",
       "</div>"
      ],
      "text/plain": [
       "Empty DataFrame\n",
       "Columns: [scansWithoutRegistration]\n",
       "Index: []"
      ]
     },
     "execution_count": 11,
     "metadata": {},
     "output_type": "execute_result"
    }
   ],
   "source": [
    "# conditional selection of one column\n",
    "data.loc[(data['trustLevel']=='high risk'), ['scansWithoutRegistration']]"
   ]
  },
  {
   "cell_type": "code",
   "execution_count": 12,
   "metadata": {
    "colab": {
     "base_uri": "https://localhost:8080/",
     "height": 299
    },
    "id": "-1R3BDfwF722",
    "outputId": "b26b1e38-dd68-4862-85b3-ba71c73e815d"
   },
   "outputs": [
    {
     "data": {
      "text/html": [
       "<div>\n",
       "<style scoped>\n",
       "    .dataframe tbody tr th:only-of-type {\n",
       "        vertical-align: middle;\n",
       "    }\n",
       "\n",
       "    .dataframe tbody tr th {\n",
       "        vertical-align: top;\n",
       "    }\n",
       "\n",
       "    .dataframe thead th {\n",
       "        text-align: right;\n",
       "    }\n",
       "</style>\n",
       "<table border=\"1\" class=\"dataframe\">\n",
       "  <thead>\n",
       "    <tr style=\"text-align: right;\">\n",
       "      <th></th>\n",
       "      <th>trustLevel</th>\n",
       "      <th>totalScanTimeInSeconds</th>\n",
       "      <th>grandTotal</th>\n",
       "      <th>lineItemVoids</th>\n",
       "      <th>scansWithoutRegistration</th>\n",
       "      <th>quantityModifications</th>\n",
       "      <th>scannedLineItemsPerSecond</th>\n",
       "      <th>valuePerSecond</th>\n",
       "      <th>lineItemVoidsPerPosition</th>\n",
       "      <th>fraud</th>\n",
       "      <th>checkoutTime</th>\n",
       "      <th>customer_sex</th>\n",
       "      <th>storeLocation</th>\n",
       "      <th>paymentType</th>\n",
       "    </tr>\n",
       "  </thead>\n",
       "  <tbody>\n",
       "    <tr>\n",
       "      <th>5</th>\n",
       "      <td>1</td>\n",
       "      <td>770</td>\n",
       "      <td>11.09</td>\n",
       "      <td>11</td>\n",
       "      <td>5</td>\n",
       "      <td>2</td>\n",
       "      <td>0.033766</td>\n",
       "      <td>0.014403</td>\n",
       "      <td>0.423077</td>\n",
       "      <td>1</td>\n",
       "      <td>2020/08/03 11:06:39</td>\n",
       "      <td>female</td>\n",
       "      <td>München</td>\n",
       "      <td>Sparkasse Karlsruhe</td>\n",
       "    </tr>\n",
       "    <tr>\n",
       "      <th>6</th>\n",
       "      <td>3</td>\n",
       "      <td>294</td>\n",
       "      <td>55.63</td>\n",
       "      <td>2</td>\n",
       "      <td>7</td>\n",
       "      <td>1</td>\n",
       "      <td>0.037415</td>\n",
       "      <td>0.189218</td>\n",
       "      <td>0.181818</td>\n",
       "      <td>0</td>\n",
       "      <td>2020/01/18 07:42:24</td>\n",
       "      <td>female</td>\n",
       "      <td>München</td>\n",
       "      <td>Sparkasse Frankfurt</td>\n",
       "    </tr>\n",
       "    <tr>\n",
       "      <th>7</th>\n",
       "      <td>2</td>\n",
       "      <td>1545</td>\n",
       "      <td>22.80</td>\n",
       "      <td>0</td>\n",
       "      <td>8</td>\n",
       "      <td>4</td>\n",
       "      <td>0.006472</td>\n",
       "      <td>0.014757</td>\n",
       "      <td>0.000000</td>\n",
       "      <td>0</td>\n",
       "      <td>2020/12/12 21:13:06</td>\n",
       "      <td>female</td>\n",
       "      <td>Stuttgart</td>\n",
       "      <td>Visa</td>\n",
       "    </tr>\n",
       "    <tr>\n",
       "      <th>8</th>\n",
       "      <td>6</td>\n",
       "      <td>962</td>\n",
       "      <td>65.44</td>\n",
       "      <td>7</td>\n",
       "      <td>0</td>\n",
       "      <td>2</td>\n",
       "      <td>0.028067</td>\n",
       "      <td>0.068025</td>\n",
       "      <td>0.259259</td>\n",
       "      <td>0</td>\n",
       "      <td>2020/02/04 08:25:48</td>\n",
       "      <td>male</td>\n",
       "      <td>Karlsruhe</td>\n",
       "      <td>Apple Pay</td>\n",
       "    </tr>\n",
       "    <tr>\n",
       "      <th>9</th>\n",
       "      <td>2</td>\n",
       "      <td>725</td>\n",
       "      <td>41.08</td>\n",
       "      <td>10</td>\n",
       "      <td>2</td>\n",
       "      <td>4</td>\n",
       "      <td>0.037241</td>\n",
       "      <td>0.056662</td>\n",
       "      <td>0.370370</td>\n",
       "      <td>0</td>\n",
       "      <td>2020/02/07 08:31:31</td>\n",
       "      <td>female</td>\n",
       "      <td>Karlsruhe</td>\n",
       "      <td>Sparkasse Frankfurt</td>\n",
       "    </tr>\n",
       "  </tbody>\n",
       "</table>\n",
       "</div>"
      ],
      "text/plain": [
       "   trustLevel  totalScanTimeInSeconds  grandTotal  lineItemVoids  \\\n",
       "5           1                     770       11.09             11   \n",
       "6           3                     294       55.63              2   \n",
       "7           2                    1545       22.80              0   \n",
       "8           6                     962       65.44              7   \n",
       "9           2                     725       41.08             10   \n",
       "\n",
       "   scansWithoutRegistration  quantityModifications  scannedLineItemsPerSecond  \\\n",
       "5                         5                      2                   0.033766   \n",
       "6                         7                      1                   0.037415   \n",
       "7                         8                      4                   0.006472   \n",
       "8                         0                      2                   0.028067   \n",
       "9                         2                      4                   0.037241   \n",
       "\n",
       "   valuePerSecond  lineItemVoidsPerPosition  fraud         checkoutTime  \\\n",
       "5        0.014403                  0.423077      1  2020/08/03 11:06:39   \n",
       "6        0.189218                  0.181818      0  2020/01/18 07:42:24   \n",
       "7        0.014757                  0.000000      0  2020/12/12 21:13:06   \n",
       "8        0.068025                  0.259259      0  2020/02/04 08:25:48   \n",
       "9        0.056662                  0.370370      0  2020/02/07 08:31:31   \n",
       "\n",
       "  customer_sex storeLocation          paymentType  \n",
       "5       female       München  Sparkasse Karlsruhe  \n",
       "6       female       München  Sparkasse Frankfurt  \n",
       "7       female     Stuttgart                 Visa  \n",
       "8         male     Karlsruhe            Apple Pay  \n",
       "9       female     Karlsruhe  Sparkasse Frankfurt  "
      ]
     },
     "execution_count": 12,
     "metadata": {},
     "output_type": "execute_result"
    }
   ],
   "source": [
    "#selection by position\n",
    "#data.iloc[3]\n",
    "data.iloc[5:10]"
   ]
  },
  {
   "cell_type": "code",
   "execution_count": 13,
   "metadata": {
    "colab": {
     "base_uri": "https://localhost:8080/"
    },
    "id": "QQ4_UiShvabI",
    "outputId": "6c1cf125-15f4-48f4-edbc-7da72632166c"
   },
   "outputs": [
    {
     "data": {
      "text/plain": [
       "[3,\n",
       " 4,\n",
       " 5,\n",
       " 6,\n",
       " 14,\n",
       " 15,\n",
       " 17,\n",
       " 22,\n",
       " 25,\n",
       " 27,\n",
       " 31,\n",
       " 33,\n",
       " 43,\n",
       " 44,\n",
       " 45,\n",
       " 51,\n",
       " 52,\n",
       " 60,\n",
       " 62,\n",
       " 69,\n",
       " 71,\n",
       " 72,\n",
       " 76,\n",
       " 80,\n",
       " 92,\n",
       " 94,\n",
       " 95,\n",
       " 97,\n",
       " 99,\n",
       " 111,\n",
       " 113,\n",
       " 116,\n",
       " 120,\n",
       " 121,\n",
       " 129,\n",
       " 136,\n",
       " 143,\n",
       " 144,\n",
       " 147,\n",
       " 150,\n",
       " 157,\n",
       " 164,\n",
       " 166,\n",
       " 168,\n",
       " 170,\n",
       " 173,\n",
       " 175,\n",
       " 177,\n",
       " 183,\n",
       " 184,\n",
       " 189,\n",
       " 199,\n",
       " 202,\n",
       " 211,\n",
       " 212,\n",
       " 213,\n",
       " 217,\n",
       " 219,\n",
       " 224,\n",
       " 225,\n",
       " 229,\n",
       " 230,\n",
       " 234,\n",
       " 238,\n",
       " 239,\n",
       " 243,\n",
       " 249,\n",
       " 252,\n",
       " 253,\n",
       " 259,\n",
       " 261,\n",
       " 266,\n",
       " 281,\n",
       " 291,\n",
       " 293,\n",
       " 298,\n",
       " 299,\n",
       " 302,\n",
       " 307,\n",
       " 314,\n",
       " 318,\n",
       " 319,\n",
       " 322,\n",
       " 327,\n",
       " 329,\n",
       " 336,\n",
       " 337,\n",
       " 338,\n",
       " 341,\n",
       " 342,\n",
       " 343,\n",
       " 348,\n",
       " 351,\n",
       " 359,\n",
       " 360,\n",
       " 363,\n",
       " 368,\n",
       " 370,\n",
       " 371,\n",
       " 373,\n",
       " 375,\n",
       " 377,\n",
       " 384,\n",
       " 386,\n",
       " 388,\n",
       " 398,\n",
       " 400,\n",
       " 402,\n",
       " 409,\n",
       " 413,\n",
       " 414,\n",
       " 418,\n",
       " 421,\n",
       " 422,\n",
       " 426,\n",
       " 430,\n",
       " 431,\n",
       " 438,\n",
       " 439,\n",
       " 444,\n",
       " 447,\n",
       " 448,\n",
       " 451,\n",
       " 453,\n",
       " 458,\n",
       " 459,\n",
       " 460,\n",
       " 461,\n",
       " 463,\n",
       " 466,\n",
       " 474,\n",
       " 486,\n",
       " 487,\n",
       " 488,\n",
       " 493,\n",
       " 499,\n",
       " 500,\n",
       " 503,\n",
       " 505,\n",
       " 512,\n",
       " 513,\n",
       " 516,\n",
       " 519,\n",
       " 524,\n",
       " 528,\n",
       " 536,\n",
       " 543,\n",
       " 548,\n",
       " 553,\n",
       " 556,\n",
       " 557,\n",
       " 562,\n",
       " 565,\n",
       " 569,\n",
       " 575,\n",
       " 582,\n",
       " 583,\n",
       " 584,\n",
       " 587,\n",
       " 588,\n",
       " 590,\n",
       " 596,\n",
       " 604,\n",
       " 605,\n",
       " 610,\n",
       " 615,\n",
       " 619,\n",
       " 621,\n",
       " 624,\n",
       " 628,\n",
       " 635,\n",
       " 641,\n",
       " 653,\n",
       " 658,\n",
       " 665,\n",
       " 667,\n",
       " 670,\n",
       " 671,\n",
       " 682,\n",
       " 684,\n",
       " 690,\n",
       " 702,\n",
       " 706,\n",
       " 713,\n",
       " 716,\n",
       " 718,\n",
       " 722,\n",
       " 726,\n",
       " 729,\n",
       " 732,\n",
       " 735,\n",
       " 737,\n",
       " 738,\n",
       " 739,\n",
       " 743,\n",
       " 745,\n",
       " 757,\n",
       " 760,\n",
       " 762,\n",
       " 768,\n",
       " 770,\n",
       " 771,\n",
       " 782,\n",
       " 783,\n",
       " 785,\n",
       " 786,\n",
       " 792,\n",
       " 797,\n",
       " 798,\n",
       " 805,\n",
       " 820,\n",
       " 823,\n",
       " 825,\n",
       " 831,\n",
       " 832,\n",
       " 852,\n",
       " 855,\n",
       " 858,\n",
       " 861,\n",
       " 865,\n",
       " 871,\n",
       " 875,\n",
       " 881,\n",
       " 887,\n",
       " 890,\n",
       " 892,\n",
       " 896,\n",
       " 902,\n",
       " 909,\n",
       " 918,\n",
       " 925,\n",
       " 926,\n",
       " 927,\n",
       " 931,\n",
       " 933,\n",
       " 934,\n",
       " 938,\n",
       " 941,\n",
       " 944,\n",
       " 950,\n",
       " 952,\n",
       " 960,\n",
       " 964,\n",
       " 965,\n",
       " 977,\n",
       " 987,\n",
       " 990,\n",
       " 993,\n",
       " 997,\n",
       " 1002,\n",
       " 1007,\n",
       " 1010,\n",
       " 1011,\n",
       " 1017,\n",
       " 1019,\n",
       " 1021,\n",
       " 1026,\n",
       " 1027,\n",
       " 1028,\n",
       " 1029,\n",
       " 1032,\n",
       " 1043,\n",
       " 1044,\n",
       " 1053,\n",
       " 1061,\n",
       " 1066,\n",
       " 1068,\n",
       " 1069,\n",
       " 1084,\n",
       " 1086,\n",
       " 1090,\n",
       " 1093,\n",
       " 1094,\n",
       " 1095,\n",
       " 1097,\n",
       " 1098,\n",
       " 1100,\n",
       " 1101,\n",
       " 1105,\n",
       " 1109,\n",
       " 1117,\n",
       " 1128,\n",
       " 1130,\n",
       " 1135,\n",
       " 1139,\n",
       " 1142,\n",
       " 1147,\n",
       " 1154,\n",
       " 1163,\n",
       " 1169,\n",
       " 1170,\n",
       " 1176,\n",
       " 1179,\n",
       " 1186,\n",
       " 1188,\n",
       " 1194,\n",
       " 1196,\n",
       " 1198,\n",
       " 1199,\n",
       " 1202,\n",
       " 1222,\n",
       " 1223,\n",
       " 1227,\n",
       " 1235,\n",
       " 1240,\n",
       " 1241,\n",
       " 1242,\n",
       " 1245,\n",
       " 1249,\n",
       " 1252,\n",
       " 1267,\n",
       " 1273,\n",
       " 1274,\n",
       " 1277,\n",
       " 1282,\n",
       " 1284,\n",
       " 1285,\n",
       " 1286,\n",
       " 1287,\n",
       " 1290,\n",
       " 1293,\n",
       " 1296,\n",
       " 1312,\n",
       " 1313,\n",
       " 1315,\n",
       " 1316,\n",
       " 1321,\n",
       " 1325,\n",
       " 1329,\n",
       " 1331,\n",
       " 1332,\n",
       " 1333,\n",
       " 1334,\n",
       " 1340,\n",
       " 1342,\n",
       " 1344,\n",
       " 1345,\n",
       " 1352,\n",
       " 1357,\n",
       " 1359,\n",
       " 1363,\n",
       " 1372,\n",
       " 1373,\n",
       " 1374,\n",
       " 1375,\n",
       " 1383,\n",
       " 1385,\n",
       " 1394,\n",
       " 1401,\n",
       " 1406,\n",
       " 1412,\n",
       " 1420,\n",
       " 1421,\n",
       " 1430,\n",
       " 1431,\n",
       " 1441,\n",
       " 1452,\n",
       " 1454,\n",
       " 1455,\n",
       " 1459,\n",
       " 1467,\n",
       " 1468,\n",
       " 1472,\n",
       " 1476,\n",
       " 1483,\n",
       " 1485,\n",
       " 1489,\n",
       " 1490,\n",
       " 1497,\n",
       " 1502,\n",
       " 1505,\n",
       " 1507,\n",
       " 1509,\n",
       " 1511,\n",
       " 1512,\n",
       " 1513,\n",
       " 1522,\n",
       " 1526,\n",
       " 1527,\n",
       " 1532,\n",
       " 1536,\n",
       " 1544,\n",
       " 1551,\n",
       " 1552,\n",
       " 1553,\n",
       " 1555,\n",
       " 1556,\n",
       " 1559,\n",
       " 1561,\n",
       " 1565,\n",
       " 1566,\n",
       " 1567,\n",
       " 1568,\n",
       " 1573,\n",
       " 1575,\n",
       " 1576,\n",
       " 1579,\n",
       " 1581,\n",
       " 1582,\n",
       " 1583,\n",
       " 1593,\n",
       " 1595,\n",
       " 1596,\n",
       " 1598,\n",
       " 1610,\n",
       " 1617,\n",
       " 1623,\n",
       " 1624,\n",
       " 1627,\n",
       " 1628,\n",
       " 1637,\n",
       " 1638,\n",
       " 1655,\n",
       " 1657,\n",
       " 1661,\n",
       " 1663,\n",
       " 1664,\n",
       " 1671,\n",
       " 1672,\n",
       " 1673,\n",
       " 1674,\n",
       " 1675,\n",
       " 1678,\n",
       " 1679,\n",
       " 1681,\n",
       " 1683,\n",
       " 1690,\n",
       " 1695,\n",
       " 1697,\n",
       " 1701,\n",
       " 1708,\n",
       " 1710,\n",
       " 1713,\n",
       " 1714,\n",
       " 1722,\n",
       " 1723,\n",
       " 1727,\n",
       " 1728,\n",
       " 1736,\n",
       " 1740,\n",
       " 1753,\n",
       " 1758,\n",
       " 1760,\n",
       " 1766,\n",
       " 1767,\n",
       " 1771,\n",
       " 1774,\n",
       " 1777,\n",
       " 1780,\n",
       " 1782,\n",
       " 1784,\n",
       " 1787,\n",
       " 1794,\n",
       " 1795,\n",
       " 1796,\n",
       " 1797,\n",
       " 1799,\n",
       " 1800,\n",
       " 1811,\n",
       " 1813,\n",
       " 1818,\n",
       " 1823,\n",
       " 1825,\n",
       " 1826,\n",
       " 1831,\n",
       " 1834,\n",
       " 1839,\n",
       " 1847,\n",
       " 1848,\n",
       " 1858,\n",
       " 1859,\n",
       " 1860,\n",
       " 1861,\n",
       " 1863,\n",
       " 1868,\n",
       " 1873,\n",
       " 1877,\n",
       " 1878]"
      ]
     },
     "execution_count": 13,
     "metadata": {},
     "output_type": "execute_result"
    }
   ],
   "source": [
    "# get Index:\n",
    "list(data[data['storeLocation']=='München'].index.values) "
   ]
  },
  {
   "cell_type": "markdown",
   "metadata": {
    "id": "2LJudSB9TCPp"
   },
   "source": [
    "Often it is usefull to create a copy of the dataframe. This can be done by either create a deep copy which creates a new object with a copy of an objects inidces and data (deep=True). All modifications to the copied dataframe will not be reflected in the origional dataframe. Another possibility is to create a shallow copy (deep=False) with references to the origional datas inidces and data, so that any changes to the origional dataframe will be reflected in the copy as well. The pandas function .copy() creates a deep copy by default.  "
   ]
  },
  {
   "cell_type": "code",
   "execution_count": 14,
   "metadata": {
    "id": "lQJcM-9TSs1J"
   },
   "outputs": [],
   "source": [
    "# create a copy of the dataframe\n",
    "data_new = data.copy()"
   ]
  },
  {
   "cell_type": "code",
   "execution_count": 15,
   "metadata": {
    "id": "AnwEFdnvF75o"
   },
   "outputs": [],
   "source": [
    "# moreover sometimes it might be good to delete a column, e.g. when their information is not usefull for your task\n",
    "data_new = data_new.drop(columns='customer_sex')"
   ]
  },
  {
   "cell_type": "code",
   "execution_count": 16,
   "metadata": {
    "colab": {
     "base_uri": "https://localhost:8080/",
     "height": 299
    },
    "id": "M2m3bU6BVzNP",
    "outputId": "47984a84-1ffc-4f47-f66d-9acd2f54b322"
   },
   "outputs": [
    {
     "data": {
      "text/html": [
       "<div>\n",
       "<style scoped>\n",
       "    .dataframe tbody tr th:only-of-type {\n",
       "        vertical-align: middle;\n",
       "    }\n",
       "\n",
       "    .dataframe tbody tr th {\n",
       "        vertical-align: top;\n",
       "    }\n",
       "\n",
       "    .dataframe thead th {\n",
       "        text-align: right;\n",
       "    }\n",
       "</style>\n",
       "<table border=\"1\" class=\"dataframe\">\n",
       "  <thead>\n",
       "    <tr style=\"text-align: right;\">\n",
       "      <th></th>\n",
       "      <th>trustLevel</th>\n",
       "      <th>totalScanTimeInSeconds</th>\n",
       "      <th>grandTotal</th>\n",
       "      <th>lineItemVoids</th>\n",
       "      <th>scansWithoutRegistration</th>\n",
       "      <th>quantityModifications</th>\n",
       "      <th>scannedLineItemsPerSecond</th>\n",
       "      <th>valuePerSecond</th>\n",
       "      <th>lineItemVoidsPerPosition</th>\n",
       "      <th>fraud</th>\n",
       "      <th>checkoutTime</th>\n",
       "      <th>storeLocation</th>\n",
       "      <th>paymentType</th>\n",
       "    </tr>\n",
       "  </thead>\n",
       "  <tbody>\n",
       "    <tr>\n",
       "      <th>0</th>\n",
       "      <td>5</td>\n",
       "      <td>1054</td>\n",
       "      <td>54.70</td>\n",
       "      <td>7</td>\n",
       "      <td>0</td>\n",
       "      <td>3</td>\n",
       "      <td>0.027514</td>\n",
       "      <td>0.051898</td>\n",
       "      <td>0.241379</td>\n",
       "      <td>0</td>\n",
       "      <td>2020/11/06 19:43:53</td>\n",
       "      <td>Frankfurt</td>\n",
       "      <td>Mastercard</td>\n",
       "    </tr>\n",
       "    <tr>\n",
       "      <th>1</th>\n",
       "      <td>3</td>\n",
       "      <td>108</td>\n",
       "      <td>27.36</td>\n",
       "      <td>5</td>\n",
       "      <td>2</td>\n",
       "      <td>4</td>\n",
       "      <td>0.129630</td>\n",
       "      <td>0.253333</td>\n",
       "      <td>0.357143</td>\n",
       "      <td>0</td>\n",
       "      <td>2020/10/04 18:22:17</td>\n",
       "      <td>Karlsruhe</td>\n",
       "      <td>Mastercard</td>\n",
       "    </tr>\n",
       "    <tr>\n",
       "      <th>2</th>\n",
       "      <td>3</td>\n",
       "      <td>1516</td>\n",
       "      <td>62.16</td>\n",
       "      <td>3</td>\n",
       "      <td>10</td>\n",
       "      <td>5</td>\n",
       "      <td>0.008575</td>\n",
       "      <td>0.041003</td>\n",
       "      <td>0.230769</td>\n",
       "      <td>0</td>\n",
       "      <td>2020/10/23 19:08:53</td>\n",
       "      <td>Stuttgart</td>\n",
       "      <td>BB Bank Karlsruhe</td>\n",
       "    </tr>\n",
       "    <tr>\n",
       "      <th>3</th>\n",
       "      <td>6</td>\n",
       "      <td>1791</td>\n",
       "      <td>92.31</td>\n",
       "      <td>8</td>\n",
       "      <td>4</td>\n",
       "      <td>4</td>\n",
       "      <td>0.016192</td>\n",
       "      <td>0.051541</td>\n",
       "      <td>0.275862</td>\n",
       "      <td>0</td>\n",
       "      <td>2020/12/07 21:00:09</td>\n",
       "      <td>München</td>\n",
       "      <td>Sparkasse Munchen</td>\n",
       "    </tr>\n",
       "    <tr>\n",
       "      <th>4</th>\n",
       "      <td>5</td>\n",
       "      <td>430</td>\n",
       "      <td>81.53</td>\n",
       "      <td>3</td>\n",
       "      <td>7</td>\n",
       "      <td>2</td>\n",
       "      <td>0.062791</td>\n",
       "      <td>0.189605</td>\n",
       "      <td>0.111111</td>\n",
       "      <td>0</td>\n",
       "      <td>2020/12/20 21:32:22</td>\n",
       "      <td>München</td>\n",
       "      <td>Sparkasse Karlsruhe</td>\n",
       "    </tr>\n",
       "  </tbody>\n",
       "</table>\n",
       "</div>"
      ],
      "text/plain": [
       "   trustLevel  totalScanTimeInSeconds  grandTotal  lineItemVoids  \\\n",
       "0           5                    1054       54.70              7   \n",
       "1           3                     108       27.36              5   \n",
       "2           3                    1516       62.16              3   \n",
       "3           6                    1791       92.31              8   \n",
       "4           5                     430       81.53              3   \n",
       "\n",
       "   scansWithoutRegistration  quantityModifications  scannedLineItemsPerSecond  \\\n",
       "0                         0                      3                   0.027514   \n",
       "1                         2                      4                   0.129630   \n",
       "2                        10                      5                   0.008575   \n",
       "3                         4                      4                   0.016192   \n",
       "4                         7                      2                   0.062791   \n",
       "\n",
       "   valuePerSecond  lineItemVoidsPerPosition  fraud         checkoutTime  \\\n",
       "0        0.051898                  0.241379      0  2020/11/06 19:43:53   \n",
       "1        0.253333                  0.357143      0  2020/10/04 18:22:17   \n",
       "2        0.041003                  0.230769      0  2020/10/23 19:08:53   \n",
       "3        0.051541                  0.275862      0  2020/12/07 21:00:09   \n",
       "4        0.189605                  0.111111      0  2020/12/20 21:32:22   \n",
       "\n",
       "  storeLocation          paymentType  \n",
       "0     Frankfurt           Mastercard  \n",
       "1     Karlsruhe           Mastercard  \n",
       "2     Stuttgart    BB Bank Karlsruhe  \n",
       "3       München    Sparkasse Munchen  \n",
       "4       München  Sparkasse Karlsruhe  "
      ]
     },
     "execution_count": 16,
     "metadata": {},
     "output_type": "execute_result"
    }
   ],
   "source": [
    "data_new.head()"
   ]
  },
  {
   "cell_type": "markdown",
   "metadata": {
    "id": "8IOLSSbNXFfO"
   },
   "source": [
    "### Now you: Data Overview\n",
    "\n",
    "Perform the following selections:\n",
    "1.    Return all purchases where the number of scans without registration is higher than 5. \n",
    "2.    How many purchases with a trust level below 2 are done in Munich?\n",
    "3.    What is the maximum scanned line items per second of those purchases that include more than three scans without registration?\n",
    "4.    Return the index of the purchases where the grandTotal is higher than 60 and the trust level below 3"
   ]
  },
  {
   "cell_type": "markdown",
   "metadata": {},
   "source": [
    "Solution"
   ]
  },
  {
   "cell_type": "code",
   "execution_count": 20,
   "metadata": {},
   "outputs": [
    {
     "data": {
      "text/html": [
       "<div>\n",
       "<style scoped>\n",
       "    .dataframe tbody tr th:only-of-type {\n",
       "        vertical-align: middle;\n",
       "    }\n",
       "\n",
       "    .dataframe tbody tr th {\n",
       "        vertical-align: top;\n",
       "    }\n",
       "\n",
       "    .dataframe thead th {\n",
       "        text-align: right;\n",
       "    }\n",
       "</style>\n",
       "<table border=\"1\" class=\"dataframe\">\n",
       "  <thead>\n",
       "    <tr style=\"text-align: right;\">\n",
       "      <th></th>\n",
       "      <th>trustLevel</th>\n",
       "      <th>totalScanTimeInSeconds</th>\n",
       "      <th>grandTotal</th>\n",
       "      <th>lineItemVoids</th>\n",
       "      <th>scansWithoutRegistration</th>\n",
       "      <th>quantityModifications</th>\n",
       "      <th>scannedLineItemsPerSecond</th>\n",
       "      <th>valuePerSecond</th>\n",
       "      <th>lineItemVoidsPerPosition</th>\n",
       "      <th>fraud</th>\n",
       "      <th>checkoutTime</th>\n",
       "      <th>customer_sex</th>\n",
       "      <th>storeLocation</th>\n",
       "      <th>paymentType</th>\n",
       "    </tr>\n",
       "  </thead>\n",
       "  <tbody>\n",
       "    <tr>\n",
       "      <th>2</th>\n",
       "      <td>3</td>\n",
       "      <td>1516</td>\n",
       "      <td>62.16</td>\n",
       "      <td>3</td>\n",
       "      <td>10</td>\n",
       "      <td>5</td>\n",
       "      <td>0.008575</td>\n",
       "      <td>0.041003</td>\n",
       "      <td>0.230769</td>\n",
       "      <td>0</td>\n",
       "      <td>2020/10/23 19:08:53</td>\n",
       "      <td>NaN</td>\n",
       "      <td>Stuttgart</td>\n",
       "      <td>BB Bank Karlsruhe</td>\n",
       "    </tr>\n",
       "    <tr>\n",
       "      <th>4</th>\n",
       "      <td>5</td>\n",
       "      <td>430</td>\n",
       "      <td>81.53</td>\n",
       "      <td>3</td>\n",
       "      <td>7</td>\n",
       "      <td>2</td>\n",
       "      <td>0.062791</td>\n",
       "      <td>0.189605</td>\n",
       "      <td>0.111111</td>\n",
       "      <td>0</td>\n",
       "      <td>2020/12/20 21:32:22</td>\n",
       "      <td>male</td>\n",
       "      <td>München</td>\n",
       "      <td>Sparkasse Karlsruhe</td>\n",
       "    </tr>\n",
       "    <tr>\n",
       "      <th>6</th>\n",
       "      <td>3</td>\n",
       "      <td>294</td>\n",
       "      <td>55.63</td>\n",
       "      <td>2</td>\n",
       "      <td>7</td>\n",
       "      <td>1</td>\n",
       "      <td>0.037415</td>\n",
       "      <td>0.189218</td>\n",
       "      <td>0.181818</td>\n",
       "      <td>0</td>\n",
       "      <td>2020/01/18 07:42:24</td>\n",
       "      <td>female</td>\n",
       "      <td>München</td>\n",
       "      <td>Sparkasse Frankfurt</td>\n",
       "    </tr>\n",
       "    <tr>\n",
       "      <th>7</th>\n",
       "      <td>2</td>\n",
       "      <td>1545</td>\n",
       "      <td>22.80</td>\n",
       "      <td>0</td>\n",
       "      <td>8</td>\n",
       "      <td>4</td>\n",
       "      <td>0.006472</td>\n",
       "      <td>0.014757</td>\n",
       "      <td>0.000000</td>\n",
       "      <td>0</td>\n",
       "      <td>2020/12/12 21:13:06</td>\n",
       "      <td>female</td>\n",
       "      <td>Stuttgart</td>\n",
       "      <td>Visa</td>\n",
       "    </tr>\n",
       "    <tr>\n",
       "      <th>12</th>\n",
       "      <td>4</td>\n",
       "      <td>1736</td>\n",
       "      <td>5.46</td>\n",
       "      <td>4</td>\n",
       "      <td>10</td>\n",
       "      <td>4</td>\n",
       "      <td>0.005760</td>\n",
       "      <td>0.003145</td>\n",
       "      <td>0.400000</td>\n",
       "      <td>0</td>\n",
       "      <td>2020/06/26 14:16:01</td>\n",
       "      <td>female</td>\n",
       "      <td>Karlsruhe</td>\n",
       "      <td>BB Bank Karlsruhe</td>\n",
       "    </tr>\n",
       "    <tr>\n",
       "      <th>...</th>\n",
       "      <td>...</td>\n",
       "      <td>...</td>\n",
       "      <td>...</td>\n",
       "      <td>...</td>\n",
       "      <td>...</td>\n",
       "      <td>...</td>\n",
       "      <td>...</td>\n",
       "      <td>...</td>\n",
       "      <td>...</td>\n",
       "      <td>...</td>\n",
       "      <td>...</td>\n",
       "      <td>...</td>\n",
       "      <td>...</td>\n",
       "      <td>...</td>\n",
       "    </tr>\n",
       "    <tr>\n",
       "      <th>1862</th>\n",
       "      <td>4</td>\n",
       "      <td>212</td>\n",
       "      <td>88.01</td>\n",
       "      <td>3</td>\n",
       "      <td>6</td>\n",
       "      <td>5</td>\n",
       "      <td>0.014151</td>\n",
       "      <td>0.415142</td>\n",
       "      <td>1.000000</td>\n",
       "      <td>0</td>\n",
       "      <td>2020/09/08 17:18:57</td>\n",
       "      <td>male</td>\n",
       "      <td>Karlsruhe</td>\n",
       "      <td>Volksbank Stuttgart</td>\n",
       "    </tr>\n",
       "    <tr>\n",
       "      <th>1869</th>\n",
       "      <td>4</td>\n",
       "      <td>452</td>\n",
       "      <td>44.59</td>\n",
       "      <td>7</td>\n",
       "      <td>9</td>\n",
       "      <td>3</td>\n",
       "      <td>0.050885</td>\n",
       "      <td>0.098650</td>\n",
       "      <td>0.304348</td>\n",
       "      <td>0</td>\n",
       "      <td>2020/08/18 16:27:35</td>\n",
       "      <td>female</td>\n",
       "      <td>Frankfurt</td>\n",
       "      <td>Sparkasse Stuttgart</td>\n",
       "    </tr>\n",
       "    <tr>\n",
       "      <th>1874</th>\n",
       "      <td>1</td>\n",
       "      <td>321</td>\n",
       "      <td>76.03</td>\n",
       "      <td>8</td>\n",
       "      <td>7</td>\n",
       "      <td>2</td>\n",
       "      <td>0.071651</td>\n",
       "      <td>0.236854</td>\n",
       "      <td>0.347826</td>\n",
       "      <td>0</td>\n",
       "      <td>2020/06/26 14:17:29</td>\n",
       "      <td>female</td>\n",
       "      <td>Stuttgart</td>\n",
       "      <td>Visa</td>\n",
       "    </tr>\n",
       "    <tr>\n",
       "      <th>1876</th>\n",
       "      <td>4</td>\n",
       "      <td>316</td>\n",
       "      <td>41.83</td>\n",
       "      <td>5</td>\n",
       "      <td>8</td>\n",
       "      <td>1</td>\n",
       "      <td>0.094937</td>\n",
       "      <td>0.132373</td>\n",
       "      <td>0.166667</td>\n",
       "      <td>0</td>\n",
       "      <td>2020/08/28 16:50:42</td>\n",
       "      <td>male</td>\n",
       "      <td>Stuttgart</td>\n",
       "      <td>BB Bank Karlsruhe</td>\n",
       "    </tr>\n",
       "    <tr>\n",
       "      <th>1877</th>\n",
       "      <td>2</td>\n",
       "      <td>685</td>\n",
       "      <td>62.68</td>\n",
       "      <td>1</td>\n",
       "      <td>6</td>\n",
       "      <td>2</td>\n",
       "      <td>0.035036</td>\n",
       "      <td>0.091504</td>\n",
       "      <td>0.041667</td>\n",
       "      <td>0</td>\n",
       "      <td>2020/10/31 19:29:27</td>\n",
       "      <td>female</td>\n",
       "      <td>München</td>\n",
       "      <td>Apple Pay</td>\n",
       "    </tr>\n",
       "  </tbody>\n",
       "</table>\n",
       "<p>816 rows × 14 columns</p>\n",
       "</div>"
      ],
      "text/plain": [
       "      trustLevel  totalScanTimeInSeconds  grandTotal  lineItemVoids  \\\n",
       "2              3                    1516       62.16              3   \n",
       "4              5                     430       81.53              3   \n",
       "6              3                     294       55.63              2   \n",
       "7              2                    1545       22.80              0   \n",
       "12             4                    1736        5.46              4   \n",
       "...          ...                     ...         ...            ...   \n",
       "1862           4                     212       88.01              3   \n",
       "1869           4                     452       44.59              7   \n",
       "1874           1                     321       76.03              8   \n",
       "1876           4                     316       41.83              5   \n",
       "1877           2                     685       62.68              1   \n",
       "\n",
       "      scansWithoutRegistration  quantityModifications  \\\n",
       "2                           10                      5   \n",
       "4                            7                      2   \n",
       "6                            7                      1   \n",
       "7                            8                      4   \n",
       "12                          10                      4   \n",
       "...                        ...                    ...   \n",
       "1862                         6                      5   \n",
       "1869                         9                      3   \n",
       "1874                         7                      2   \n",
       "1876                         8                      1   \n",
       "1877                         6                      2   \n",
       "\n",
       "      scannedLineItemsPerSecond  valuePerSecond  lineItemVoidsPerPosition  \\\n",
       "2                      0.008575        0.041003                  0.230769   \n",
       "4                      0.062791        0.189605                  0.111111   \n",
       "6                      0.037415        0.189218                  0.181818   \n",
       "7                      0.006472        0.014757                  0.000000   \n",
       "12                     0.005760        0.003145                  0.400000   \n",
       "...                         ...             ...                       ...   \n",
       "1862                   0.014151        0.415142                  1.000000   \n",
       "1869                   0.050885        0.098650                  0.304348   \n",
       "1874                   0.071651        0.236854                  0.347826   \n",
       "1876                   0.094937        0.132373                  0.166667   \n",
       "1877                   0.035036        0.091504                  0.041667   \n",
       "\n",
       "      fraud         checkoutTime customer_sex storeLocation  \\\n",
       "2         0  2020/10/23 19:08:53          NaN     Stuttgart   \n",
       "4         0  2020/12/20 21:32:22         male       München   \n",
       "6         0  2020/01/18 07:42:24       female       München   \n",
       "7         0  2020/12/12 21:13:06       female     Stuttgart   \n",
       "12        0  2020/06/26 14:16:01       female     Karlsruhe   \n",
       "...     ...                  ...          ...           ...   \n",
       "1862      0  2020/09/08 17:18:57         male     Karlsruhe   \n",
       "1869      0  2020/08/18 16:27:35       female     Frankfurt   \n",
       "1874      0  2020/06/26 14:17:29       female     Stuttgart   \n",
       "1876      0  2020/08/28 16:50:42         male     Stuttgart   \n",
       "1877      0  2020/10/31 19:29:27       female       München   \n",
       "\n",
       "              paymentType  \n",
       "2       BB Bank Karlsruhe  \n",
       "4     Sparkasse Karlsruhe  \n",
       "6     Sparkasse Frankfurt  \n",
       "7                    Visa  \n",
       "12      BB Bank Karlsruhe  \n",
       "...                   ...  \n",
       "1862  Volksbank Stuttgart  \n",
       "1869  Sparkasse Stuttgart  \n",
       "1874                 Visa  \n",
       "1876    BB Bank Karlsruhe  \n",
       "1877            Apple Pay  \n",
       "\n",
       "[816 rows x 14 columns]"
      ]
     },
     "execution_count": 20,
     "metadata": {},
     "output_type": "execute_result"
    }
   ],
   "source": [
    "# 1)\n",
    "data.loc[(data['scansWithoutRegistration'] > 5) | (data['scansWithoutRegistration'] > 5)]"
   ]
  },
  {
   "cell_type": "code",
   "execution_count": 31,
   "metadata": {},
   "outputs": [
    {
     "data": {
      "text/plain": [
       "trustLevel                   84\n",
       "totalScanTimeInSeconds       84\n",
       "grandTotal                   84\n",
       "lineItemVoids                84\n",
       "scansWithoutRegistration     84\n",
       "quantityModifications        84\n",
       "scannedLineItemsPerSecond    84\n",
       "valuePerSecond               84\n",
       "lineItemVoidsPerPosition     84\n",
       "fraud                        84\n",
       "checkoutTime                 84\n",
       "customer_sex                 77\n",
       "storeLocation                84\n",
       "paymentType                  84\n",
       "dtype: int64"
      ]
     },
     "execution_count": 31,
     "metadata": {},
     "output_type": "execute_result"
    }
   ],
   "source": [
    "# 2)\n",
    "data.loc[(data['trustLevel']<2) & (data['storeLocation'] == 'München')].count()"
   ]
  },
  {
   "cell_type": "code",
   "execution_count": 32,
   "metadata": {},
   "outputs": [
    {
     "data": {
      "text/plain": [
       "4.83333333333333"
      ]
     },
     "execution_count": 32,
     "metadata": {},
     "output_type": "execute_result"
    }
   ],
   "source": [
    "# 3)\n",
    "data['scannedLineItemsPerSecond'].loc[data['scansWithoutRegistration']> 3].max()"
   ]
  },
  {
   "cell_type": "code",
   "execution_count": 33,
   "metadata": {},
   "outputs": [
    {
     "data": {
      "text/plain": [
       "[24,\n",
       " 37,\n",
       " 41,\n",
       " 44,\n",
       " 52,\n",
       " 56,\n",
       " 61,\n",
       " 91,\n",
       " 97,\n",
       " 112,\n",
       " 115,\n",
       " 121,\n",
       " 136,\n",
       " 142,\n",
       " 144,\n",
       " 156,\n",
       " 157,\n",
       " 159,\n",
       " 161,\n",
       " 172,\n",
       " 174,\n",
       " 180,\n",
       " 182,\n",
       " 190,\n",
       " 192,\n",
       " 197,\n",
       " 205,\n",
       " 215,\n",
       " 221,\n",
       " 242,\n",
       " 259,\n",
       " 260,\n",
       " 262,\n",
       " 271,\n",
       " 278,\n",
       " 299,\n",
       " 301,\n",
       " 308,\n",
       " 309,\n",
       " 310,\n",
       " 312,\n",
       " 317,\n",
       " 329,\n",
       " 330,\n",
       " 332,\n",
       " 333,\n",
       " 335,\n",
       " 348,\n",
       " 356,\n",
       " 359,\n",
       " 368,\n",
       " 375,\n",
       " 378,\n",
       " 389,\n",
       " 390,\n",
       " 396,\n",
       " 408,\n",
       " 410,\n",
       " 414,\n",
       " 433,\n",
       " 436,\n",
       " 440,\n",
       " 451,\n",
       " 466,\n",
       " 490,\n",
       " 498,\n",
       " 501,\n",
       " 521,\n",
       " 524,\n",
       " 530,\n",
       " 537,\n",
       " 542,\n",
       " 548,\n",
       " 550,\n",
       " 557,\n",
       " 558,\n",
       " 578,\n",
       " 585,\n",
       " 590,\n",
       " 593,\n",
       " 601,\n",
       " 620,\n",
       " 621,\n",
       " 629,\n",
       " 630,\n",
       " 634,\n",
       " 651,\n",
       " 659,\n",
       " 663,\n",
       " 674,\n",
       " 676,\n",
       " 682,\n",
       " 687,\n",
       " 693,\n",
       " 694,\n",
       " 699,\n",
       " 704,\n",
       " 707,\n",
       " 710,\n",
       " 715,\n",
       " 720,\n",
       " 724,\n",
       " 734,\n",
       " 736,\n",
       " 744,\n",
       " 745,\n",
       " 750,\n",
       " 753,\n",
       " 754,\n",
       " 755,\n",
       " 757,\n",
       " 759,\n",
       " 760,\n",
       " 773,\n",
       " 776,\n",
       " 778,\n",
       " 802,\n",
       " 807,\n",
       " 816,\n",
       " 824,\n",
       " 841,\n",
       " 859,\n",
       " 863,\n",
       " 876,\n",
       " 882,\n",
       " 883,\n",
       " 884,\n",
       " 889,\n",
       " 900,\n",
       " 913,\n",
       " 914,\n",
       " 929,\n",
       " 948,\n",
       " 954,\n",
       " 965,\n",
       " 967,\n",
       " 979,\n",
       " 997,\n",
       " 1005,\n",
       " 1009,\n",
       " 1011,\n",
       " 1013,\n",
       " 1015,\n",
       " 1017,\n",
       " 1019,\n",
       " 1024,\n",
       " 1029,\n",
       " 1036,\n",
       " 1052,\n",
       " 1078,\n",
       " 1093,\n",
       " 1099,\n",
       " 1106,\n",
       " 1142,\n",
       " 1144,\n",
       " 1147,\n",
       " 1162,\n",
       " 1165,\n",
       " 1195,\n",
       " 1198,\n",
       " 1210,\n",
       " 1212,\n",
       " 1218,\n",
       " 1228,\n",
       " 1235,\n",
       " 1242,\n",
       " 1248,\n",
       " 1251,\n",
       " 1253,\n",
       " 1254,\n",
       " 1262,\n",
       " 1264,\n",
       " 1271,\n",
       " 1280,\n",
       " 1285,\n",
       " 1288,\n",
       " 1289,\n",
       " 1293,\n",
       " 1303,\n",
       " 1304,\n",
       " 1310,\n",
       " 1330,\n",
       " 1331,\n",
       " 1333,\n",
       " 1339,\n",
       " 1340,\n",
       " 1347,\n",
       " 1352,\n",
       " 1358,\n",
       " 1368,\n",
       " 1371,\n",
       " 1374,\n",
       " 1375,\n",
       " 1382,\n",
       " 1390,\n",
       " 1404,\n",
       " 1406,\n",
       " 1408,\n",
       " 1411,\n",
       " 1425,\n",
       " 1427,\n",
       " 1434,\n",
       " 1441,\n",
       " 1452,\n",
       " 1460,\n",
       " 1463,\n",
       " 1465,\n",
       " 1467,\n",
       " 1475,\n",
       " 1480,\n",
       " 1488,\n",
       " 1501,\n",
       " 1504,\n",
       " 1518,\n",
       " 1525,\n",
       " 1529,\n",
       " 1546,\n",
       " 1556,\n",
       " 1561,\n",
       " 1566,\n",
       " 1570,\n",
       " 1582,\n",
       " 1584,\n",
       " 1588,\n",
       " 1598,\n",
       " 1600,\n",
       " 1601,\n",
       " 1603,\n",
       " 1608,\n",
       " 1618,\n",
       " 1625,\n",
       " 1633,\n",
       " 1638,\n",
       " 1651,\n",
       " 1663,\n",
       " 1697,\n",
       " 1705,\n",
       " 1706,\n",
       " 1712,\n",
       " 1719,\n",
       " 1726,\n",
       " 1728,\n",
       " 1731,\n",
       " 1734,\n",
       " 1737,\n",
       " 1740,\n",
       " 1754,\n",
       " 1755,\n",
       " 1758,\n",
       " 1760,\n",
       " 1762,\n",
       " 1779,\n",
       " 1781,\n",
       " 1785,\n",
       " 1786,\n",
       " 1788,\n",
       " 1789,\n",
       " 1792,\n",
       " 1793,\n",
       " 1794,\n",
       " 1800,\n",
       " 1829,\n",
       " 1848,\n",
       " 1852,\n",
       " 1865,\n",
       " 1867,\n",
       " 1874,\n",
       " 1877]"
      ]
     },
     "execution_count": 33,
     "metadata": {},
     "output_type": "execute_result"
    }
   ],
   "source": [
    "# 4)\n",
    "data2 = data.loc[(data['grandTotal'] > 60.0 ) & (data['trustLevel']<3)]\n",
    "list(data2.index.values)"
   ]
  },
  {
   "cell_type": "markdown",
   "metadata": {
    "id": "WDDuBcZnuPgM"
   },
   "source": [
    "### Feature Generation"
   ]
  },
  {
   "cell_type": "markdown",
   "metadata": {
    "id": "dkE57DFtWJ8Q"
   },
   "source": [
    "Sometimes our dataset inlcudes one or multiple existing information (features) that can be thoughtfully combined to a new feature providing additional information. Let's have a look if we can find something in our dataset."
   ]
  },
  {
   "cell_type": "code",
   "execution_count": 34,
   "metadata": {
    "colab": {
     "base_uri": "https://localhost:8080/",
     "height": 299
    },
    "id": "0d2WkPReDE24",
    "outputId": "fc590ac7-c3e6-4fbb-e1af-b3ebb4a05900"
   },
   "outputs": [
    {
     "data": {
      "text/html": [
       "<div>\n",
       "<style scoped>\n",
       "    .dataframe tbody tr th:only-of-type {\n",
       "        vertical-align: middle;\n",
       "    }\n",
       "\n",
       "    .dataframe tbody tr th {\n",
       "        vertical-align: top;\n",
       "    }\n",
       "\n",
       "    .dataframe thead th {\n",
       "        text-align: right;\n",
       "    }\n",
       "</style>\n",
       "<table border=\"1\" class=\"dataframe\">\n",
       "  <thead>\n",
       "    <tr style=\"text-align: right;\">\n",
       "      <th></th>\n",
       "      <th>trustLevel</th>\n",
       "      <th>totalScanTimeInSeconds</th>\n",
       "      <th>grandTotal</th>\n",
       "      <th>lineItemVoids</th>\n",
       "      <th>scansWithoutRegistration</th>\n",
       "      <th>quantityModifications</th>\n",
       "      <th>scannedLineItemsPerSecond</th>\n",
       "      <th>valuePerSecond</th>\n",
       "      <th>lineItemVoidsPerPosition</th>\n",
       "      <th>fraud</th>\n",
       "      <th>checkoutTime</th>\n",
       "      <th>customer_sex</th>\n",
       "      <th>storeLocation</th>\n",
       "      <th>paymentType</th>\n",
       "    </tr>\n",
       "  </thead>\n",
       "  <tbody>\n",
       "    <tr>\n",
       "      <th>0</th>\n",
       "      <td>5</td>\n",
       "      <td>1054</td>\n",
       "      <td>54.70</td>\n",
       "      <td>7</td>\n",
       "      <td>0</td>\n",
       "      <td>3</td>\n",
       "      <td>0.027514</td>\n",
       "      <td>0.051898</td>\n",
       "      <td>0.241379</td>\n",
       "      <td>0</td>\n",
       "      <td>2020/11/06 19:43:53</td>\n",
       "      <td>male</td>\n",
       "      <td>Frankfurt</td>\n",
       "      <td>Mastercard</td>\n",
       "    </tr>\n",
       "    <tr>\n",
       "      <th>1</th>\n",
       "      <td>3</td>\n",
       "      <td>108</td>\n",
       "      <td>27.36</td>\n",
       "      <td>5</td>\n",
       "      <td>2</td>\n",
       "      <td>4</td>\n",
       "      <td>0.129630</td>\n",
       "      <td>0.253333</td>\n",
       "      <td>0.357143</td>\n",
       "      <td>0</td>\n",
       "      <td>2020/10/04 18:22:17</td>\n",
       "      <td>NaN</td>\n",
       "      <td>Karlsruhe</td>\n",
       "      <td>Mastercard</td>\n",
       "    </tr>\n",
       "    <tr>\n",
       "      <th>2</th>\n",
       "      <td>3</td>\n",
       "      <td>1516</td>\n",
       "      <td>62.16</td>\n",
       "      <td>3</td>\n",
       "      <td>10</td>\n",
       "      <td>5</td>\n",
       "      <td>0.008575</td>\n",
       "      <td>0.041003</td>\n",
       "      <td>0.230769</td>\n",
       "      <td>0</td>\n",
       "      <td>2020/10/23 19:08:53</td>\n",
       "      <td>NaN</td>\n",
       "      <td>Stuttgart</td>\n",
       "      <td>BB Bank Karlsruhe</td>\n",
       "    </tr>\n",
       "    <tr>\n",
       "      <th>3</th>\n",
       "      <td>6</td>\n",
       "      <td>1791</td>\n",
       "      <td>92.31</td>\n",
       "      <td>8</td>\n",
       "      <td>4</td>\n",
       "      <td>4</td>\n",
       "      <td>0.016192</td>\n",
       "      <td>0.051541</td>\n",
       "      <td>0.275862</td>\n",
       "      <td>0</td>\n",
       "      <td>2020/12/07 21:00:09</td>\n",
       "      <td>male</td>\n",
       "      <td>München</td>\n",
       "      <td>Sparkasse Munchen</td>\n",
       "    </tr>\n",
       "    <tr>\n",
       "      <th>4</th>\n",
       "      <td>5</td>\n",
       "      <td>430</td>\n",
       "      <td>81.53</td>\n",
       "      <td>3</td>\n",
       "      <td>7</td>\n",
       "      <td>2</td>\n",
       "      <td>0.062791</td>\n",
       "      <td>0.189605</td>\n",
       "      <td>0.111111</td>\n",
       "      <td>0</td>\n",
       "      <td>2020/12/20 21:32:22</td>\n",
       "      <td>male</td>\n",
       "      <td>München</td>\n",
       "      <td>Sparkasse Karlsruhe</td>\n",
       "    </tr>\n",
       "  </tbody>\n",
       "</table>\n",
       "</div>"
      ],
      "text/plain": [
       "   trustLevel  totalScanTimeInSeconds  grandTotal  lineItemVoids  \\\n",
       "0           5                    1054       54.70              7   \n",
       "1           3                     108       27.36              5   \n",
       "2           3                    1516       62.16              3   \n",
       "3           6                    1791       92.31              8   \n",
       "4           5                     430       81.53              3   \n",
       "\n",
       "   scansWithoutRegistration  quantityModifications  scannedLineItemsPerSecond  \\\n",
       "0                         0                      3                   0.027514   \n",
       "1                         2                      4                   0.129630   \n",
       "2                        10                      5                   0.008575   \n",
       "3                         4                      4                   0.016192   \n",
       "4                         7                      2                   0.062791   \n",
       "\n",
       "   valuePerSecond  lineItemVoidsPerPosition  fraud         checkoutTime  \\\n",
       "0        0.051898                  0.241379      0  2020/11/06 19:43:53   \n",
       "1        0.253333                  0.357143      0  2020/10/04 18:22:17   \n",
       "2        0.041003                  0.230769      0  2020/10/23 19:08:53   \n",
       "3        0.051541                  0.275862      0  2020/12/07 21:00:09   \n",
       "4        0.189605                  0.111111      0  2020/12/20 21:32:22   \n",
       "\n",
       "  customer_sex storeLocation          paymentType  \n",
       "0         male     Frankfurt           Mastercard  \n",
       "1          NaN     Karlsruhe           Mastercard  \n",
       "2          NaN     Stuttgart    BB Bank Karlsruhe  \n",
       "3         male       München    Sparkasse Munchen  \n",
       "4         male       München  Sparkasse Karlsruhe  "
      ]
     },
     "execution_count": 34,
     "metadata": {},
     "output_type": "execute_result"
    }
   ],
   "source": [
    "data.head()"
   ]
  },
  {
   "cell_type": "code",
   "execution_count": 35,
   "metadata": {
    "colab": {
     "base_uri": "https://localhost:8080/"
    },
    "id": "atuc-j7YjJVC",
    "outputId": "97069f46-cdcb-424b-9e43-44586c544507"
   },
   "outputs": [
    {
     "data": {
      "text/plain": [
       "0       29.0\n",
       "1       14.0\n",
       "2       13.0\n",
       "3       29.0\n",
       "4       27.0\n",
       "        ... \n",
       "1874    23.0\n",
       "1875    26.0\n",
       "1876    30.0\n",
       "1877    24.0\n",
       "1878    19.0\n",
       "Name: totalItems, Length: 1879, dtype: float64"
      ]
     },
     "execution_count": 35,
     "metadata": {},
     "output_type": "execute_result"
    }
   ],
   "source": [
    "# example for feature generation: use scanTimeInSeconds multiplied with scannedLineItemsPerSecond to get the total number of items scanned\n",
    "data['totalItems'] = (data['totalScanTimeInSeconds']*data['scannedLineItemsPerSecond'])\n",
    "data['totalItems']"
   ]
  },
  {
   "cell_type": "code",
   "execution_count": 36,
   "metadata": {
    "id": "fks8TPz-0tr3"
   },
   "outputs": [],
   "source": [
    "data['checkoutTime'] = data['checkoutTime'].astype(np.datetime64)\n",
    "data['checkoutDate'] = data['checkoutTime'].dt.date"
   ]
  },
  {
   "cell_type": "markdown",
   "metadata": {
    "id": "sU8OfxlWWOcc"
   },
   "source": [
    "### Now You: Feature Generation\n",
    "\n",
    "Calculate the following features and save them as a new column: \n",
    "\n",
    "1. Time features: \n",
    "    1. Checkout month\n",
    "    2. Checkout year\n",
    "    3. Hour of checkout\n",
    "    \n",
    "\n",
    "2. Price feature: Average Price per Item in a Transaction\n",
    "\n",
    "**Note**: Save the value as a new column called 'meanPricePerItem'"
   ]
  },
  {
   "cell_type": "code",
   "execution_count": 37,
   "metadata": {
    "id": "joxVa48LjJW9"
   },
   "outputs": [],
   "source": [
    "# 1)\n",
    "data['checkoutMonth'] = data['checkoutTime'].dt.month\n",
    "data['checkoutYear'] = data['checkoutTime'].dt.year\n",
    "data['checkoutDayTime'] = data['checkoutTime'].dt.hour"
   ]
  },
  {
   "cell_type": "code",
   "execution_count": 38,
   "metadata": {},
   "outputs": [
    {
     "data": {
      "text/plain": [
       "0       1.886207\n",
       "1       1.954286\n",
       "2       4.781538\n",
       "3       3.183103\n",
       "4       3.019630\n",
       "          ...   \n",
       "1874    3.305652\n",
       "1875    1.611154\n",
       "1876    1.394333\n",
       "1877    2.611667\n",
       "1878    2.001579\n",
       "Name: meanPricePerItem, Length: 1879, dtype: float64"
      ]
     },
     "execution_count": 38,
     "metadata": {},
     "output_type": "execute_result"
    }
   ],
   "source": [
    "# 2)\n",
    "data['meanPricePerItem'] = (data['grandTotal'] / data['totalItems'])\n",
    "data['meanPricePerItem']"
   ]
  },
  {
   "cell_type": "markdown",
   "metadata": {
    "id": "vT46qGbfrtpf"
   },
   "source": [
    "see more here: pandas doc https://pandas.pydata.org/pandas-docs/stable/user_guide/indexing.html"
   ]
  },
  {
   "cell_type": "markdown",
   "metadata": {
    "id": "H_tk7XGzUlRo"
   },
   "source": [
    "## 3. Data Visualization & Insights"
   ]
  },
  {
   "cell_type": "markdown",
   "metadata": {
    "id": "IiqZ7lyN3neF"
   },
   "source": [
    "In order to gain insight into our data through plots, we can use several libraries.\n",
    "Some of them are briefly introduced below.\n",
    "The most important is the Python standard library called Matplotlib. Its a useful tool when we want to create complex plots. However, the code effort is higher than if we use e.g. the pandas plot API.\n",
    "The most important plots are shown below, using both Matplotlib and the Pandas API."
   ]
  },
  {
   "cell_type": "markdown",
   "metadata": {
    "id": "9LQ5cO6Tw_zH"
   },
   "source": [
    "### Load Packages"
   ]
  },
  {
   "cell_type": "code",
   "execution_count": 39,
   "metadata": {
    "id": "NQHCnX77Vc8i"
   },
   "outputs": [],
   "source": [
    "import matplotlib.pyplot as plt\n",
    "import seaborn as sns"
   ]
  },
  {
   "cell_type": "markdown",
   "metadata": {
    "id": "yRkvMaOlxEjj"
   },
   "source": [
    "### Correlation Heatmap"
   ]
  },
  {
   "cell_type": "code",
   "execution_count": 40,
   "metadata": {
    "colab": {
     "base_uri": "https://localhost:8080/",
     "height": 420
    },
    "id": "vCEEmaXfvr-E",
    "outputId": "2fbceff1-4dab-45ce-cff1-86c55c1a2027"
   },
   "outputs": [
    {
     "data": {
      "text/plain": [
       "<AxesSubplot:>"
      ]
     },
     "execution_count": 40,
     "metadata": {},
     "output_type": "execute_result"
    },
    {
     "data": {
      "image/png": "[encoded data removed]",
      "text/plain": [
       "<Figure size 432x288 with 2 Axes>"
      ]
     },
     "metadata": {
      "needs_background": "light"
     },
     "output_type": "display_data"
    }
   ],
   "source": [
    "corMat = data.corr()\n",
    "sns.heatmap(corMat, xticklabels=corMat.columns, yticklabels=corMat.columns, annot=False)"
   ]
  },
  {
   "cell_type": "markdown",
   "metadata": {
    "id": "-lt38aMBxKSH"
   },
   "source": [
    "### Scatterplot"
   ]
  },
  {
   "cell_type": "code",
   "execution_count": 41,
   "metadata": {
    "colab": {
     "base_uri": "https://localhost:8080/",
     "height": 295
    },
    "id": "WRpMknkJqp_t",
    "outputId": "d50a712b-6c6b-42a0-8e78-ea4ce2731acf"
   },
   "outputs": [
    {
     "data": {
      "image/png": "[encoded data removed]",
      "text/plain": [
       "<Figure size 432x288 with 1 Axes>"
      ]
     },
     "metadata": {
      "needs_background": "light"
     },
     "output_type": "display_data"
    }
   ],
   "source": [
    "plt.plot( data['grandTotal'], data['meanPricePerItem'], 'x', color='red' )\n",
    "plt.xlabel('grand total')\n",
    "plt.ylabel('mean price per item')\n",
    "plt.title('grand total vs. mean price per item')\n",
    "plt.show()"
   ]
  },
  {
   "cell_type": "code",
   "execution_count": 42,
   "metadata": {
    "colab": {
     "base_uri": "https://localhost:8080/",
     "height": 283
    },
    "id": "WLqV5x-SvZ0f",
    "outputId": "d12954a4-855e-4b23-9270-6c256b52d851"
   },
   "outputs": [
    {
     "data": {
      "image/png": "[encoded data removed]",
      "text/plain": [
       "<Figure size 432x288 with 1 Axes>"
      ]
     },
     "metadata": {
      "needs_background": "light"
     },
     "output_type": "display_data"
    }
   ],
   "source": [
    "data.plot.scatter(x='grandTotal', y='meanPricePerItem');"
   ]
  },
  {
   "cell_type": "markdown",
   "metadata": {
    "id": "VGUKAyiVxauj"
   },
   "source": [
    "### Boxplot"
   ]
  },
  {
   "cell_type": "code",
   "execution_count": 43,
   "metadata": {
    "colab": {
     "base_uri": "https://localhost:8080/",
     "height": 312
    },
    "id": "wivz10CpsHlo",
    "outputId": "05db1abf-2019-4e1c-ea88-c450eb3a62ff"
   },
   "outputs": [
    {
     "data": {
      "text/plain": [
       "Text(0.5, 1.0, 'Boxplot of grandTotal')"
      ]
     },
     "execution_count": 43,
     "metadata": {},
     "output_type": "execute_result"
    },
    {
     "data": {
      "image/png": "[encoded data removed]",
      "text/plain": [
       "<Figure size 432x288 with 1 Axes>"
      ]
     },
     "metadata": {
      "needs_background": "light"
     },
     "output_type": "display_data"
    }
   ],
   "source": [
    "bxdct = plt.boxplot( data['grandTotal'])\n",
    "plt.xlabel('grandTotal')\n",
    "plt.title('Boxplot of grandTotal')"
   ]
  },
  {
   "cell_type": "code",
   "execution_count": 44,
   "metadata": {
    "colab": {
     "base_uri": "https://localhost:8080/",
     "height": 282
    },
    "id": "uRGP1X1Lu8e3",
    "outputId": "0c3e860d-ecfe-43eb-8910-fe03e22a0ff3"
   },
   "outputs": [
    {
     "data": {
      "text/plain": [
       "<AxesSubplot:>"
      ]
     },
     "execution_count": 44,
     "metadata": {},
     "output_type": "execute_result"
    },
    {
     "data": {
      "image/png": "[encoded data removed]",
      "text/plain": [
       "<Figure size 432x288 with 1 Axes>"
      ]
     },
     "metadata": {
      "needs_background": "light"
     },
     "output_type": "display_data"
    }
   ],
   "source": [
    "data['grandTotal'].plot.box()"
   ]
  },
  {
   "cell_type": "markdown",
   "metadata": {
    "id": "SpsaEmZTxclx"
   },
   "source": [
    "### Histogram"
   ]
  },
  {
   "cell_type": "code",
   "execution_count": 45,
   "metadata": {
    "colab": {
     "base_uri": "https://localhost:8080/",
     "height": 265
    },
    "id": "w52vquG-vimQ",
    "outputId": "0ec7533b-0962-4bc9-ff93-5d0da2093c1e"
   },
   "outputs": [
    {
     "data": {
      "image/png": "[encoded data removed]",
      "text/plain": [
       "<Figure size 432x288 with 1 Axes>"
      ]
     },
     "metadata": {
      "needs_background": "light"
     },
     "output_type": "display_data"
    }
   ],
   "source": [
    "ax = plt.hist( data['totalScanTimeInSeconds'] , bins=20)"
   ]
  },
  {
   "cell_type": "code",
   "execution_count": 46,
   "metadata": {
    "colab": {
     "base_uri": "https://localhost:8080/",
     "height": 282
    },
    "id": "uHYbipy9q4Lp",
    "outputId": "e282b4ba-bdce-44f1-cf50-cedf52f726a3"
   },
   "outputs": [
    {
     "data": {
      "text/plain": [
       "<AxesSubplot:>"
      ]
     },
     "execution_count": 46,
     "metadata": {},
     "output_type": "execute_result"
    },
    {
     "data": {
      "image/png": "[encoded data removed]",
      "text/plain": [
       "<Figure size 432x288 with 1 Axes>"
      ]
     },
     "metadata": {
      "needs_background": "light"
     },
     "output_type": "display_data"
    }
   ],
   "source": [
    "data['totalScanTimeInSeconds'].hist( bins=20 )"
   ]
  },
  {
   "cell_type": "markdown",
   "metadata": {
    "id": "U47pPCwHu6a_"
   },
   "source": [
    "### Displot"
   ]
  },
  {
   "cell_type": "code",
   "execution_count": 47,
   "metadata": {
    "colab": {
     "base_uri": "https://localhost:8080/",
     "height": 386
    },
    "id": "L1UzjXMzrcLf",
    "outputId": "47fa4115-e18a-469a-bd82-e8cc11a2c5d1"
   },
   "outputs": [
    {
     "data": {
      "text/plain": [
       "<seaborn.axisgrid.FacetGrid at 0x2c19a703a00>"
      ]
     },
     "execution_count": 47,
     "metadata": {},
     "output_type": "execute_result"
    },
    {
     "data": {
      "image/png": "[encoded data removed]",
      "text/plain": [
       "<Figure size 402.375x360 with 1 Axes>"
      ]
     },
     "metadata": {
      "needs_background": "light"
     },
     "output_type": "display_data"
    }
   ],
   "source": [
    "# Idee: Distplot für die Klassenverteilung\n",
    "#sns.displot(data[data['fraud']==0]['trustLevel'], kind='hist')\n",
    "#sns.displot(data[data['fraud']==1]['trustLevel'], kind='hist')\n",
    "sns.displot(data=data, x=\"trustLevel\", hue=\"fraud\", multiple=\"stack\", kind='hist', kde=True)\n"
   ]
  },
  {
   "cell_type": "markdown",
   "metadata": {
    "id": "vzwzJ-m2yEg-"
   },
   "source": [
    "### Scatter-Matrix"
   ]
  },
  {
   "cell_type": "code",
   "execution_count": 48,
   "metadata": {
    "id": "F66ikjV-E3JG"
   },
   "outputs": [],
   "source": [
    "scatterMat_df = data.sort_values(['fraud'], ascending=1)\n",
    "scatterMat_features = ['valuePerSecond','meanPricePerItem','totalScanTimeInSeconds','lineItemVoidsPerPosition']"
   ]
  },
  {
   "cell_type": "code",
   "execution_count": 49,
   "metadata": {
    "colab": {
     "base_uri": "https://localhost:8080/",
     "height": 833
    },
    "id": "H_7UTtQGJXkq",
    "outputId": "4f21c2c1-e03d-4e09-8670-431d7c879b1f"
   },
   "outputs": [
    {
     "data": {
      "image/png": "[encoded data removed]",
      "text/plain": [
       "<Figure size 1008x1008 with 16 Axes>"
      ]
     },
     "metadata": {
      "needs_background": "light"
     },
     "output_type": "display_data"
    }
   ],
   "source": [
    "ax = pd.plotting.scatter_matrix(scatterMat_df[scatterMat_features], c=scatterMat_df['fraud'], figsize=[14, 14], cmap='bwr', marker='O')"
   ]
  },
  {
   "cell_type": "markdown",
   "metadata": {
    "id": "RLwDFUkqxugi"
   },
   "source": [
    "### Line Graph"
   ]
  },
  {
   "cell_type": "code",
   "execution_count": 50,
   "metadata": {
    "colab": {
     "base_uri": "https://localhost:8080/"
    },
    "id": "5YbF4lgcLwFq",
    "outputId": "327afa21-3977-40b0-8f36-be361aed9b0e"
   },
   "outputs": [
    {
     "data": {
      "text/plain": [
       "Index(['trustLevel', 'totalScanTimeInSeconds', 'grandTotal', 'lineItemVoids',\n",
       "       'scansWithoutRegistration', 'quantityModifications',\n",
       "       'scannedLineItemsPerSecond', 'valuePerSecond',\n",
       "       'lineItemVoidsPerPosition', 'fraud', 'checkoutTime', 'customer_sex',\n",
       "       'storeLocation', 'paymentType', 'totalItems', 'checkoutDate',\n",
       "       'checkoutMonth', 'checkoutYear', 'checkoutDayTime', 'meanPricePerItem'],\n",
       "      dtype='object')"
      ]
     },
     "execution_count": 50,
     "metadata": {},
     "output_type": "execute_result"
    }
   ],
   "source": [
    "data.columns"
   ]
  },
  {
   "cell_type": "code",
   "execution_count": 51,
   "metadata": {
    "colab": {
     "base_uri": "https://localhost:8080/",
     "height": 452
    },
    "id": "Au0PzLi0Kvs2",
    "outputId": "18265703-6742-40d4-f6a6-82f3df7a8152"
   },
   "outputs": [
    {
     "data": {
      "text/html": [
       "<div>\n",
       "<style scoped>\n",
       "    .dataframe tbody tr th:only-of-type {\n",
       "        vertical-align: middle;\n",
       "    }\n",
       "\n",
       "    .dataframe tbody tr th {\n",
       "        vertical-align: top;\n",
       "    }\n",
       "\n",
       "    .dataframe thead th {\n",
       "        text-align: right;\n",
       "    }\n",
       "</style>\n",
       "<table border=\"1\" class=\"dataframe\">\n",
       "  <thead>\n",
       "    <tr style=\"text-align: right;\">\n",
       "      <th></th>\n",
       "      <th></th>\n",
       "      <th>trustLevel</th>\n",
       "      <th>totalScanTimeInSeconds</th>\n",
       "      <th>grandTotal</th>\n",
       "      <th>lineItemVoids</th>\n",
       "      <th>scansWithoutRegistration</th>\n",
       "      <th>quantityModifications</th>\n",
       "      <th>scannedLineItemsPerSecond</th>\n",
       "      <th>valuePerSecond</th>\n",
       "      <th>lineItemVoidsPerPosition</th>\n",
       "      <th>fraud</th>\n",
       "      <th>totalItems</th>\n",
       "      <th>checkoutDayTime</th>\n",
       "      <th>meanPricePerItem</th>\n",
       "    </tr>\n",
       "    <tr>\n",
       "      <th>checkoutMonth</th>\n",
       "      <th>checkoutYear</th>\n",
       "      <th></th>\n",
       "      <th></th>\n",
       "      <th></th>\n",
       "      <th></th>\n",
       "      <th></th>\n",
       "      <th></th>\n",
       "      <th></th>\n",
       "      <th></th>\n",
       "      <th></th>\n",
       "      <th></th>\n",
       "      <th></th>\n",
       "      <th></th>\n",
       "      <th></th>\n",
       "    </tr>\n",
       "  </thead>\n",
       "  <tbody>\n",
       "    <tr>\n",
       "      <th>1</th>\n",
       "      <th>2020</th>\n",
       "      <td>510</td>\n",
       "      <td>131074</td>\n",
       "      <td>7597.32</td>\n",
       "      <td>796</td>\n",
       "      <td>709</td>\n",
       "      <td>381</td>\n",
       "      <td>9.750964</td>\n",
       "      <td>41.142874</td>\n",
       "      <td>127.230139</td>\n",
       "      <td>0</td>\n",
       "      <td>2030.0</td>\n",
       "      <td>1043</td>\n",
       "      <td>1180.632179</td>\n",
       "    </tr>\n",
       "    <tr>\n",
       "      <th>2</th>\n",
       "      <th>2020</th>\n",
       "      <td>498</td>\n",
       "      <td>116526</td>\n",
       "      <td>6745.24</td>\n",
       "      <td>722</td>\n",
       "      <td>619</td>\n",
       "      <td>338</td>\n",
       "      <td>16.504978</td>\n",
       "      <td>79.289895</td>\n",
       "      <td>105.520131</td>\n",
       "      <td>0</td>\n",
       "      <td>2065.0</td>\n",
       "      <td>1122</td>\n",
       "      <td>1131.457482</td>\n",
       "    </tr>\n",
       "    <tr>\n",
       "      <th>3</th>\n",
       "      <th>2020</th>\n",
       "      <td>543</td>\n",
       "      <td>140769</td>\n",
       "      <td>7789.36</td>\n",
       "      <td>929</td>\n",
       "      <td>754</td>\n",
       "      <td>411</td>\n",
       "      <td>12.730509</td>\n",
       "      <td>53.475534</td>\n",
       "      <td>126.684345</td>\n",
       "      <td>0</td>\n",
       "      <td>2307.0</td>\n",
       "      <td>1538</td>\n",
       "      <td>1214.228247</td>\n",
       "    </tr>\n",
       "    <tr>\n",
       "      <th>4</th>\n",
       "      <th>2020</th>\n",
       "      <td>519</td>\n",
       "      <td>137036</td>\n",
       "      <td>7698.85</td>\n",
       "      <td>778</td>\n",
       "      <td>705</td>\n",
       "      <td>403</td>\n",
       "      <td>10.286099</td>\n",
       "      <td>32.285085</td>\n",
       "      <td>100.956837</td>\n",
       "      <td>0</td>\n",
       "      <td>2300.0</td>\n",
       "      <td>1624</td>\n",
       "      <td>978.136613</td>\n",
       "    </tr>\n",
       "    <tr>\n",
       "      <th>5</th>\n",
       "      <th>2020</th>\n",
       "      <td>540</td>\n",
       "      <td>161412</td>\n",
       "      <td>8116.81</td>\n",
       "      <td>721</td>\n",
       "      <td>724</td>\n",
       "      <td>376</td>\n",
       "      <td>5.617002</td>\n",
       "      <td>18.749365</td>\n",
       "      <td>127.718768</td>\n",
       "      <td>0</td>\n",
       "      <td>2130.0</td>\n",
       "      <td>1849</td>\n",
       "      <td>1265.882123</td>\n",
       "    </tr>\n",
       "    <tr>\n",
       "      <th>6</th>\n",
       "      <th>2020</th>\n",
       "      <td>520</td>\n",
       "      <td>156279</td>\n",
       "      <td>8198.26</td>\n",
       "      <td>916</td>\n",
       "      <td>836</td>\n",
       "      <td>410</td>\n",
       "      <td>13.208762</td>\n",
       "      <td>25.214341</td>\n",
       "      <td>120.997337</td>\n",
       "      <td>18</td>\n",
       "      <td>2573.0</td>\n",
       "      <td>2144</td>\n",
       "      <td>1174.417903</td>\n",
       "    </tr>\n",
       "    <tr>\n",
       "      <th>7</th>\n",
       "      <th>2020</th>\n",
       "      <td>562</td>\n",
       "      <td>160455</td>\n",
       "      <td>8340.48</td>\n",
       "      <td>966</td>\n",
       "      <td>868</td>\n",
       "      <td>455</td>\n",
       "      <td>7.878740</td>\n",
       "      <td>34.565008</td>\n",
       "      <td>123.381248</td>\n",
       "      <td>15</td>\n",
       "      <td>2571.0</td>\n",
       "      <td>2407</td>\n",
       "      <td>1135.627994</td>\n",
       "    </tr>\n",
       "    <tr>\n",
       "      <th>8</th>\n",
       "      <th>2020</th>\n",
       "      <td>473</td>\n",
       "      <td>133785</td>\n",
       "      <td>7685.20</td>\n",
       "      <td>777</td>\n",
       "      <td>731</td>\n",
       "      <td>333</td>\n",
       "      <td>5.215739</td>\n",
       "      <td>13.782732</td>\n",
       "      <td>104.736666</td>\n",
       "      <td>16</td>\n",
       "      <td>2462.0</td>\n",
       "      <td>2198</td>\n",
       "      <td>922.825470</td>\n",
       "    </tr>\n",
       "    <tr>\n",
       "      <th>9</th>\n",
       "      <th>2020</th>\n",
       "      <td>527</td>\n",
       "      <td>161654</td>\n",
       "      <td>9043.30</td>\n",
       "      <td>952</td>\n",
       "      <td>855</td>\n",
       "      <td>415</td>\n",
       "      <td>6.980520</td>\n",
       "      <td>26.102737</td>\n",
       "      <td>135.111891</td>\n",
       "      <td>17</td>\n",
       "      <td>2647.0</td>\n",
       "      <td>2835</td>\n",
       "      <td>1138.351254</td>\n",
       "    </tr>\n",
       "    <tr>\n",
       "      <th>10</th>\n",
       "      <th>2020</th>\n",
       "      <td>502</td>\n",
       "      <td>146236</td>\n",
       "      <td>7562.98</td>\n",
       "      <td>773</td>\n",
       "      <td>802</td>\n",
       "      <td>375</td>\n",
       "      <td>5.410955</td>\n",
       "      <td>12.905059</td>\n",
       "      <td>85.204148</td>\n",
       "      <td>16</td>\n",
       "      <td>2470.0</td>\n",
       "      <td>2719</td>\n",
       "      <td>1050.069012</td>\n",
       "    </tr>\n",
       "    <tr>\n",
       "      <th>11</th>\n",
       "      <th>2020</th>\n",
       "      <td>661</td>\n",
       "      <td>169053</td>\n",
       "      <td>9385.23</td>\n",
       "      <td>997</td>\n",
       "      <td>836</td>\n",
       "      <td>474</td>\n",
       "      <td>9.859857</td>\n",
       "      <td>25.854960</td>\n",
       "      <td>105.442841</td>\n",
       "      <td>11</td>\n",
       "      <td>3035.0</td>\n",
       "      <td>3535</td>\n",
       "      <td>1037.488724</td>\n",
       "    </tr>\n",
       "    <tr>\n",
       "      <th>12</th>\n",
       "      <th>2020</th>\n",
       "      <td>537</td>\n",
       "      <td>137237</td>\n",
       "      <td>7411.35</td>\n",
       "      <td>951</td>\n",
       "      <td>776</td>\n",
       "      <td>374</td>\n",
       "      <td>5.796325</td>\n",
       "      <td>15.712554</td>\n",
       "      <td>137.630459</td>\n",
       "      <td>11</td>\n",
       "      <td>2315.0</td>\n",
       "      <td>3053</td>\n",
       "      <td>1050.202038</td>\n",
       "    </tr>\n",
       "  </tbody>\n",
       "</table>\n",
       "</div>"
      ],
      "text/plain": [
       "                            trustLevel  totalScanTimeInSeconds  grandTotal  \\\n",
       "checkoutMonth checkoutYear                                                   \n",
       "1             2020                 510                  131074     7597.32   \n",
       "2             2020                 498                  116526     6745.24   \n",
       "3             2020                 543                  140769     7789.36   \n",
       "4             2020                 519                  137036     7698.85   \n",
       "5             2020                 540                  161412     8116.81   \n",
       "6             2020                 520                  156279     8198.26   \n",
       "7             2020                 562                  160455     8340.48   \n",
       "8             2020                 473                  133785     7685.20   \n",
       "9             2020                 527                  161654     9043.30   \n",
       "10            2020                 502                  146236     7562.98   \n",
       "11            2020                 661                  169053     9385.23   \n",
       "12            2020                 537                  137237     7411.35   \n",
       "\n",
       "                            lineItemVoids  scansWithoutRegistration  \\\n",
       "checkoutMonth checkoutYear                                            \n",
       "1             2020                    796                       709   \n",
       "2             2020                    722                       619   \n",
       "3             2020                    929                       754   \n",
       "4             2020                    778                       705   \n",
       "5             2020                    721                       724   \n",
       "6             2020                    916                       836   \n",
       "7             2020                    966                       868   \n",
       "8             2020                    777                       731   \n",
       "9             2020                    952                       855   \n",
       "10            2020                    773                       802   \n",
       "11            2020                    997                       836   \n",
       "12            2020                    951                       776   \n",
       "\n",
       "                            quantityModifications  scannedLineItemsPerSecond  \\\n",
       "checkoutMonth checkoutYear                                                     \n",
       "1             2020                            381                   9.750964   \n",
       "2             2020                            338                  16.504978   \n",
       "3             2020                            411                  12.730509   \n",
       "4             2020                            403                  10.286099   \n",
       "5             2020                            376                   5.617002   \n",
       "6             2020                            410                  13.208762   \n",
       "7             2020                            455                   7.878740   \n",
       "8             2020                            333                   5.215739   \n",
       "9             2020                            415                   6.980520   \n",
       "10            2020                            375                   5.410955   \n",
       "11            2020                            474                   9.859857   \n",
       "12            2020                            374                   5.796325   \n",
       "\n",
       "                            valuePerSecond  lineItemVoidsPerPosition  fraud  \\\n",
       "checkoutMonth checkoutYear                                                    \n",
       "1             2020               41.142874                127.230139      0   \n",
       "2             2020               79.289895                105.520131      0   \n",
       "3             2020               53.475534                126.684345      0   \n",
       "4             2020               32.285085                100.956837      0   \n",
       "5             2020               18.749365                127.718768      0   \n",
       "6             2020               25.214341                120.997337     18   \n",
       "7             2020               34.565008                123.381248     15   \n",
       "8             2020               13.782732                104.736666     16   \n",
       "9             2020               26.102737                135.111891     17   \n",
       "10            2020               12.905059                 85.204148     16   \n",
       "11            2020               25.854960                105.442841     11   \n",
       "12            2020               15.712554                137.630459     11   \n",
       "\n",
       "                            totalItems  checkoutDayTime  meanPricePerItem  \n",
       "checkoutMonth checkoutYear                                                 \n",
       "1             2020              2030.0             1043       1180.632179  \n",
       "2             2020              2065.0             1122       1131.457482  \n",
       "3             2020              2307.0             1538       1214.228247  \n",
       "4             2020              2300.0             1624        978.136613  \n",
       "5             2020              2130.0             1849       1265.882123  \n",
       "6             2020              2573.0             2144       1174.417903  \n",
       "7             2020              2571.0             2407       1135.627994  \n",
       "8             2020              2462.0             2198        922.825470  \n",
       "9             2020              2647.0             2835       1138.351254  \n",
       "10            2020              2470.0             2719       1050.069012  \n",
       "11            2020              3035.0             3535       1037.488724  \n",
       "12            2020              2315.0             3053       1050.202038  "
      ]
     },
     "execution_count": 51,
     "metadata": {},
     "output_type": "execute_result"
    }
   ],
   "source": [
    "monthlyReport = data.groupby(['checkoutMonth','checkoutYear']).sum()\n",
    "monthlyReport"
   ]
  },
  {
   "cell_type": "code",
   "execution_count": 52,
   "metadata": {
    "colab": {
     "base_uri": "https://localhost:8080/",
     "height": 338
    },
    "id": "KMBYJvmFOD8J",
    "outputId": "a3e429d7-dbdb-49b2-8db7-a73027e5389a"
   },
   "outputs": [
    {
     "data": {
      "text/plain": [
       "<AxesSubplot:xlabel='checkoutMonth,checkoutYear'>"
      ]
     },
     "execution_count": 52,
     "metadata": {},
     "output_type": "execute_result"
    },
    {
     "data": {
      "image/png": "[encoded data removed]",
      "text/plain": [
       "<Figure size 432x288 with 1 Axes>"
      ]
     },
     "metadata": {
      "needs_background": "light"
     },
     "output_type": "display_data"
    }
   ],
   "source": [
    "monthlyReport.plot(y='fraud', kind = 'bar')"
   ]
  },
  {
   "cell_type": "markdown",
   "metadata": {
    "id": "NXiqeXTRzR5z"
   },
   "source": [
    "### Now you: Plotting\n",
    "1) The manager wants to know the monthly turnover. Create a plot that shows the monthly turnover (sum over grandTotal). Use Panda's plotting API to do this.\n",
    "\n",
    "2) You want to prove that people make more expensive purchases during the Christmas season and therefore the turnover per transaction is higher. Create a suitable plot to test the claim.\n",
    "\n",
    "***Hint***: You need to group the data again, using mean() instead of sum()\n",
    "\n",
    "3) In order to prevent frauds, you want to employ additional personnel. Since this is a costly meassure, you want to limit the working time, to the hours with the highest risk of fraud. Create a plot, that shows, at what time fraudulent transactions take place most frequently.\n",
    "\n",
    "4) Find out at which location (storeLocation) a disproportionate amount of fraud takes place.\n",
    "\n",
    "***Hint***: To do so, you can regroup the data by the 'storeLocation' feature. By using the count()-method you will get the total number of transactions per store. The sum()-method will yield the number of fraudulent transactions."
   ]
  },
  {
   "cell_type": "markdown",
   "metadata": {
    "id": "mMsJOegdZz0c"
   },
   "source": [
    "Solution\n",
    "1)"
   ]
  },
  {
   "cell_type": "code",
   "execution_count": 53,
   "metadata": {
    "colab": {
     "base_uri": "https://localhost:8080/",
     "height": 338
    },
    "id": "7WF04rNKWWhf",
    "outputId": "b7488b7d-d481-4e41-e155-c5ef9994ea8c"
   },
   "outputs": [
    {
     "data": {
      "text/plain": [
       "<AxesSubplot:xlabel='checkoutMonth,checkoutYear'>"
      ]
     },
     "execution_count": 53,
     "metadata": {},
     "output_type": "execute_result"
    },
    {
     "data": {
      "image/png": "[encoded data removed]",
      "text/plain": [
       "<Figure size 432x288 with 1 Axes>"
      ]
     },
     "metadata": {
      "needs_background": "light"
     },
     "output_type": "display_data"
    }
   ],
   "source": [
    "monthlyReport.plot(y='grandTotal', kind = 'bar')"
   ]
  },
  {
   "cell_type": "markdown",
   "metadata": {
    "id": "4zJkgTRaaCK-"
   },
   "source": [
    "Solution 2)"
   ]
  },
  {
   "cell_type": "code",
   "execution_count": 54,
   "metadata": {
    "colab": {
     "base_uri": "https://localhost:8080/",
     "height": 338
    },
    "id": "P6C91xjLWWj3",
    "outputId": "90a9b517-3de2-4b73-88a1-d201b774bd17"
   },
   "outputs": [
    {
     "data": {
      "text/plain": [
       "<AxesSubplot:xlabel='checkoutMonth,checkoutYear'>"
      ]
     },
     "execution_count": 54,
     "metadata": {},
     "output_type": "execute_result"
    },
    {
     "data": {
      "image/png": "[encoded data removed]",
      "text/plain": [
       "<Figure size 432x288 with 1 Axes>"
      ]
     },
     "metadata": {
      "needs_background": "light"
     },
     "output_type": "display_data"
    }
   ],
   "source": [
    "monthlyReport = data.groupby(['checkoutMonth','checkoutYear']).mean()\n",
    "monthlyReport.plot(y='grandTotal', kind='bar')"
   ]
  },
  {
   "cell_type": "markdown",
   "metadata": {
    "id": "zNGJp9KMaEo_"
   },
   "source": [
    "Solution 3)"
   ]
  },
  {
   "cell_type": "code",
   "execution_count": 55,
   "metadata": {
    "colab": {
     "base_uri": "https://localhost:8080/",
     "height": 299
    },
    "id": "cGrqZ1TRRPGD",
    "outputId": "9f80d719-6b92-4b35-da01-80cdb492a284"
   },
   "outputs": [
    {
     "data": {
      "text/plain": [
       "<AxesSubplot:xlabel='checkoutDayTime'>"
      ]
     },
     "execution_count": 55,
     "metadata": {},
     "output_type": "execute_result"
    },
    {
     "data": {
      "image/png": "[encoded data removed]",
      "text/plain": [
       "<Figure size 432x288 with 1 Axes>"
      ]
     },
     "metadata": {
      "needs_background": "light"
     },
     "output_type": "display_data"
    }
   ],
   "source": [
    "hourlyReport = data.groupby('checkoutDayTime').sum()\n",
    "hourlyReport.plot(y='fraud', kind='bar')"
   ]
  },
  {
   "cell_type": "markdown",
   "metadata": {
    "id": "9rp0mgpseXq6"
   },
   "source": [
    "In comparison to the the unfraudulent transactions"
   ]
  },
  {
   "cell_type": "code",
   "execution_count": 56,
   "metadata": {
    "colab": {
     "base_uri": "https://localhost:8080/",
     "height": 299
    },
    "id": "99nlngIgeeur",
    "outputId": "d08ad518-0b48-409c-bb75-a2794e490f60"
   },
   "outputs": [
    {
     "data": {
      "text/plain": [
       "<AxesSubplot:xlabel='checkoutDayTime'>"
      ]
     },
     "execution_count": 56,
     "metadata": {},
     "output_type": "execute_result"
    },
    {
     "data": {
      "image/png": "[encoded data removed]",
      "text/plain": [
       "<Figure size 432x288 with 1 Axes>"
      ]
     },
     "metadata": {
      "needs_background": "light"
     },
     "output_type": "display_data"
    }
   ],
   "source": [
    "hourlyReport = data.groupby(['checkoutDayTime', 'fraud']).size().unstack(level=1)\n",
    "hourlyReport.plot(kind='bar', stacked=True)"
   ]
  },
  {
   "cell_type": "markdown",
   "metadata": {
    "id": "RNB-JZXKZrKp"
   },
   "source": [
    "Solution 4)"
   ]
  },
  {
   "cell_type": "code",
   "execution_count": 57,
   "metadata": {
    "colab": {
     "base_uri": "https://localhost:8080/",
     "height": 634
    },
    "id": "z9MB2HwSXl7w",
    "outputId": "c61c7b7a-dccc-45d7-a66c-ce8b59203d36"
   },
   "outputs": [
    {
     "data": {
      "text/plain": [
       "<AxesSubplot:xlabel='storeLocation'>"
      ]
     },
     "execution_count": 57,
     "metadata": {},
     "output_type": "execute_result"
    },
    {
     "data": {
      "image/png": "[encoded data removed]",
      "text/plain": [
       "<Figure size 432x288 with 1 Axes>"
      ]
     },
     "metadata": {
      "needs_background": "light"
     },
     "output_type": "display_data"
    },
    {
     "data": {
      "image/png": "[encoded data removed]",
      "text/plain": [
       "<Figure size 432x288 with 1 Axes>"
      ]
     },
     "metadata": {
      "needs_background": "light"
     },
     "output_type": "display_data"
    }
   ],
   "source": [
    "localReport = data.groupby('storeLocation').sum()\n",
    "localTransactions = data.groupby('storeLocation').count()\n",
    "localReport.plot(y=['fraud'], kind='bar')\n",
    "localTransactions.plot(y=['fraud'], kind='bar')"
   ]
  },
  {
   "cell_type": "markdown",
   "metadata": {
    "id": "EL6X39l9ZtVm"
   },
   "source": [
    "Solution 4) Using a single plot"
   ]
  },
  {
   "cell_type": "code",
   "execution_count": 58,
   "metadata": {
    "colab": {
     "base_uri": "https://localhost:8080/",
     "height": 334
    },
    "id": "TJuMadUNZuzO",
    "outputId": "eb1cdfb7-3e86-4bc2-c293-6e9cfd70f0ca"
   },
   "outputs": [
    {
     "data": {
      "text/plain": [
       "<AxesSubplot:xlabel='storeLocation'>"
      ]
     },
     "execution_count": 58,
     "metadata": {},
     "output_type": "execute_result"
    },
    {
     "data": {
      "image/png": "[encoded data removed]",
      "text/plain": [
       "<Figure size 432x288 with 1 Axes>"
      ]
     },
     "metadata": {
      "needs_background": "light"
     },
     "output_type": "display_data"
    }
   ],
   "source": [
    "localReport = data.groupby(['storeLocation', 'fraud']).size().unstack(level=1)\n",
    "localReport.plot(kind = 'bar', stacked=True)"
   ]
  },
  {
   "cell_type": "markdown",
   "metadata": {
    "id": "oKQZO8szUlT6"
   },
   "source": [
    "## 4. Data Preprocessing & Cleaning"
   ]
  },
  {
   "cell_type": "markdown",
   "metadata": {
    "id": "e8jEuiar2_im"
   },
   "source": [
    "### Check dtypes"
   ]
  },
  {
   "cell_type": "code",
   "execution_count": 59,
   "metadata": {
    "colab": {
     "base_uri": "https://localhost:8080/"
    },
    "id": "gdwBh8UnVdYj",
    "outputId": "ce78291f-53f6-4d49-aeb3-d206517dc6f5"
   },
   "outputs": [
    {
     "data": {
      "text/plain": [
       "trustLevel                            int64\n",
       "totalScanTimeInSeconds                int64\n",
       "grandTotal                          float64\n",
       "lineItemVoids                         int64\n",
       "scansWithoutRegistration              int64\n",
       "quantityModifications                 int64\n",
       "scannedLineItemsPerSecond           float64\n",
       "valuePerSecond                      float64\n",
       "lineItemVoidsPerPosition            float64\n",
       "fraud                                 int64\n",
       "checkoutTime                 datetime64[ns]\n",
       "customer_sex                         object\n",
       "storeLocation                        object\n",
       "paymentType                          object\n",
       "totalItems                          float64\n",
       "checkoutDate                         object\n",
       "checkoutMonth                         int64\n",
       "checkoutYear                          int64\n",
       "checkoutDayTime                       int64\n",
       "meanPricePerItem                    float64\n",
       "dtype: object"
      ]
     },
     "execution_count": 59,
     "metadata": {},
     "output_type": "execute_result"
    }
   ],
   "source": [
    "data.dtypes"
   ]
  },
  {
   "cell_type": "markdown",
   "metadata": {
    "id": "4iIlz_J43Zi5"
   },
   "source": [
    "### Replace NA-Values"
   ]
  },
  {
   "cell_type": "markdown",
   "metadata": {
    "id": "EOH-EHtoaXNJ"
   },
   "source": [
    "NA-Values can cause problems when fitting models. Therefore, we want to fill these gaps in our dataset.\n",
    "There are several options to do so. For example we can either fill a gap with the next valid observation 'bfill' or with the previous valid ovservation 'ffill'"
   ]
  },
  {
   "cell_type": "code",
   "execution_count": 60,
   "metadata": {
    "colab": {
     "base_uri": "https://localhost:8080/"
    },
    "id": "h3FKcEyXmpBI",
    "outputId": "2b356343-94af-4627-8b3d-57b4167d1566"
   },
   "outputs": [
    {
     "data": {
      "text/plain": [
       "True"
      ]
     },
     "execution_count": 60,
     "metadata": {},
     "output_type": "execute_result"
    }
   ],
   "source": [
    "data['customer_sex'].isnull().values.any()"
   ]
  },
  {
   "cell_type": "code",
   "execution_count": 61,
   "metadata": {
    "id": "82-qWdmumseA"
   },
   "outputs": [],
   "source": [
    "data['customer_sex'] = data['customer_sex'].fillna(method='ffill')\n",
    "# data.fillna(value='divers')\n",
    "# data_2.iloc[57:66][['customer_sex','fraud']]"
   ]
  },
  {
   "cell_type": "code",
   "execution_count": 62,
   "metadata": {
    "id": "DpQwnJrJ3e1T"
   },
   "outputs": [],
   "source": [
    "# data = data.fillna(method=\"bfill\", axis=1)"
   ]
  },
  {
   "cell_type": "markdown",
   "metadata": {
    "id": "2BFlZY4_bkGt"
   },
   "source": [
    "Furthermore, we could fill gaps by using the mean value of each column instead of relying on the next / previous observation"
   ]
  },
  {
   "cell_type": "code",
   "execution_count": 63,
   "metadata": {
    "id": "craR0F38bsm8"
   },
   "outputs": [],
   "source": [
    "# data = data.fillna(data.mean())"
   ]
  },
  {
   "cell_type": "markdown",
   "metadata": {
    "id": "A-tzCtZC4OMq"
   },
   "source": [
    "### Standardization and Normalization"
   ]
  },
  {
   "cell_type": "markdown",
   "metadata": {
    "id": "4_8Ya9jl4aHX"
   },
   "source": [
    "#### Normalization: Scale values between 0 and 1"
   ]
  },
  {
   "cell_type": "code",
   "execution_count": 64,
   "metadata": {
    "id": "Zr_J6O8p4TFq"
   },
   "outputs": [],
   "source": [
    "from sklearn.preprocessing import MinMaxScaler\n",
    "scaler = MinMaxScaler()\n",
    "data[['valuePerSecondScaled']] = scaler.fit_transform(data[['valuePerSecond']])"
   ]
  },
  {
   "cell_type": "code",
   "execution_count": 65,
   "metadata": {
    "colab": {
     "base_uri": "https://localhost:8080/",
     "height": 770
    },
    "id": "-7EpL1ag1Wii",
    "outputId": "94c170a7-8316-41a9-cd24-1c0fa6b1dd02"
   },
   "outputs": [
    {
     "data": {
      "text/plain": [
       "Text(0.5, 1.0, 'Normalized')"
      ]
     },
     "execution_count": 65,
     "metadata": {},
     "output_type": "execute_result"
    },
    {
     "data": {
      "image/png": "[encoded data removed]",
      "text/plain": [
       "<Figure size 360x360 with 1 Axes>"
      ]
     },
     "metadata": {
      "needs_background": "light"
     },
     "output_type": "display_data"
    },
    {
     "data": {
      "image/png": "[encoded data removed]",
      "text/plain": [
       "<Figure size 360x360 with 1 Axes>"
      ]
     },
     "metadata": {
      "needs_background": "light"
     },
     "output_type": "display_data"
    }
   ],
   "source": [
    "sns.displot(data['valuePerSecond'], kind='kde')\n",
    "plt.xlim(0,2)\n",
    "plt.title('Unscaled')\n",
    "sns.displot(data['valuePerSecondScaled'], kind='kde')\n",
    "plt.xlim(0,2)\n",
    "plt.ylim(0,10)\n",
    "plt.title('Normalized')"
   ]
  },
  {
   "cell_type": "markdown",
   "metadata": {
    "id": "MsbPJ9Xg5-nY"
   },
   "source": [
    "#### Standardization: Scale with mean of 0 and std of 1"
   ]
  },
  {
   "cell_type": "code",
   "execution_count": 66,
   "metadata": {
    "id": "abgWvpC06BEP"
   },
   "outputs": [],
   "source": [
    "from sklearn.preprocessing import StandardScaler\n",
    "scaler = StandardScaler()\n",
    "data[['scannedLineItemsPerSecondScaled']] = scaler.fit_transform(data[['scannedLineItemsPerSecond']])"
   ]
  },
  {
   "cell_type": "code",
   "execution_count": 67,
   "metadata": {
    "colab": {
     "base_uri": "https://localhost:8080/",
     "height": 767
    },
    "id": "GW6RJU2K63UI",
    "outputId": "ed51c674-4bdf-4f97-ac3a-5563e061f767"
   },
   "outputs": [
    {
     "data": {
      "text/plain": [
       "Text(0.5, 1.0, 'Normalized')"
      ]
     },
     "execution_count": 67,
     "metadata": {},
     "output_type": "execute_result"
    },
    {
     "data": {
      "image/png": "[encoded data removed]",
      "text/plain": [
       "<Figure size 360x360 with 1 Axes>"
      ]
     },
     "metadata": {
      "needs_background": "light"
     },
     "output_type": "display_data"
    },
    {
     "data": {
      "image/png": "[encoded data removed]",
      "text/plain": [
       "<Figure size 360x360 with 1 Axes>"
      ]
     },
     "metadata": {
      "needs_background": "light"
     },
     "output_type": "display_data"
    }
   ],
   "source": [
    "sns.displot(data['scannedLineItemsPerSecond'], kind='kde')\n",
    "plt.xlim(-2,2)\n",
    "plt.title('Unscaled')\n",
    "sns.displot(data['scannedLineItemsPerSecondScaled'], kind='kde')\n",
    "plt.xlim(-2,2)\n",
    "plt.title('Normalized')"
   ]
  },
  {
   "cell_type": "markdown",
   "metadata": {
    "id": "kfpEvfWx7yhO"
   },
   "source": [
    "### Dummy Features"
   ]
  },
  {
   "cell_type": "markdown",
   "metadata": {
    "id": "YXhENjxu3gAA"
   },
   "source": [
    "We often have to deal with categorial features. In order to be able to work with them, we often have to encode them correctly. There are two approaches for this task:\n",
    "\n",
    "***One-Hot Encoding***\n",
    "\n",
    "One-hot encoding means converting each category value into a new column and assigns a 1 or 0 (True/False) value to the column\n",
    "\n",
    "We apply One-Hot Encoding when:\n",
    "1. The categorical feature is not ordinal (e.g. a set of countries which is encoded using numbers)\n",
    "2. The number of categorical features is less so one-hot encoding can be effectively applied\n",
    "\n",
    "***Label Encoding***\n",
    "\n",
    "Label encoding is simply converting each value in a column to a number\n",
    "\n",
    "We apply Label Encoding when:\n",
    "1. The categorical feature is ordinal (e.g. trust_level 2 is better than trust level 1)\n",
    "2. The number of categories is quite large as one-hot encoding can lead to high memory consumption \n"
   ]
  },
  {
   "cell_type": "markdown",
   "metadata": {
    "id": "_74sRdZS3p_6"
   },
   "source": [
    "#### One-Hot Encoding"
   ]
  },
  {
   "cell_type": "code",
   "execution_count": 68,
   "metadata": {
    "colab": {
     "base_uri": "https://localhost:8080/"
    },
    "id": "Dy4iSN6kp1sA",
    "outputId": "c8f741fd-c6e2-4c14-d48f-ff80c89bc84a"
   },
   "outputs": [
    {
     "data": {
      "text/plain": [
       "0         male\n",
       "1         male\n",
       "2         male\n",
       "3         male\n",
       "4         male\n",
       "         ...  \n",
       "1874    female\n",
       "1875    female\n",
       "1876      male\n",
       "1877    female\n",
       "1878      male\n",
       "Name: customer_sex, Length: 1879, dtype: object"
      ]
     },
     "execution_count": 68,
     "metadata": {},
     "output_type": "execute_result"
    }
   ],
   "source": [
    "data['customer_sex']"
   ]
  },
  {
   "cell_type": "code",
   "execution_count": 69,
   "metadata": {
    "colab": {
     "base_uri": "https://localhost:8080/",
     "height": 402
    },
    "id": "Pvu7i0shqYgf",
    "outputId": "31b65941-9a1c-4446-a2f5-95825e79b613"
   },
   "outputs": [
    {
     "data": {
      "text/html": [
       "<div>\n",
       "<style scoped>\n",
       "    .dataframe tbody tr th:only-of-type {\n",
       "        vertical-align: middle;\n",
       "    }\n",
       "\n",
       "    .dataframe tbody tr th {\n",
       "        vertical-align: top;\n",
       "    }\n",
       "\n",
       "    .dataframe thead th {\n",
       "        text-align: right;\n",
       "    }\n",
       "</style>\n",
       "<table border=\"1\" class=\"dataframe\">\n",
       "  <thead>\n",
       "    <tr style=\"text-align: right;\">\n",
       "      <th></th>\n",
       "      <th>female</th>\n",
       "      <th>male</th>\n",
       "    </tr>\n",
       "  </thead>\n",
       "  <tbody>\n",
       "    <tr>\n",
       "      <th>0</th>\n",
       "      <td>0</td>\n",
       "      <td>1</td>\n",
       "    </tr>\n",
       "    <tr>\n",
       "      <th>1</th>\n",
       "      <td>0</td>\n",
       "      <td>1</td>\n",
       "    </tr>\n",
       "    <tr>\n",
       "      <th>2</th>\n",
       "      <td>0</td>\n",
       "      <td>1</td>\n",
       "    </tr>\n",
       "    <tr>\n",
       "      <th>3</th>\n",
       "      <td>0</td>\n",
       "      <td>1</td>\n",
       "    </tr>\n",
       "    <tr>\n",
       "      <th>4</th>\n",
       "      <td>0</td>\n",
       "      <td>1</td>\n",
       "    </tr>\n",
       "    <tr>\n",
       "      <th>...</th>\n",
       "      <td>...</td>\n",
       "      <td>...</td>\n",
       "    </tr>\n",
       "    <tr>\n",
       "      <th>1874</th>\n",
       "      <td>1</td>\n",
       "      <td>0</td>\n",
       "    </tr>\n",
       "    <tr>\n",
       "      <th>1875</th>\n",
       "      <td>1</td>\n",
       "      <td>0</td>\n",
       "    </tr>\n",
       "    <tr>\n",
       "      <th>1876</th>\n",
       "      <td>0</td>\n",
       "      <td>1</td>\n",
       "    </tr>\n",
       "    <tr>\n",
       "      <th>1877</th>\n",
       "      <td>1</td>\n",
       "      <td>0</td>\n",
       "    </tr>\n",
       "    <tr>\n",
       "      <th>1878</th>\n",
       "      <td>0</td>\n",
       "      <td>1</td>\n",
       "    </tr>\n",
       "  </tbody>\n",
       "</table>\n",
       "<p>1879 rows × 2 columns</p>\n",
       "</div>"
      ],
      "text/plain": [
       "      female  male\n",
       "0          0     1\n",
       "1          0     1\n",
       "2          0     1\n",
       "3          0     1\n",
       "4          0     1\n",
       "...      ...   ...\n",
       "1874       1     0\n",
       "1875       1     0\n",
       "1876       0     1\n",
       "1877       1     0\n",
       "1878       0     1\n",
       "\n",
       "[1879 rows x 2 columns]"
      ]
     },
     "execution_count": 69,
     "metadata": {},
     "output_type": "execute_result"
    }
   ],
   "source": [
    "pd.get_dummies(data['customer_sex'])"
   ]
  },
  {
   "cell_type": "markdown",
   "metadata": {
    "id": "7RhfMn0_3sDg"
   },
   "source": [
    "#### Label Encoding"
   ]
  },
  {
   "cell_type": "code",
   "execution_count": 70,
   "metadata": {
    "colab": {
     "base_uri": "https://localhost:8080/"
    },
    "id": "TdC_MfHu3uAc",
    "outputId": "f9486995-aeb8-4480-99c6-425afa77a7ae"
   },
   "outputs": [
    {
     "data": {
      "text/plain": [
       "0       5\n",
       "1       3\n",
       "2       3\n",
       "3       6\n",
       "4       5\n",
       "       ..\n",
       "1874    1\n",
       "1875    1\n",
       "1876    4\n",
       "1877    2\n",
       "1878    4\n",
       "Name: trustLevel, Length: 1879, dtype: int64"
      ]
     },
     "execution_count": 70,
     "metadata": {},
     "output_type": "execute_result"
    }
   ],
   "source": [
    "data['trustLevel']"
   ]
  },
  {
   "cell_type": "code",
   "execution_count": 71,
   "metadata": {
    "colab": {
     "base_uri": "https://localhost:8080/"
    },
    "id": "g1KItz4gnRMD",
    "outputId": "83b58594-7805-487d-cd5c-9844c6db5141"
   },
   "outputs": [
    {
     "data": {
      "text/plain": [
       "0        4\n",
       "1        4\n",
       "2        1\n",
       "3        7\n",
       "4        6\n",
       "        ..\n",
       "1874     9\n",
       "1875    10\n",
       "1876     1\n",
       "1877     0\n",
       "1878     8\n",
       "Name: paymentType, Length: 1879, dtype: int32"
      ]
     },
     "execution_count": 71,
     "metadata": {},
     "output_type": "execute_result"
    }
   ],
   "source": [
    "from sklearn import preprocessing\n",
    "le = preprocessing.LabelEncoder()\n",
    "le.fit(data['paymentType'])\n",
    "data['paymentType'] = le.transform(data['paymentType'])\n",
    "data['paymentType']"
   ]
  },
  {
   "cell_type": "markdown",
   "metadata": {
    "id": "QYWFzV9B3wCD"
   },
   "source": [
    "### Now you: Preprocessing\n",
    "1) Encode the feature storeLocation with a suitable encoding Method\n",
    "\n",
    "2) perform a Normalization for the feature grandTotal. Save the calculated feature as grandTotalScaled."
   ]
  },
  {
   "cell_type": "code",
   "execution_count": 73,
   "metadata": {
    "id": "PlloVjHecSFu"
   },
   "outputs": [],
   "source": [
    "# 1)\n",
    "le = preprocessing.LabelEncoder()\n",
    "le.fit(data['storeLocation'])\n",
    "data['storeLocation'] = le.transform(data['storeLocation'])\n",
    "\n",
    "# 2)\n",
    "scaler = StandardScaler()\n",
    "data[['grandTotal']] = scaler.fit_transform(data[['grandTotal']])"
   ]
  },
  {
   "cell_type": "markdown",
   "metadata": {
    "id": "ZL0ZM85lU_bW"
   },
   "source": [
    "# Linkit Grundlagenschulung (2. Teil)\n"
   ]
  },
  {
   "cell_type": "markdown",
   "metadata": {
    "id": "Ap4ITkVvUlWc"
   },
   "source": [
    "## 5. Introduction Modeling"
   ]
  },
  {
   "cell_type": "markdown",
   "metadata": {
    "id": "uXf1JiWU7I3k"
   },
   "source": [
    "In the first session, we have taken all the necessary steps to load and prepare the data. \n",
    "In the next to chapters, we will learn how we can train a model that is able to classify the transactions into fraudulent and non-fraudulent transactions"
   ]
  },
  {
   "cell_type": "markdown",
   "metadata": {
    "id": "OoMnn1xN7gI3"
   },
   "source": [
    "First of all, we will seperate the data into features (X), which are the inputs for the classifier and the label (y), which the classifier will try to predict. "
   ]
  },
  {
   "cell_type": "code",
   "execution_count": 74,
   "metadata": {
    "colab": {
     "base_uri": "https://localhost:8080/"
    },
    "id": "y84c0BxO8E6c",
    "outputId": "a933f452-a1bb-4b61-9302-04a6a336c874"
   },
   "outputs": [
    {
     "data": {
      "text/plain": [
       "Index(['trustLevel', 'totalScanTimeInSeconds', 'grandTotal', 'lineItemVoids',\n",
       "       'scansWithoutRegistration', 'quantityModifications',\n",
       "       'scannedLineItemsPerSecond', 'valuePerSecond',\n",
       "       'lineItemVoidsPerPosition', 'fraud', 'checkoutTime', 'customer_sex',\n",
       "       'storeLocation', 'paymentType', 'totalItems', 'checkoutDate',\n",
       "       'checkoutMonth', 'checkoutYear', 'checkoutDayTime', 'meanPricePerItem',\n",
       "       'valuePerSecondScaled', 'scannedLineItemsPerSecondScaled'],\n",
       "      dtype='object')"
      ]
     },
     "execution_count": 74,
     "metadata": {},
     "output_type": "execute_result"
    }
   ],
   "source": [
    "data.columns"
   ]
  },
  {
   "cell_type": "code",
   "execution_count": 75,
   "metadata": {
    "id": "SuKY-cbVieyr"
   },
   "outputs": [],
   "source": [
    "# We can either take all the features and drop the column with the label\n",
    "X = data.drop(['fraud'], axis=1)\n",
    "\n",
    "# ... or explicitly select a subset of features we want to use for the \n",
    "# classification  \n",
    "X = data[['trustLevel', 'totalItems', 'valuePerSecond', 'grandTotal', \n",
    "          'totalScanTimeInSeconds', 'lineItemVoids']]\n",
    "\n",
    "\n",
    "# Here we select the column that we want to predict \n",
    "y = data['fraud']\n"
   ]
  },
  {
   "cell_type": "code",
   "execution_count": 76,
   "metadata": {
    "colab": {
     "base_uri": "https://localhost:8080/",
     "height": 402
    },
    "id": "9Lhh4Wqq8l_N",
    "outputId": "4e21f3ee-12c1-4e8a-86ed-87388f50b455"
   },
   "outputs": [
    {
     "data": {
      "text/html": [
       "<div>\n",
       "<style scoped>\n",
       "    .dataframe tbody tr th:only-of-type {\n",
       "        vertical-align: middle;\n",
       "    }\n",
       "\n",
       "    .dataframe tbody tr th {\n",
       "        vertical-align: top;\n",
       "    }\n",
       "\n",
       "    .dataframe thead th {\n",
       "        text-align: right;\n",
       "    }\n",
       "</style>\n",
       "<table border=\"1\" class=\"dataframe\">\n",
       "  <thead>\n",
       "    <tr style=\"text-align: right;\">\n",
       "      <th></th>\n",
       "      <th>fraud</th>\n",
       "    </tr>\n",
       "  </thead>\n",
       "  <tbody>\n",
       "    <tr>\n",
       "      <th>0</th>\n",
       "      <td>0</td>\n",
       "    </tr>\n",
       "    <tr>\n",
       "      <th>1</th>\n",
       "      <td>0</td>\n",
       "    </tr>\n",
       "    <tr>\n",
       "      <th>2</th>\n",
       "      <td>0</td>\n",
       "    </tr>\n",
       "    <tr>\n",
       "      <th>3</th>\n",
       "      <td>0</td>\n",
       "    </tr>\n",
       "    <tr>\n",
       "      <th>4</th>\n",
       "      <td>0</td>\n",
       "    </tr>\n",
       "    <tr>\n",
       "      <th>...</th>\n",
       "      <td>...</td>\n",
       "    </tr>\n",
       "    <tr>\n",
       "      <th>1874</th>\n",
       "      <td>0</td>\n",
       "    </tr>\n",
       "    <tr>\n",
       "      <th>1875</th>\n",
       "      <td>1</td>\n",
       "    </tr>\n",
       "    <tr>\n",
       "      <th>1876</th>\n",
       "      <td>0</td>\n",
       "    </tr>\n",
       "    <tr>\n",
       "      <th>1877</th>\n",
       "      <td>0</td>\n",
       "    </tr>\n",
       "    <tr>\n",
       "      <th>1878</th>\n",
       "      <td>0</td>\n",
       "    </tr>\n",
       "  </tbody>\n",
       "</table>\n",
       "<p>1879 rows × 1 columns</p>\n",
       "</div>"
      ],
      "text/plain": [
       "      fraud\n",
       "0         0\n",
       "1         0\n",
       "2         0\n",
       "3         0\n",
       "4         0\n",
       "...     ...\n",
       "1874      0\n",
       "1875      1\n",
       "1876      0\n",
       "1877      0\n",
       "1878      0\n",
       "\n",
       "[1879 rows x 1 columns]"
      ]
     },
     "execution_count": 76,
     "metadata": {},
     "output_type": "execute_result"
    }
   ],
   "source": [
    "# Tip: While a column in single brackets outputs a Pandas Series, \n",
    "# using double brackets will output a Pandas DataFrame\n",
    "data[['fraud']]"
   ]
  },
  {
   "cell_type": "markdown",
   "metadata": {
    "id": "eXyIhqfd82Zc"
   },
   "source": [
    "Next, we need to decide what classifier we want to use for our prediction\n",
    "\n",
    "The scikit-learn library gives us a nearly endless choice of classifiers we can use. \n",
    "\n",
    "We start with a very simple classifier, the k-nearest neighbor classifier. \n",
    "\n",
    "(https://scikit-learn.org/stable/modules/generated/sklearn.neighbors.KNeighborsClassifier.html)\n"
   ]
  },
  {
   "cell_type": "code",
   "execution_count": 77,
   "metadata": {
    "colab": {
     "base_uri": "https://localhost:8080/"
    },
    "id": "grBNLSMYtDLv",
    "outputId": "f0a94526-605d-4ddc-86d6-f475b35696dd"
   },
   "outputs": [
    {
     "data": {
      "text/plain": [
       "KNeighborsClassifier()"
      ]
     },
     "execution_count": 77,
     "metadata": {},
     "output_type": "execute_result"
    }
   ],
   "source": [
    "# We first need to import the selected classifier from scikit-learn\n",
    "from sklearn.neighbors import KNeighborsClassifier\n",
    "\n",
    "# The next step is to create an instance of the selected classifier-class\n",
    "clf_nn = KNeighborsClassifier(n_neighbors=5)\n",
    "clf_nn"
   ]
  },
  {
   "cell_type": "code",
   "execution_count": 78,
   "metadata": {
    "colab": {
     "base_uri": "https://localhost:8080/"
    },
    "id": "O2s3bZgZtDL3",
    "outputId": "2c0a0a28-62e2-4c65-bb0a-455d374ed65c"
   },
   "outputs": [
    {
     "data": {
      "text/plain": [
       "KNeighborsClassifier()"
      ]
     },
     "execution_count": 78,
     "metadata": {},
     "output_type": "execute_result"
    }
   ],
   "source": [
    "# Next up, we can call the fit() method, that needs the features X and the label y\n",
    "# to train the selected classifier\n",
    "clf_nn.fit(X, y)"
   ]
  },
  {
   "cell_type": "code",
   "execution_count": 79,
   "metadata": {
    "colab": {
     "base_uri": "https://localhost:8080/"
    },
    "id": "zTHm4RPUtDL4",
    "outputId": "fbfb9ba7-a027-4e22-b5e4-760b6e9569b3"
   },
   "outputs": [
    {
     "data": {
      "text/plain": [
       "0.9494411921234699"
      ]
     },
     "execution_count": 79,
     "metadata": {},
     "output_type": "execute_result"
    }
   ],
   "source": [
    "# Now we can easily check with the method score, how good our classifier \n",
    "# predicts fraudulent transactions on the data set\n",
    "clf_nn.score(X, y)"
   ]
  },
  {
   "cell_type": "markdown",
   "metadata": {
    "id": "Ei5N758U_sH9"
   },
   "source": [
    "Wow! A score of 0.94 seems to be pretty good"
   ]
  },
  {
   "cell_type": "markdown",
   "metadata": {
    "id": "KEmcCgsQNhja"
   },
   "source": [
    "### Now you: Modeling\n",
    "Let's see if, using a different method, we can even get a better score! \n",
    "\n",
    "1) Try using a Decision Tree Classifier to predict the fraudulent transactions. \n",
    "\n",
    "(Hint: Look into the API if you get stuck... [Scitkit-learn: DecisionTreeClassifier API](https://scikit-learn.org/stable/modules/generated/sklearn.tree.DecisionTreeClassifier.html))\n",
    "\n",
    "2) See what happens if you change the parameter controlling the maximum depth of the Decision Tree"
   ]
  },
  {
   "cell_type": "markdown",
   "metadata": {
    "id": "B70xel7oxKz_"
   },
   "source": [
    "Solution 1)"
   ]
  },
  {
   "cell_type": "code",
   "execution_count": 1,
   "metadata": {
    "colab": {
     "base_uri": "https://localhost:8080/"
    },
    "id": "A4JBCQ2GNfR6",
    "outputId": "965c61ab-e63e-49a4-fb81-727c275c195d"
   },
   "outputs": [],
   "source": [
    "#Your Code here ..."
   ]
  },
  {
   "cell_type": "markdown",
   "metadata": {
    "id": "DW25i0FuxO_P"
   },
   "source": [
    "Solution 2)"
   ]
  },
  {
   "cell_type": "code",
   "execution_count": 2,
   "metadata": {
    "colab": {
     "base_uri": "https://localhost:8080/"
    },
    "id": "vMd6skRzxRSf",
    "outputId": "5ca604ea-cc15-4f3f-866b-2f1c5b74d7f6"
   },
   "outputs": [],
   "source": [
    "#Your Code here ..."
   ]
  },
  {
   "cell_type": "code",
   "execution_count": 3,
   "metadata": {
    "colab": {
     "base_uri": "https://localhost:8080/"
    },
    "id": "lqkkVTzWyTdt",
    "outputId": "29c767af-322e-4a64-8f4a-30c28e29fa4e"
   },
   "outputs": [],
   "source": [
    "#Your Code here ..."
   ]
  },
  {
   "cell_type": "code",
   "execution_count": 5,
   "metadata": {
    "colab": {
     "base_uri": "https://localhost:8080/"
    },
    "id": "DtTpdcNpxbUa",
    "outputId": "b96f846f-e862-4aff-b967-bda4f077bd15"
   },
   "outputs": [],
   "source": [
    "#Your Code here ..."
   ]
  },
  {
   "cell_type": "code",
   "execution_count": 6,
   "metadata": {
    "colab": {
     "base_uri": "https://localhost:8080/"
    },
    "id": "7tMOYFG4x5OB",
    "outputId": "c6a29b1f-9d89-4fc4-8515-844e3706a407"
   },
   "outputs": [],
   "source": [
    "#Your Code here ..."
   ]
  },
  {
   "cell_type": "markdown",
   "metadata": {
    "id": "gNdvkzkxAs37"
   },
   "source": [
    "... unfortunately, we might have done something wrong in the process :("
   ]
  },
  {
   "cell_type": "markdown",
   "metadata": {
    "id": "-51nNVF_UlY6"
   },
   "source": [
    "## 6. Introduction Evaluation"
   ]
  },
  {
   "cell_type": "markdown",
   "metadata": {
    "id": "io1sr7A2CMoy"
   },
   "source": [
    "As we want our model to perform good on unseen data (and not on the training data) we now split our dataset in 2 pieces: a trainset and a testset."
   ]
  },
  {
   "cell_type": "markdown",
   "metadata": {
    "id": "OWJJoxWtAEmK"
   },
   "source": [
    "### Train-Test-Split"
   ]
  },
  {
   "cell_type": "code",
   "execution_count": 85,
   "metadata": {
    "id": "tinLip_1jM55"
   },
   "outputs": [],
   "source": [
    "from sklearn.model_selection import train_test_split"
   ]
  },
  {
   "cell_type": "code",
   "execution_count": 86,
   "metadata": {
    "id": "12LqtQUAjQg6"
   },
   "outputs": [],
   "source": [
    "X_train, X_test, y_train, y_test = train_test_split(X, y, test_size=0.2)"
   ]
  },
  {
   "cell_type": "markdown",
   "metadata": {
    "id": "xQU4h6VsGLqF"
   },
   "source": [
    "Lets train our decision tree again, but now only on the training data:"
   ]
  },
  {
   "cell_type": "code",
   "execution_count": 87,
   "metadata": {
    "colab": {
     "base_uri": "https://localhost:8080/"
    },
    "id": "kCzAska_Oue9",
    "outputId": "49c984b5-8e42-4e45-d0e4-9abbad8904e5"
   },
   "outputs": [
    {
     "data": {
      "text/plain": [
       "0.9601063829787234"
      ]
     },
     "execution_count": 87,
     "metadata": {},
     "output_type": "execute_result"
    }
   ],
   "source": [
    "clf_dt = DecisionTreeClassifier()\n",
    "clf_dt.fit(X_train, y_train)\n",
    "clf_dt.score(X_train, y_train)\n",
    "clf_dt.score(X_test,y_test)"
   ]
  },
  {
   "cell_type": "markdown",
   "metadata": {
    "id": "yolcP5imLwur"
   },
   "source": [
    "Still pretty good isn't it? Maybe too good? Let's find it out."
   ]
  },
  {
   "cell_type": "markdown",
   "metadata": {
    "id": "5r6-LUAxALL3"
   },
   "source": [
    "### Overview over different Metrics"
   ]
  },
  {
   "cell_type": "markdown",
   "metadata": {
    "id": "RXdscge0DI2x"
   },
   "source": [
    "To evaluate the performance of our model, we have to determine a quantified comparision of the predicition and the ground truth. There are plenty of options for quantification, lets get a quick overview:"
   ]
  },
  {
   "cell_type": "code",
   "execution_count": 88,
   "metadata": {
    "id": "nhBqWVWMDECO"
   },
   "outputs": [],
   "source": [
    "y_pred = clf_dt.predict(X_test)"
   ]
  },
  {
   "cell_type": "code",
   "execution_count": 89,
   "metadata": {
    "colab": {
     "base_uri": "https://localhost:8080/"
    },
    "id": "FFjX_1B-faXR",
    "outputId": "0c0d52a0-32bc-4d33-9647-f785d20e9cb3"
   },
   "outputs": [
    {
     "name": "stdout",
     "output_type": "stream",
     "text": [
      "Accuracy:  0.96011\n",
      "Precision:  0.64286\n",
      "Recall:  0.47368\n",
      "Mean Squared Error (MSE):  0.03989\n",
      "Root Mean Squared Error (RMSE):  0.19973\n",
      "Mean Squared Logarithmic Error (MSLE):  0.01917\n"
     ]
    }
   ],
   "source": [
    "from sklearn import metrics\n",
    "\n",
    "accuracy = metrics.accuracy_score(y_test, y_pred)\n",
    "precision = metrics.precision_score(y_test, y_pred)\n",
    "recall = metrics.recall_score(y_test, y_pred)\n",
    "MSE = metrics.mean_squared_error(y_test, y_pred)\n",
    "RMSE = metrics.mean_squared_error(y_test, y_pred, squared=False)\n",
    "MSLE = metrics.mean_squared_log_error(y_test, y_pred)\n",
    "\n",
    "print(\"Accuracy: %8.5f\" % accuracy)\n",
    "print(\"Precision: %8.5f\" % precision)\n",
    "print(\"Recall: %8.5f\" % recall)\n",
    "print(\"Mean Squared Error (MSE): %8.5f\" % MSE)\n",
    "print(\"Root Mean Squared Error (RMSE): %8.5f\" % RMSE)\n",
    "print(\"Mean Squared Logarithmic Error (MSLE): %8.5f\" % MSLE)"
   ]
  },
  {
   "cell_type": "markdown",
   "metadata": {
    "id": "h40UUL8C8c_z"
   },
   "source": [
    "Learn more about how the metrics work in detail in the [documentation](https://scikit-learn.org/stable/modules/classes.html#module-sklearn.metrics).\n",
    "\n",
    "To learn more about how to print properly formated numbers click [here](https://www.geeksforgeeks.org/python-output-formatting/)."
   ]
  },
  {
   "cell_type": "markdown",
   "metadata": {
    "id": "730pBH-NAQRf"
   },
   "source": [
    "### Dummy Classifier"
   ]
  },
  {
   "cell_type": "markdown",
   "metadata": {
    "id": "9oY2rs2VmPeg"
   },
   "source": [
    "Now we have a quantified evaluation of our model. But how can we determine if this score should be considered good or bad?\n",
    "\n",
    "Lets compare it to a dummy classifier:"
   ]
  },
  {
   "cell_type": "code",
   "execution_count": 90,
   "metadata": {
    "colab": {
     "base_uri": "https://localhost:8080/"
    },
    "id": "j6LxG1RQlpig",
    "outputId": "53a78ac9-4b9b-4932-ed09-8fb8e15fb82e"
   },
   "outputs": [
    {
     "name": "stdout",
     "output_type": "stream",
     "text": [
      "Accuracy (classify everything as fraud):  0.05053\n",
      "Accuracy (classify everything as non-fraud):  0.94947\n"
     ]
    }
   ],
   "source": [
    "import numpy as np\n",
    "y_pred = pd.DataFrame(np.ones((len(y_test),1)), columns=['prediction'])\n",
    "accuracy = metrics.accuracy_score(y_test, y_pred)\n",
    "print(\"Accuracy (classify everything as fraud): %8.5f\" % accuracy)\n",
    "y_pred = pd.DataFrame(np.zeros((len(y_test),1)), columns=['prediction'])\n",
    "accuracy = metrics.accuracy_score(y_test, y_pred)\n",
    "print(\"Accuracy (classify everything as non-fraud): %8.5f\" % accuracy)"
   ]
  },
  {
   "cell_type": "markdown",
   "metadata": {
    "id": "OvSpdYuOMC5p"
   },
   "source": [
    "If we classifiy everthing as fraud, we still get an accuracy of 0.96. This is why the score of our Naive Bayes was so high.\n",
    "\n",
    "We will learn more about unbalanced datasets and how to handle them in another upcoming course."
   ]
  },
  {
   "cell_type": "markdown",
   "metadata": {
    "id": "nQdXn0GZrS-b"
   },
   "source": [
    "### Cross-Validation"
   ]
  },
  {
   "cell_type": "markdown",
   "metadata": {
    "id": "i7M-p_onE_tR"
   },
   "source": [
    "Lets consider a trainable classifier. How do we know when to stop learning?\n",
    "\n",
    "Idea: Cross-Validation.\n",
    "\n",
    "Lets split our Trainset another time and call the detached part Validationset. After each training iteration we evaluate the score of our model on the validation dataset. We stop training when the score is minimal.\n",
    "\n",
    "Here are 2 Options how to perform Cross-Validation:"
   ]
  },
  {
   "cell_type": "code",
   "execution_count": 91,
   "metadata": {
    "colab": {
     "base_uri": "https://localhost:8080/"
    },
    "id": "IsZ_O4RcVhOx",
    "outputId": "a783e581-c4f5-49b9-d47d-42b54b917e98"
   },
   "outputs": [
    {
     "name": "stdout",
     "output_type": "stream",
     "text": [
      "Accuracy (Cross Validation - Mean):  0.94411\n"
     ]
    }
   ],
   "source": [
    "from sklearn.model_selection import KFold\n",
    "\n",
    "clf_nn = KNeighborsClassifier(n_neighbors=5)\n",
    "accuracy = 0\n",
    "num_splits=5\n",
    "kf = KFold(n_splits=num_splits)\n",
    "for train_index, test_index in kf.split(X):\n",
    "    #print(\"TRAIN:\", train_index, \"TEST:\", test_index)\n",
    "    X_train, X_val = X.loc[train_index], X.loc[test_index]\n",
    "    y_train, y_val = y.loc[train_index], y.loc[test_index]\n",
    "    clf_nn.fit(X_train, y_train)\n",
    "    y_pred = clf_nn.predict(X_val)\n",
    "    accuracy += metrics.accuracy_score(y_val, y_pred)\n",
    "accuracy /= num_splits\n",
    "print(\"Accuracy (Cross Validation - Mean): %8.5f\" % accuracy)"
   ]
  },
  {
   "cell_type": "code",
   "execution_count": 92,
   "metadata": {
    "colab": {
     "base_uri": "https://localhost:8080/"
    },
    "id": "5Wn7Snlb_C1H",
    "outputId": "88afa01a-c4ad-4eff-b00f-5f5f50deb43e"
   },
   "outputs": [
    {
     "name": "stdout",
     "output_type": "stream",
     "text": [
      "Score (Cross Validation - Mean):  0.94306\n"
     ]
    }
   ],
   "source": [
    "from sklearn.model_selection import cross_validate\n",
    "clf_nn = KNeighborsClassifier(n_neighbors=5)\n",
    "cv_results = cross_validate(clf_nn, X, y, cv=5)\n",
    "score = cv_results['test_score']\n",
    "print(\"Score (Cross Validation - Mean): %8.5f\" % np.mean(score))"
   ]
  },
  {
   "cell_type": "markdown",
   "metadata": {
    "id": "1bR1kZ0VN3AT"
   },
   "source": [
    "Watch out: In the second example, the estimators built-in scoring method is used. If you want to use a metric, e.g. the accuracy, as scorer, you have to use the *make_scorer* Method as in the example below.\n"
   ]
  },
  {
   "cell_type": "code",
   "execution_count": 93,
   "metadata": {
    "colab": {
     "base_uri": "https://localhost:8080/"
    },
    "id": "jpC-k4xAOS8g",
    "outputId": "c0f7a7d8-fc56-407f-8153-0392b9eaf96b"
   },
   "outputs": [
    {
     "name": "stdout",
     "output_type": "stream",
     "text": [
      "Accuracy (Cross Validation - Mean):  0.94306\n"
     ]
    }
   ],
   "source": [
    "accuracy = metrics.make_scorer(metrics.accuracy_score)\n",
    "clf_nn = KNeighborsClassifier(n_neighbors=5)\n",
    "cv_results = cross_validate(clf_nn, X, y,scoring=accuracy, cv=5)\n",
    "accuracy_score = cv_results['test_score']\n",
    "print(\"Accuracy (Cross Validation - Mean): %8.5f\" % np.mean(accuracy_score))"
   ]
  },
  {
   "cell_type": "markdown",
   "metadata": {
    "id": "L5Ka7F1nz7Ni"
   },
   "source": [
    "### Now you: Evaluation\n",
    "Validate your model (Decision Tree) with a 4-fold Cross-Validation. Choose three different metrics for evaluation purpose"
   ]
  },
  {
   "cell_type": "code",
   "execution_count": 8,
   "metadata": {
    "colab": {
     "base_uri": "https://localhost:8080/"
    },
    "id": "nkXdX0l-0dSh",
    "outputId": "b0d402e4-c8cf-4990-a53b-222b22359c9c"
   },
   "outputs": [],
   "source": [
    "#Your Code here ..."
   ]
  },
  {
   "cell_type": "code",
   "execution_count": null,
   "metadata": {},
   "outputs": [],
   "source": []
  }
 ],
 "metadata": {
  "colab": {
   "collapsed_sections": [
    "wAOouqFoW_-Y",
    "xjVVod5nsY_g",
    "9LQ5cO6Tw_zH",
    "yRkvMaOlxEjj",
    "-lt38aMBxKSH",
    "VGUKAyiVxauj",
    "SpsaEmZTxclx",
    "U47pPCwHu6a_",
    "vzwzJ-m2yEg-",
    "RLwDFUkqxugi",
    "oKQZO8szUlT6",
    "e8jEuiar2_im",
    "4iIlz_J43Zi5",
    "A-tzCtZC4OMq",
    "4_8Ya9jl4aHX",
    "MsbPJ9Xg5-nY",
    "kfpEvfWx7yhO",
    "_74sRdZS3p_6",
    "7RhfMn0_3sDg",
    "QYWFzV9B3wCD",
    "CO2Czo8uU4oN",
    "ZL0ZM85lU_bW",
    "Ap4ITkVvUlWc",
    "KEmcCgsQNhja",
    "-51nNVF_UlY6",
    "OWJJoxWtAEmK",
    "5r6-LUAxALL3",
    "730pBH-NAQRf",
    "nQdXn0GZrS-b",
    "L5Ka7F1nz7Ni"
   ],
   "name": "Linkit-Grundlagenschulung.ipynb",
   "provenance": [],
   "toc_visible": true
  },
  "kernelspec": {
   "display_name": "Python 3",
   "language": "python",
   "name": "python3"
  },
  "language_info": {
   "codemirror_mode": {
    "name": "ipython",
    "version": 3
   },
   "file_extension": ".py",
   "mimetype": "text/x-python",
   "name": "python",
   "nbconvert_exporter": "python",
   "pygments_lexer": "ipython3",
   "version": "3.9.2"
  }
 },
 "nbformat": 4,
 "nbformat_minor": 1
}