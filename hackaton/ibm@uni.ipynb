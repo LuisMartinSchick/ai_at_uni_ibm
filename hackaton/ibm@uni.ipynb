{
 "cells": [
  {
   "cell_type": "code",
   "execution_count": 2,
   "metadata": {},
   "outputs": [],
   "source": [
    "from time import time\n",
    "from collections import Counter\n",
    "from pathlib import Path\n",
    "import pandas as pd\n",
    "import numpy as np\n",
    "from sklearn.svm import LinearSVC\n",
    "from sklearn.linear_model import LogisticRegression, SGDClassifier\n",
    "from sklearn.preprocessing import StandardScaler\n",
    "from sklearn.pipeline import Pipeline\n",
    "from sklearn.model_selection import train_test_split, ShuffleSplit, cross_validate\n",
    "from sklearn.metrics import f1_score\n",
    "import matplotlib.pyplot as plt\n",
    "import seaborn as sns\n",
    "from joblib import dump, load\n",
    "% matplotlib inline\n",
    "import warnings\n",
    "\n",
    "warnings.filterwarnings('ignore')"
   ]
  },
  {
   "cell_type": "code",
   "execution_count": 3,
   "metadata": {
    "pycharm": {
     "name": "#%%\n"
    }
   },
   "outputs": [],
   "source": [
    "data_directory = Path('./data')"
   ]
  },
  {
   "cell_type": "code",
   "execution_count": 4,
   "metadata": {
    "pycharm": {
     "name": "#%%\n"
    }
   },
   "outputs": [
    {
     "data": {
      "text/plain": [
       "WindowsPath('data')"
      ]
     },
     "execution_count": 4,
     "metadata": {},
     "output_type": "execute_result"
    }
   ],
   "source": [
    "data_directory"
   ]
  },
  {
   "cell_type": "code",
   "execution_count": 28,
   "metadata": {
    "pycharm": {
     "name": "#%%\n"
    }
   },
   "outputs": [
    {
     "data": {
      "text/plain": "    LB  AC   FM  UC  ASTV  MSTV  ALTV  MLTV  DL  DS  ...  Min  Max  Nmax  \\\n0  130  10   54   1    34   2.1     0   3.0   0   0  ...   50  182     8   \n1  120   4   23   5    36   1.5     0  13.5   0   0  ...   62  174     6   \n2  133   0    0   4    20   2.7     0  18.5   6   0  ...   63  161     7   \n3  136   4    0   5    46   0.8     1   7.4   0   0  ...  119  158     1   \n4  130   6  557   6    29   1.7     0   7.8   5   0  ...   65  177     6   \n\n   Nzeros  Mode  Mean  Median  Variance  Tendency  NSP  \n0       0   159   151     155        25         1    1  \n1       0   119   129     125        42         0    1  \n2       0   136   124     134        61         1    1  \n3       1   144   143     145         1         0    1  \n4       1   133   129     133        27         0    1  \n\n[5 rows x 22 columns]",
      "text/html": "<div>\n<style scoped>\n    .dataframe tbody tr th:only-of-type {\n        vertical-align: middle;\n    }\n\n    .dataframe tbody tr th {\n        vertical-align: top;\n    }\n\n    .dataframe thead th {\n        text-align: right;\n    }\n</style>\n<table border=\"1\" class=\"dataframe\">\n  <thead>\n    <tr style=\"text-align: right;\">\n      <th></th>\n      <th>LB</th>\n      <th>AC</th>\n      <th>FM</th>\n      <th>UC</th>\n      <th>ASTV</th>\n      <th>MSTV</th>\n      <th>ALTV</th>\n      <th>MLTV</th>\n      <th>DL</th>\n      <th>DS</th>\n      <th>...</th>\n      <th>Min</th>\n      <th>Max</th>\n      <th>Nmax</th>\n      <th>Nzeros</th>\n      <th>Mode</th>\n      <th>Mean</th>\n      <th>Median</th>\n      <th>Variance</th>\n      <th>Tendency</th>\n      <th>NSP</th>\n    </tr>\n  </thead>\n  <tbody>\n    <tr>\n      <th>0</th>\n      <td>130</td>\n      <td>10</td>\n      <td>54</td>\n      <td>1</td>\n      <td>34</td>\n      <td>2.1</td>\n      <td>0</td>\n      <td>3.0</td>\n      <td>0</td>\n      <td>0</td>\n      <td>...</td>\n      <td>50</td>\n      <td>182</td>\n      <td>8</td>\n      <td>0</td>\n      <td>159</td>\n      <td>151</td>\n      <td>155</td>\n      <td>25</td>\n      <td>1</td>\n      <td>1</td>\n    </tr>\n    <tr>\n      <th>1</th>\n      <td>120</td>\n      <td>4</td>\n      <td>23</td>\n      <td>5</td>\n      <td>36</td>\n      <td>1.5</td>\n      <td>0</td>\n      <td>13.5</td>\n      <td>0</td>\n      <td>0</td>\n      <td>...</td>\n      <td>62</td>\n      <td>174</td>\n      <td>6</td>\n      <td>0</td>\n      <td>119</td>\n      <td>129</td>\n      <td>125</td>\n      <td>42</td>\n      <td>0</td>\n      <td>1</td>\n    </tr>\n    <tr>\n      <th>2</th>\n      <td>133</td>\n      <td>0</td>\n      <td>0</td>\n      <td>4</td>\n      <td>20</td>\n      <td>2.7</td>\n      <td>0</td>\n      <td>18.5</td>\n      <td>6</td>\n      <td>0</td>\n      <td>...</td>\n      <td>63</td>\n      <td>161</td>\n      <td>7</td>\n      <td>0</td>\n      <td>136</td>\n      <td>124</td>\n      <td>134</td>\n      <td>61</td>\n      <td>1</td>\n      <td>1</td>\n    </tr>\n    <tr>\n      <th>3</th>\n      <td>136</td>\n      <td>4</td>\n      <td>0</td>\n      <td>5</td>\n      <td>46</td>\n      <td>0.8</td>\n      <td>1</td>\n      <td>7.4</td>\n      <td>0</td>\n      <td>0</td>\n      <td>...</td>\n      <td>119</td>\n      <td>158</td>\n      <td>1</td>\n      <td>1</td>\n      <td>144</td>\n      <td>143</td>\n      <td>145</td>\n      <td>1</td>\n      <td>0</td>\n      <td>1</td>\n    </tr>\n    <tr>\n      <th>4</th>\n      <td>130</td>\n      <td>6</td>\n      <td>557</td>\n      <td>6</td>\n      <td>29</td>\n      <td>1.7</td>\n      <td>0</td>\n      <td>7.8</td>\n      <td>5</td>\n      <td>0</td>\n      <td>...</td>\n      <td>65</td>\n      <td>177</td>\n      <td>6</td>\n      <td>1</td>\n      <td>133</td>\n      <td>129</td>\n      <td>133</td>\n      <td>27</td>\n      <td>0</td>\n      <td>1</td>\n    </tr>\n  </tbody>\n</table>\n<p>5 rows × 22 columns</p>\n</div>"
     },
     "execution_count": 28,
     "metadata": {},
     "output_type": "execute_result"
    }
   ],
   "source": [
    "data = pd.read_csv('C:/Users/luis3/PycharmProjects/LINKIT/ai_at_uni_ibm/hackaton/data/cardiotocography_train.csv')"
   ]
  },
  {
   "cell_type": "code",
   "execution_count": 29,
   "metadata": {
    "pycharm": {
     "name": "#%%\n"
    }
   },
   "outputs": [
    {
     "name": "stdout",
     "output_type": "stream",
     "text": [
      "21 features and 1759 training examples\n"
     ]
    },
    {
     "data": {
      "text/plain": "    LB  AC   FM  UC  ASTV  MSTV  ALTV  MLTV  DL  DS  ...  Min  Max  Nmax  \\\n0  130  10   54   1    34   2.1     0   3.0   0   0  ...   50  182     8   \n1  120   4   23   5    36   1.5     0  13.5   0   0  ...   62  174     6   \n2  133   0    0   4    20   2.7     0  18.5   6   0  ...   63  161     7   \n3  136   4    0   5    46   0.8     1   7.4   0   0  ...  119  158     1   \n4  130   6  557   6    29   1.7     0   7.8   5   0  ...   65  177     6   \n\n   Nzeros  Mode  Mean  Median  Variance  Tendency  NSP  \n0       0   159   151     155        25         1    1  \n1       0   119   129     125        42         0    1  \n2       0   136   124     134        61         1    1  \n3       1   144   143     145         1         0    1  \n4       1   133   129     133        27         0    1  \n\n[5 rows x 22 columns]",
      "text/html": "<div>\n<style scoped>\n    .dataframe tbody tr th:only-of-type {\n        vertical-align: middle;\n    }\n\n    .dataframe tbody tr th {\n        vertical-align: top;\n    }\n\n    .dataframe thead th {\n        text-align: right;\n    }\n</style>\n<table border=\"1\" class=\"dataframe\">\n  <thead>\n    <tr style=\"text-align: right;\">\n      <th></th>\n      <th>LB</th>\n      <th>AC</th>\n      <th>FM</th>\n      <th>UC</th>\n      <th>ASTV</th>\n      <th>MSTV</th>\n      <th>ALTV</th>\n      <th>MLTV</th>\n      <th>DL</th>\n      <th>DS</th>\n      <th>...</th>\n      <th>Min</th>\n      <th>Max</th>\n      <th>Nmax</th>\n      <th>Nzeros</th>\n      <th>Mode</th>\n      <th>Mean</th>\n      <th>Median</th>\n      <th>Variance</th>\n      <th>Tendency</th>\n      <th>NSP</th>\n    </tr>\n  </thead>\n  <tbody>\n    <tr>\n      <th>0</th>\n      <td>130</td>\n      <td>10</td>\n      <td>54</td>\n      <td>1</td>\n      <td>34</td>\n      <td>2.1</td>\n      <td>0</td>\n      <td>3.0</td>\n      <td>0</td>\n      <td>0</td>\n      <td>...</td>\n      <td>50</td>\n      <td>182</td>\n      <td>8</td>\n      <td>0</td>\n      <td>159</td>\n      <td>151</td>\n      <td>155</td>\n      <td>25</td>\n      <td>1</td>\n      <td>1</td>\n    </tr>\n    <tr>\n      <th>1</th>\n      <td>120</td>\n      <td>4</td>\n      <td>23</td>\n      <td>5</td>\n      <td>36</td>\n      <td>1.5</td>\n      <td>0</td>\n      <td>13.5</td>\n      <td>0</td>\n      <td>0</td>\n      <td>...</td>\n      <td>62</td>\n      <td>174</td>\n      <td>6</td>\n      <td>0</td>\n      <td>119</td>\n      <td>129</td>\n      <td>125</td>\n      <td>42</td>\n      <td>0</td>\n      <td>1</td>\n    </tr>\n    <tr>\n      <th>2</th>\n      <td>133</td>\n      <td>0</td>\n      <td>0</td>\n      <td>4</td>\n      <td>20</td>\n      <td>2.7</td>\n      <td>0</td>\n      <td>18.5</td>\n      <td>6</td>\n      <td>0</td>\n      <td>...</td>\n      <td>63</td>\n      <td>161</td>\n      <td>7</td>\n      <td>0</td>\n      <td>136</td>\n      <td>124</td>\n      <td>134</td>\n      <td>61</td>\n      <td>1</td>\n      <td>1</td>\n    </tr>\n    <tr>\n      <th>3</th>\n      <td>136</td>\n      <td>4</td>\n      <td>0</td>\n      <td>5</td>\n      <td>46</td>\n      <td>0.8</td>\n      <td>1</td>\n      <td>7.4</td>\n      <td>0</td>\n      <td>0</td>\n      <td>...</td>\n      <td>119</td>\n      <td>158</td>\n      <td>1</td>\n      <td>1</td>\n      <td>144</td>\n      <td>143</td>\n      <td>145</td>\n      <td>1</td>\n      <td>0</td>\n      <td>1</td>\n    </tr>\n    <tr>\n      <th>4</th>\n      <td>130</td>\n      <td>6</td>\n      <td>557</td>\n      <td>6</td>\n      <td>29</td>\n      <td>1.7</td>\n      <td>0</td>\n      <td>7.8</td>\n      <td>5</td>\n      <td>0</td>\n      <td>...</td>\n      <td>65</td>\n      <td>177</td>\n      <td>6</td>\n      <td>1</td>\n      <td>133</td>\n      <td>129</td>\n      <td>133</td>\n      <td>27</td>\n      <td>0</td>\n      <td>1</td>\n    </tr>\n  </tbody>\n</table>\n<p>5 rows × 22 columns</p>\n</div>"
     },
     "execution_count": 29,
     "metadata": {},
     "output_type": "execute_result"
    }
   ],
   "source": [
    "print(data.shape[1] - 1, 'features and', data.shape[0], 'training examples')\n",
    "data.head()"
   ]
  },
  {
   "cell_type": "code",
   "execution_count": 30,
   "outputs": [
    {
     "name": "stdout",
     "output_type": "stream",
     "text": [
      "21 features and 367 test examples\n"
     ]
    },
    {
     "data": {
      "text/plain": "    LB  AC  FM  UC  ASTV  MSTV  ALTV  MLTV  DL  DS  ...  Min  Max  Nmax  \\\n0  122   0   0   1    21   2.2     0  17.4   0   0  ...  104  143     4   \n1  125   8   8   6    21   2.3     0   4.3   8   0  ...   67  174     7   \n2  130   0  66   0    80   0.3     0   0.0   0   0  ...  107  136     1   \n3  125   0   1   8    62   1.7     0   1.1   7   0  ...   68  140     5   \n4  145   0   1   1    34   1.7     0  25.9   0   0  ...   57  166     5   \n\n   Nzeros  Mode  Mean  Median  Variance  Tendency  NSP  \n0       2   129   126     128         4         0  NaN  \n1       0   143   125     134        79         0  NaN  \n2       0   108   120     120        23        -1  NaN  \n3       0   130   116     125        29         1  NaN  \n4       1   150   147     150        10         1  NaN  \n\n[5 rows x 22 columns]",
      "text/html": "<div>\n<style scoped>\n    .dataframe tbody tr th:only-of-type {\n        vertical-align: middle;\n    }\n\n    .dataframe tbody tr th {\n        vertical-align: top;\n    }\n\n    .dataframe thead th {\n        text-align: right;\n    }\n</style>\n<table border=\"1\" class=\"dataframe\">\n  <thead>\n    <tr style=\"text-align: right;\">\n      <th></th>\n      <th>LB</th>\n      <th>AC</th>\n      <th>FM</th>\n      <th>UC</th>\n      <th>ASTV</th>\n      <th>MSTV</th>\n      <th>ALTV</th>\n      <th>MLTV</th>\n      <th>DL</th>\n      <th>DS</th>\n      <th>...</th>\n      <th>Min</th>\n      <th>Max</th>\n      <th>Nmax</th>\n      <th>Nzeros</th>\n      <th>Mode</th>\n      <th>Mean</th>\n      <th>Median</th>\n      <th>Variance</th>\n      <th>Tendency</th>\n      <th>NSP</th>\n    </tr>\n  </thead>\n  <tbody>\n    <tr>\n      <th>0</th>\n      <td>122</td>\n      <td>0</td>\n      <td>0</td>\n      <td>1</td>\n      <td>21</td>\n      <td>2.2</td>\n      <td>0</td>\n      <td>17.4</td>\n      <td>0</td>\n      <td>0</td>\n      <td>...</td>\n      <td>104</td>\n      <td>143</td>\n      <td>4</td>\n      <td>2</td>\n      <td>129</td>\n      <td>126</td>\n      <td>128</td>\n      <td>4</td>\n      <td>0</td>\n      <td>NaN</td>\n    </tr>\n    <tr>\n      <th>1</th>\n      <td>125</td>\n      <td>8</td>\n      <td>8</td>\n      <td>6</td>\n      <td>21</td>\n      <td>2.3</td>\n      <td>0</td>\n      <td>4.3</td>\n      <td>8</td>\n      <td>0</td>\n      <td>...</td>\n      <td>67</td>\n      <td>174</td>\n      <td>7</td>\n      <td>0</td>\n      <td>143</td>\n      <td>125</td>\n      <td>134</td>\n      <td>79</td>\n      <td>0</td>\n      <td>NaN</td>\n    </tr>\n    <tr>\n      <th>2</th>\n      <td>130</td>\n      <td>0</td>\n      <td>66</td>\n      <td>0</td>\n      <td>80</td>\n      <td>0.3</td>\n      <td>0</td>\n      <td>0.0</td>\n      <td>0</td>\n      <td>0</td>\n      <td>...</td>\n      <td>107</td>\n      <td>136</td>\n      <td>1</td>\n      <td>0</td>\n      <td>108</td>\n      <td>120</td>\n      <td>120</td>\n      <td>23</td>\n      <td>-1</td>\n      <td>NaN</td>\n    </tr>\n    <tr>\n      <th>3</th>\n      <td>125</td>\n      <td>0</td>\n      <td>1</td>\n      <td>8</td>\n      <td>62</td>\n      <td>1.7</td>\n      <td>0</td>\n      <td>1.1</td>\n      <td>7</td>\n      <td>0</td>\n      <td>...</td>\n      <td>68</td>\n      <td>140</td>\n      <td>5</td>\n      <td>0</td>\n      <td>130</td>\n      <td>116</td>\n      <td>125</td>\n      <td>29</td>\n      <td>1</td>\n      <td>NaN</td>\n    </tr>\n    <tr>\n      <th>4</th>\n      <td>145</td>\n      <td>0</td>\n      <td>1</td>\n      <td>1</td>\n      <td>34</td>\n      <td>1.7</td>\n      <td>0</td>\n      <td>25.9</td>\n      <td>0</td>\n      <td>0</td>\n      <td>...</td>\n      <td>57</td>\n      <td>166</td>\n      <td>5</td>\n      <td>1</td>\n      <td>150</td>\n      <td>147</td>\n      <td>150</td>\n      <td>10</td>\n      <td>1</td>\n      <td>NaN</td>\n    </tr>\n  </tbody>\n</table>\n<p>5 rows × 22 columns</p>\n</div>"
     },
     "execution_count": 30,
     "metadata": {},
     "output_type": "execute_result"
    }
   ],
   "source": [
    "data_test = pd.read_csv('C:/Users/luis3/PycharmProjects/LINKIT/ai_at_uni_ibm/hackaton/data/cardiotocography_test.csv')\n",
    "print(data.shape[1] - 1, 'features and', data_test.shape[0], 'test examples')\n",
    "data_test.head()"
   ],
   "metadata": {
    "collapsed": false,
    "pycharm": {
     "name": "#%%\n"
    }
   }
  },
  {
   "cell_type": "code",
   "execution_count": 32,
   "outputs": [
    {
     "data": {
      "text/plain": "<AxesSubplot:>"
     },
     "execution_count": 32,
     "metadata": {},
     "output_type": "execute_result"
    },
    {
     "data": {
      "text/plain": "<Figure size 432x288 with 1 Axes>",
      "image/png": "[encoded data removed]"
     },
     "metadata": {
      "needs_background": "light"
     },
     "output_type": "display_data"
    }
   ],
   "source": [
    "data[\"NSP\"].value_counts().plot(kind=\"bar\")"
   ],
   "metadata": {
    "collapsed": false,
    "pycharm": {
     "name": "#%%\n"
    }
   }
  },
  {
   "cell_type": "code",
   "execution_count": 33,
   "outputs": [
    {
     "data": {
      "text/plain": "<Figure size 720x504 with 2 Axes>",
      "image/png": "[encoded data removed]"
     },
     "metadata": {
      "needs_background": "light"
     },
     "output_type": "display_data"
    }
   ],
   "source": [
    "correlation_matrix = data.corr()\n",
    "fig = plt.figure(figsize=(10, 7))\n",
    "ax = plt.axes()\n",
    "ax = sns.heatmap(correlation_matrix, mask=np.zeros_like(correlation_matrix, dtype=np.bool), cmap=\"Blues\", square=True,\n",
    "                 ax=ax)\n",
    "plt.show()"
   ],
   "metadata": {
    "collapsed": false,
    "pycharm": {
     "name": "#%%\n"
    }
   }
  },
  {
   "cell_type": "code",
   "execution_count": 34,
   "outputs": [
    {
     "data": {
      "text/plain": "LB          0\nAC          0\nFM          0\nUC          0\nASTV        0\nMSTV        0\nALTV        0\nMLTV        0\nDL          0\nDS          0\nDP          0\nWidth       0\nMin         0\nMax         0\nNmax        0\nNzeros      0\nMode        0\nMean        0\nMedian      0\nVariance    0\nTendency    0\nNSP         0\ndtype: int64"
     },
     "execution_count": 34,
     "metadata": {},
     "output_type": "execute_result"
    }
   ],
   "source": [
    "data.isnull().sum()"
   ],
   "metadata": {
    "collapsed": false,
    "pycharm": {
     "name": "#%%\n"
    }
   }
  },
  {
   "cell_type": "code",
   "execution_count": 36,
   "outputs": [
    {
     "data": {
      "text/plain": "array([1, 3, 2], dtype=int64)"
     },
     "execution_count": 36,
     "metadata": {},
     "output_type": "execute_result"
    }
   ],
   "source": [
    "data_test.isnull().sum()"
   ],
   "metadata": {
    "collapsed": false,
    "pycharm": {
     "name": "#%%\n"
    }
   }
  },
  {
   "cell_type": "code",
   "execution_count": 37,
   "outputs": [
    {
     "data": {
      "text/plain": "       LB  AC   FM  UC  ASTV  MSTV  ALTV  MLTV  DL  DS  ...  Min  Max  Nmax  \\\n1464  120   0    0   0    73   0.5    43   2.4   0   0  ...   62  126     2   \n1465  151   0    0   1    64   1.9     9  27.6   1   0  ...   56  186     2   \n1466  150   0    0   1    64   2.0     8  29.5   1   0  ...   56  186     5   \n1467  131   1  251   2    18   2.4     0  13.9   3   0  ...   67  174     5   \n1468  132   0  162   1    29   4.4     0  10.5  10   0  ...   50  191     7   \n\n      Nzeros  Mode  Mean  Median  Variance  Tendency  NSP  \n1464       0   120   137     121        73         1    2  \n1465       0   150   148     151         9         1    2  \n1466       0   150   148     151        10         1    2  \n1467       0   134   125     132        45         0    2  \n1468       1   133   119     129        73         0    2  \n\n[5 rows x 22 columns]",
      "text/html": "<div>\n<style scoped>\n    .dataframe tbody tr th:only-of-type {\n        vertical-align: middle;\n    }\n\n    .dataframe tbody tr th {\n        vertical-align: top;\n    }\n\n    .dataframe thead th {\n        text-align: right;\n    }\n</style>\n<table border=\"1\" class=\"dataframe\">\n  <thead>\n    <tr style=\"text-align: right;\">\n      <th></th>\n      <th>LB</th>\n      <th>AC</th>\n      <th>FM</th>\n      <th>UC</th>\n      <th>ASTV</th>\n      <th>MSTV</th>\n      <th>ALTV</th>\n      <th>MLTV</th>\n      <th>DL</th>\n      <th>DS</th>\n      <th>...</th>\n      <th>Min</th>\n      <th>Max</th>\n      <th>Nmax</th>\n      <th>Nzeros</th>\n      <th>Mode</th>\n      <th>Mean</th>\n      <th>Median</th>\n      <th>Variance</th>\n      <th>Tendency</th>\n      <th>NSP</th>\n    </tr>\n  </thead>\n  <tbody>\n    <tr>\n      <th>1464</th>\n      <td>120</td>\n      <td>0</td>\n      <td>0</td>\n      <td>0</td>\n      <td>73</td>\n      <td>0.5</td>\n      <td>43</td>\n      <td>2.4</td>\n      <td>0</td>\n      <td>0</td>\n      <td>...</td>\n      <td>62</td>\n      <td>126</td>\n      <td>2</td>\n      <td>0</td>\n      <td>120</td>\n      <td>137</td>\n      <td>121</td>\n      <td>73</td>\n      <td>1</td>\n      <td>2</td>\n    </tr>\n    <tr>\n      <th>1465</th>\n      <td>151</td>\n      <td>0</td>\n      <td>0</td>\n      <td>1</td>\n      <td>64</td>\n      <td>1.9</td>\n      <td>9</td>\n      <td>27.6</td>\n      <td>1</td>\n      <td>0</td>\n      <td>...</td>\n      <td>56</td>\n      <td>186</td>\n      <td>2</td>\n      <td>0</td>\n      <td>150</td>\n      <td>148</td>\n      <td>151</td>\n      <td>9</td>\n      <td>1</td>\n      <td>2</td>\n    </tr>\n    <tr>\n      <th>1466</th>\n      <td>150</td>\n      <td>0</td>\n      <td>0</td>\n      <td>1</td>\n      <td>64</td>\n      <td>2.0</td>\n      <td>8</td>\n      <td>29.5</td>\n      <td>1</td>\n      <td>0</td>\n      <td>...</td>\n      <td>56</td>\n      <td>186</td>\n      <td>5</td>\n      <td>0</td>\n      <td>150</td>\n      <td>148</td>\n      <td>151</td>\n      <td>10</td>\n      <td>1</td>\n      <td>2</td>\n    </tr>\n    <tr>\n      <th>1467</th>\n      <td>131</td>\n      <td>1</td>\n      <td>251</td>\n      <td>2</td>\n      <td>18</td>\n      <td>2.4</td>\n      <td>0</td>\n      <td>13.9</td>\n      <td>3</td>\n      <td>0</td>\n      <td>...</td>\n      <td>67</td>\n      <td>174</td>\n      <td>5</td>\n      <td>0</td>\n      <td>134</td>\n      <td>125</td>\n      <td>132</td>\n      <td>45</td>\n      <td>0</td>\n      <td>2</td>\n    </tr>\n    <tr>\n      <th>1468</th>\n      <td>132</td>\n      <td>0</td>\n      <td>162</td>\n      <td>1</td>\n      <td>29</td>\n      <td>4.4</td>\n      <td>0</td>\n      <td>10.5</td>\n      <td>10</td>\n      <td>0</td>\n      <td>...</td>\n      <td>50</td>\n      <td>191</td>\n      <td>7</td>\n      <td>1</td>\n      <td>133</td>\n      <td>119</td>\n      <td>129</td>\n      <td>73</td>\n      <td>0</td>\n      <td>2</td>\n    </tr>\n  </tbody>\n</table>\n<p>5 rows × 22 columns</p>\n</div>"
     },
     "execution_count": 37,
     "metadata": {},
     "output_type": "execute_result"
    }
   ],
   "source": [
    "data_onlySuspect = data.loc[data[\"NSP\"] == 2]\n",
    "data_onlySuspect.head()"
   ],
   "metadata": {
    "collapsed": false,
    "pycharm": {
     "name": "#%%\n"
    }
   }
  },
  {
   "cell_type": "code",
   "execution_count": 39,
   "outputs": [],
   "source": [
    "from sklearn.neighbors import KNeighborsClassifier"
   ],
   "metadata": {
    "collapsed": false,
    "pycharm": {
     "name": "#%%\n"
    }
   }
  },
  {
   "cell_type": "code",
   "execution_count": 40,
   "outputs": [
    {
     "data": {
      "text/plain": "KNeighborsClassifier()"
     },
     "execution_count": 40,
     "metadata": {},
     "output_type": "execute_result"
    }
   ],
   "source": [
    "clf_nn = KNeighborsClassifier(n_neighbors=5)\n",
    "clf_nn"
   ],
   "metadata": {
    "collapsed": false,
    "pycharm": {
     "name": "#%%\n"
    }
   }
  },
  {
   "cell_type": "code",
   "execution_count": 42,
   "outputs": [],
   "source": [
    "X = data.drop([\"NSP\"], axis=1)\n",
    "y = data[\"NSP\"]"
   ],
   "metadata": {
    "collapsed": false,
    "pycharm": {
     "name": "#%%\n"
    }
   }
  },
  {
   "cell_type": "code",
   "execution_count": 43,
   "outputs": [
    {
     "data": {
      "text/plain": "KNeighborsClassifier()"
     },
     "execution_count": 43,
     "metadata": {},
     "output_type": "execute_result"
    }
   ],
   "source": [
    "clf_nn.fit(X, y)"
   ],
   "metadata": {
    "collapsed": false,
    "pycharm": {
     "name": "#%%\n"
    }
   }
  },
  {
   "cell_type": "code",
   "execution_count": 44,
   "outputs": [
    {
     "data": {
      "text/plain": "0.923820352472996"
     },
     "execution_count": 44,
     "metadata": {},
     "output_type": "execute_result"
    }
   ],
   "source": [
    "clf_nn.score(X, y)\n"
   ],
   "metadata": {
    "collapsed": false,
    "pycharm": {
     "name": "#%%\n"
    }
   }
  },
  {
   "cell_type": "code",
   "execution_count": null,
   "outputs": [],
   "source": [
    "data_withoutSuspect = data.loc[data[\"NSP\"] != 2]"
   ],
   "metadata": {
    "collapsed": false,
    "pycharm": {
     "name": "#%%\n"
    }
   }
  },
  {
   "cell_type": "code",
   "execution_count": 70,
   "outputs": [
    {
     "data": {
      "text/plain": "<AxesSubplot:>"
     },
     "execution_count": 70,
     "metadata": {},
     "output_type": "execute_result"
    },
    {
     "data": {
      "text/plain": "<Figure size 432x288 with 1 Axes>",
      "image/png": "[encoded data removed]"
     },
     "metadata": {
      "needs_background": "light"
     },
     "output_type": "display_data"
    }
   ],
   "source": [
    "X_withoutSuspect = data_withoutSuspect.drop([\"NSP\"], axis=1)\n",
    "\n",
    "y_withoutSuspect = data_withoutSuspect[\"NSP\"]\n",
    "\n",
    "clf_nn_wS = KNeighborsClassifier(n_neighbors=5)\n",
    "clf_nn_wS\n",
    "clf_nn_wS.fit(X_withoutSuspect, y_withoutSuspect)\n",
    "\n",
    "clf_nn_wS.score(X_withoutSuspect, y_withoutSuspect)\n",
    "\n",
    "final_model = clf_nn_wS.predict(data_test.drop([\"NSP\"], axis=1))\n",
    "final_model\n",
    "data_test_copy=data_test\n",
    "data_test_copy[\"NSP\"]=final_model\n",
    "data_test_copy.head()\n",
    "data_test_copy[\"NSP\"].value_counts().plot(kind=\"bar\")"
   ],
   "metadata": {
    "collapsed": false,
    "pycharm": {
     "name": "#%%\n"
    }
   }
  },
  {
   "cell_type": "code",
   "execution_count": 72,
   "outputs": [],
   "source": [
    "data_test_copy.to_csv(\"Cape_Town.csv\", sep=',', index=False)\n",
    "\n",
    "\n"
   ],
   "metadata": {
    "collapsed": false,
    "pycharm": {
     "name": "#%%\n"
    }
   }
  }
 ],
 "metadata": {
  "kernelspec": {
   "display_name": "Python 3",
   "language": "python",
   "name": "python3"
  },
  "language_info": {
   "codemirror_mode": {
    "name": "ipython",
    "version": 3
   },
   "file_extension": ".py",
   "mimetype": "text/x-python",
   "name": "python",
   "nbconvert_exporter": "python",
   "pygments_lexer": "ipython3",
   "version": "3.9.2"
  }
 },
 "nbformat": 4,
 "nbformat_minor": 1
}